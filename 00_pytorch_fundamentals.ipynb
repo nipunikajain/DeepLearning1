{
  "nbformat": 4,
  "nbformat_minor": 0,
  "metadata": {
    "colab": {
      "provenance": [],
      "authorship_tag": "ABX9TyNGkafypKduVc36rs/jzhND",
      "include_colab_link": true
    },
    "kernelspec": {
      "name": "python3",
      "display_name": "Python 3"
    },
    "language_info": {
      "name": "python"
    },
    "gpuClass": "standard"
  },
  "cells": [
    {
      "cell_type": "markdown",
      "metadata": {
        "id": "view-in-github",
        "colab_type": "text"
      },
      "source": [
        "<a href=\"https://colab.research.google.com/github/nipunikajain/DeepLearning1/blob/main/00_pytorch_fundamentals.ipynb\" target=\"_parent\"><img src=\"https://colab.research.google.com/assets/colab-badge.svg\" alt=\"Open In Colab\"/></a>"
      ]
    },
    {
      "cell_type": "markdown",
      "source": [
        "00. PyTorch Fundamentals"
      ],
      "metadata": {
        "id": "lpr5GdC_8MkH"
      }
    },
    {
      "cell_type": "code",
      "source": [
        "import torch\n",
        "import pandas as pd\n",
        "import numpy as np\n",
        "print(torch.__version__)"
      ],
      "metadata": {
        "colab": {
          "base_uri": "https://localhost:8080/"
        },
        "id": "fZieiRwo8GE-",
        "outputId": "7c3949f3-8ded-43ed-ae1b-d41c49aaa795"
      },
      "execution_count": 1,
      "outputs": [
        {
          "output_type": "stream",
          "name": "stdout",
          "text": [
            "1.13.1+cu116\n"
          ]
        }
      ]
    },
    {
      "cell_type": "markdown",
      "source": [
        "### Introduction to Tensors\n",
        "\n",
        "Creating Tensors\n",
        "\n",
        "Pytorch tensors are created using `torch.Tensor()` = https://pytorch.org/docs/stable/tensors.html\n"
      ],
      "metadata": {
        "id": "IfNwLOqR-Hwo"
      }
    },
    {
      "cell_type": "code",
      "source": [
        "# scalar\n",
        "\n",
        "scalar = torch.tensor(7)\n",
        "scalar"
      ],
      "metadata": {
        "colab": {
          "base_uri": "https://localhost:8080/"
        },
        "id": "1mfNFOLo1AmD",
        "outputId": "a1d760e2-0e43-4061-beb0-bc96039de81f"
      },
      "execution_count": 2,
      "outputs": [
        {
          "output_type": "execute_result",
          "data": {
            "text/plain": [
              "tensor(7)"
            ]
          },
          "metadata": {},
          "execution_count": 2
        }
      ]
    },
    {
      "cell_type": "code",
      "source": [
        "scalar\n"
      ],
      "metadata": {
        "colab": {
          "base_uri": "https://localhost:8080/"
        },
        "id": "KX46beh6Hm3z",
        "outputId": "ac676356-ed20-489e-8f0f-6356469a63dc"
      },
      "execution_count": 3,
      "outputs": [
        {
          "output_type": "execute_result",
          "data": {
            "text/plain": [
              "tensor(7)"
            ]
          },
          "metadata": {},
          "execution_count": 3
        }
      ]
    },
    {
      "cell_type": "code",
      "source": [
        "scalar.ndim\n",
        "## A scalar has no dimension"
      ],
      "metadata": {
        "colab": {
          "base_uri": "https://localhost:8080/"
        },
        "id": "dMQWGppf1Ajq",
        "outputId": "f0046326-f99d-425b-908a-cb2cfb230f66"
      },
      "execution_count": 4,
      "outputs": [
        {
          "output_type": "execute_result",
          "data": {
            "text/plain": [
              "0"
            ]
          },
          "metadata": {},
          "execution_count": 4
        }
      ]
    },
    {
      "cell_type": "code",
      "source": [
        "# Get tensor back as python int\n",
        "\n",
        "scalar.item()"
      ],
      "metadata": {
        "colab": {
          "base_uri": "https://localhost:8080/"
        },
        "id": "juXqSAze1AhK",
        "outputId": "c49afbc6-313c-4aae-fd1e-c3f8584e32e5"
      },
      "execution_count": 5,
      "outputs": [
        {
          "output_type": "execute_result",
          "data": {
            "text/plain": [
              "7"
            ]
          },
          "metadata": {},
          "execution_count": 5
        }
      ]
    },
    {
      "cell_type": "code",
      "source": [
        "vector = torch.tensor([7,7])\n",
        "vector"
      ],
      "metadata": {
        "colab": {
          "base_uri": "https://localhost:8080/"
        },
        "id": "BLv3JjGe1AeS",
        "outputId": "22ba92b3-5835-47a3-99f8-d8fdf046894e"
      },
      "execution_count": 6,
      "outputs": [
        {
          "output_type": "execute_result",
          "data": {
            "text/plain": [
              "tensor([7, 7])"
            ]
          },
          "metadata": {},
          "execution_count": 6
        }
      ]
    },
    {
      "cell_type": "code",
      "source": [
        "vector.ndim\n"
      ],
      "metadata": {
        "colab": {
          "base_uri": "https://localhost:8080/"
        },
        "id": "zKWMOrkI1Abw",
        "outputId": "71a88ebc-c064-4f89-e64a-e3bffb5996fa"
      },
      "execution_count": 7,
      "outputs": [
        {
          "output_type": "execute_result",
          "data": {
            "text/plain": [
              "1"
            ]
          },
          "metadata": {},
          "execution_count": 7
        }
      ]
    },
    {
      "cell_type": "code",
      "source": [
        "vector.shape"
      ],
      "metadata": {
        "colab": {
          "base_uri": "https://localhost:8080/"
        },
        "id": "d4HFAPL01AY7",
        "outputId": "562af635-5937-4d51-b772-1fac6af59c8d"
      },
      "execution_count": 8,
      "outputs": [
        {
          "output_type": "execute_result",
          "data": {
            "text/plain": [
              "torch.Size([2])"
            ]
          },
          "metadata": {},
          "execution_count": 8
        }
      ]
    },
    {
      "cell_type": "code",
      "source": [
        "# MATRIX\n",
        "\n",
        "MATRIX = torch.tensor([[7,8],\n",
        "                      [3,4]])\n",
        "\n",
        "MATRIX"
      ],
      "metadata": {
        "colab": {
          "base_uri": "https://localhost:8080/"
        },
        "id": "PKRjOPvE1AWS",
        "outputId": "5cac7511-bbba-4f23-c6a5-808ab518eec0"
      },
      "execution_count": 9,
      "outputs": [
        {
          "output_type": "execute_result",
          "data": {
            "text/plain": [
              "tensor([[7, 8],\n",
              "        [3, 4]])"
            ]
          },
          "metadata": {},
          "execution_count": 9
        }
      ]
    },
    {
      "cell_type": "code",
      "source": [
        "MATRIX.ndim"
      ],
      "metadata": {
        "colab": {
          "base_uri": "https://localhost:8080/"
        },
        "id": "mwFfs6lE1ATo",
        "outputId": "5b3df117-b8e4-42b9-a765-b7a7145c4575"
      },
      "execution_count": 10,
      "outputs": [
        {
          "output_type": "execute_result",
          "data": {
            "text/plain": [
              "2"
            ]
          },
          "metadata": {},
          "execution_count": 10
        }
      ]
    },
    {
      "cell_type": "code",
      "source": [
        "MATRIX[0]"
      ],
      "metadata": {
        "colab": {
          "base_uri": "https://localhost:8080/"
        },
        "id": "K7Svzr-P1AQy",
        "outputId": "acf6fa17-521f-4843-b8e8-002b35ad52ee"
      },
      "execution_count": 11,
      "outputs": [
        {
          "output_type": "execute_result",
          "data": {
            "text/plain": [
              "tensor([7, 8])"
            ]
          },
          "metadata": {},
          "execution_count": 11
        }
      ]
    },
    {
      "cell_type": "code",
      "source": [
        "MATRIX.shape\n"
      ],
      "metadata": {
        "colab": {
          "base_uri": "https://localhost:8080/"
        },
        "id": "DtWMmOvp1AOV",
        "outputId": "aee852b3-836e-4571-9fb7-72b09151e4a8"
      },
      "execution_count": 12,
      "outputs": [
        {
          "output_type": "execute_result",
          "data": {
            "text/plain": [
              "torch.Size([2, 2])"
            ]
          },
          "metadata": {},
          "execution_count": 12
        }
      ]
    },
    {
      "cell_type": "code",
      "source": [
        "# Tensor\n",
        "\n",
        "TENSOR = torch.tensor([[[1,3,4],\n",
        "                       [2,5,6],\n",
        "                       [3,7,8]]])\n",
        "\n",
        "TENSOR"
      ],
      "metadata": {
        "colab": {
          "base_uri": "https://localhost:8080/"
        },
        "id": "yEbeNfYA6E1l",
        "outputId": "67ed0b58-826b-4aa9-fdfb-0825a78c5d9b"
      },
      "execution_count": 13,
      "outputs": [
        {
          "output_type": "execute_result",
          "data": {
            "text/plain": [
              "tensor([[[1, 3, 4],\n",
              "         [2, 5, 6],\n",
              "         [3, 7, 8]]])"
            ]
          },
          "metadata": {},
          "execution_count": 13
        }
      ]
    },
    {
      "cell_type": "code",
      "source": [
        "TENSOR.ndim"
      ],
      "metadata": {
        "colab": {
          "base_uri": "https://localhost:8080/"
        },
        "id": "3oNxvYkE6EzK",
        "outputId": "1d43071a-e88f-42d5-b08b-ca7262f0a5ef"
      },
      "execution_count": 14,
      "outputs": [
        {
          "output_type": "execute_result",
          "data": {
            "text/plain": [
              "3"
            ]
          },
          "metadata": {},
          "execution_count": 14
        }
      ]
    },
    {
      "cell_type": "code",
      "source": [
        "TENSOR.shape"
      ],
      "metadata": {
        "colab": {
          "base_uri": "https://localhost:8080/"
        },
        "id": "TmtU5oyl6gSo",
        "outputId": "8750c648-82a9-4a1c-c3c5-c7a5f3f6cd2d"
      },
      "execution_count": 15,
      "outputs": [
        {
          "output_type": "execute_result",
          "data": {
            "text/plain": [
              "torch.Size([1, 3, 3])"
            ]
          },
          "metadata": {},
          "execution_count": 15
        }
      ]
    },
    {
      "cell_type": "code",
      "source": [
        "TENSOR[0]"
      ],
      "metadata": {
        "colab": {
          "base_uri": "https://localhost:8080/"
        },
        "id": "2yM6Fnti6gQA",
        "outputId": "ad5e5931-e027-42c0-dc15-36cef786b998"
      },
      "execution_count": 16,
      "outputs": [
        {
          "output_type": "execute_result",
          "data": {
            "text/plain": [
              "tensor([[1, 3, 4],\n",
              "        [2, 5, 6],\n",
              "        [3, 7, 8]])"
            ]
          },
          "metadata": {},
          "execution_count": 16
        }
      ]
    },
    {
      "cell_type": "code",
      "source": [
        "a = torch.tensor([[1],\n",
        "                  [1],\n",
        "                  [1],\n",
        "                  [1],\n",
        "                  [1]])"
      ],
      "metadata": {
        "id": "1HPxaxUo6gNj"
      },
      "execution_count": 17,
      "outputs": []
    },
    {
      "cell_type": "code",
      "source": [
        "a.ndim"
      ],
      "metadata": {
        "colab": {
          "base_uri": "https://localhost:8080/"
        },
        "id": "D_Xhx2bS6gKv",
        "outputId": "5d33e425-df55-43e1-ed2f-58db36c5191f"
      },
      "execution_count": 18,
      "outputs": [
        {
          "output_type": "execute_result",
          "data": {
            "text/plain": [
              "2"
            ]
          },
          "metadata": {},
          "execution_count": 18
        }
      ]
    },
    {
      "cell_type": "code",
      "source": [
        "a.shape"
      ],
      "metadata": {
        "colab": {
          "base_uri": "https://localhost:8080/"
        },
        "id": "R7dl5Jwf6gIg",
        "outputId": "8ea20104-2fb9-408e-cef1-9591083ddfa4"
      },
      "execution_count": 19,
      "outputs": [
        {
          "output_type": "execute_result",
          "data": {
            "text/plain": [
              "torch.Size([5, 1])"
            ]
          },
          "metadata": {},
          "execution_count": 19
        }
      ]
    },
    {
      "cell_type": "code",
      "source": [
        "a"
      ],
      "metadata": {
        "colab": {
          "base_uri": "https://localhost:8080/"
        },
        "id": "hVGIDGMn6gFq",
        "outputId": "cdb15c20-9788-47cb-ee5f-a547e4ad55dc"
      },
      "execution_count": 20,
      "outputs": [
        {
          "output_type": "execute_result",
          "data": {
            "text/plain": [
              "tensor([[1],\n",
              "        [1],\n",
              "        [1],\n",
              "        [1],\n",
              "        [1]])"
            ]
          },
          "metadata": {},
          "execution_count": 20
        }
      ]
    },
    {
      "cell_type": "markdown",
      "source": [
        "### Random Tensors\n",
        "\n",
        "Why random tensors?\n",
        "Random tensors are important because the way many NN learn is that they start with tensors full of random numbers and then adjust those random numbers to better represent the data.\n",
        "\n",
        "`Start with random numbers -> look at data -> update random numbers -> look at data -> update random numbers`\n",
        "Torch random tensors = https://pytorch.org/docs/stable/generated/torch.rand.html\n"
      ],
      "metadata": {
        "id": "q3xX5_QtB7-c"
      }
    },
    {
      "cell_type": "code",
      "source": [
        "### Create a random tensor of size (3,4)\n",
        "\n",
        "random_tensor = torch.rand(3,4)\n",
        "random_tensor"
      ],
      "metadata": {
        "colab": {
          "base_uri": "https://localhost:8080/"
        },
        "id": "cF0xxvC76gDB",
        "outputId": "16e7d62d-0cbf-4945-97cc-85bb74e7e86b"
      },
      "execution_count": 21,
      "outputs": [
        {
          "output_type": "execute_result",
          "data": {
            "text/plain": [
              "tensor([[0.2605, 0.4472, 0.5788, 0.7225],\n",
              "        [0.8708, 0.2408, 0.1428, 0.5920],\n",
              "        [0.2529, 0.9673, 0.0996, 0.6113]])"
            ]
          },
          "metadata": {},
          "execution_count": 21
        }
      ]
    },
    {
      "cell_type": "code",
      "source": [
        "# Create a random tensor with similar shape to an image tensor\n",
        "\n",
        "ranom_image_size_tensor = torch.rand(size= (224,224,3)) # height, width, color channels ( R,G,B )\n",
        "\n",
        "ranom_image_size_tensor.shape, ranom_image_size_tensor.ndim"
      ],
      "metadata": {
        "colab": {
          "base_uri": "https://localhost:8080/"
        },
        "id": "44cBA50U6gAZ",
        "outputId": "4e877ce6-f29f-45df-8f8c-570b1bcbef7f"
      },
      "execution_count": 22,
      "outputs": [
        {
          "output_type": "execute_result",
          "data": {
            "text/plain": [
              "(torch.Size([224, 224, 3]), 3)"
            ]
          },
          "metadata": {},
          "execution_count": 22
        }
      ]
    },
    {
      "cell_type": "code",
      "source": [
        "ranom_image_size_tensor.size()"
      ],
      "metadata": {
        "colab": {
          "base_uri": "https://localhost:8080/"
        },
        "id": "Mh2LPPfd6f9l",
        "outputId": "e5249d56-eb91-466d-ba3e-c0dce8f8114b"
      },
      "execution_count": 23,
      "outputs": [
        {
          "output_type": "execute_result",
          "data": {
            "text/plain": [
              "torch.Size([224, 224, 3])"
            ]
          },
          "metadata": {},
          "execution_count": 23
        }
      ]
    },
    {
      "cell_type": "markdown",
      "source": [
        "### Zeros and ones"
      ],
      "metadata": {
        "id": "rm8y9hf6IM4W"
      }
    },
    {
      "cell_type": "code",
      "source": [
        "# create a tensor of all zeros\n",
        "\n",
        "zeros = torch.zeros(size=(3,4))\n",
        "zeros\n"
      ],
      "metadata": {
        "id": "U7cqXfq96f7M",
        "colab": {
          "base_uri": "https://localhost:8080/"
        },
        "outputId": "6346f0b6-d79a-4921-e27f-3ec81a1ab6e9"
      },
      "execution_count": 24,
      "outputs": [
        {
          "output_type": "execute_result",
          "data": {
            "text/plain": [
              "tensor([[0., 0., 0., 0.],\n",
              "        [0., 0., 0., 0.],\n",
              "        [0., 0., 0., 0.]])"
            ]
          },
          "metadata": {},
          "execution_count": 24
        }
      ]
    },
    {
      "cell_type": "code",
      "source": [
        "# create a tensor of all ones\n",
        "\n",
        "ones = torch.ones( size = (3,4) )\n",
        "ones"
      ],
      "metadata": {
        "id": "_c20hSHc6f4m",
        "colab": {
          "base_uri": "https://localhost:8080/"
        },
        "outputId": "dccb97d5-dc24-4bd7-efab-661e6e1c3aeb"
      },
      "execution_count": 25,
      "outputs": [
        {
          "output_type": "execute_result",
          "data": {
            "text/plain": [
              "tensor([[1., 1., 1., 1.],\n",
              "        [1., 1., 1., 1.],\n",
              "        [1., 1., 1., 1.]])"
            ]
          },
          "metadata": {},
          "execution_count": 25
        }
      ]
    },
    {
      "cell_type": "code",
      "source": [
        "ones.dtype"
      ],
      "metadata": {
        "id": "iFVanXG96f2L",
        "colab": {
          "base_uri": "https://localhost:8080/"
        },
        "outputId": "d406eabb-421d-4949-dd88-65fc439563f9"
      },
      "execution_count": 26,
      "outputs": [
        {
          "output_type": "execute_result",
          "data": {
            "text/plain": [
              "torch.float32"
            ]
          },
          "metadata": {},
          "execution_count": 26
        }
      ]
    },
    {
      "cell_type": "markdown",
      "source": [
        "### Creating a range of tensors and tensors-like\n"
      ],
      "metadata": {
        "id": "BVJLq3UdIyKX"
      }
    },
    {
      "cell_type": "code",
      "source": [
        "# Use torch.arange()\n",
        "\n",
        "one_to_ten = torch.arange(start = 1,end = 11, step=1)\n",
        "one_to_ten"
      ],
      "metadata": {
        "id": "TROi6_RZ6fzX",
        "colab": {
          "base_uri": "https://localhost:8080/"
        },
        "outputId": "724d04b1-e807-4171-92d6-344c6d4ee27b"
      },
      "execution_count": 27,
      "outputs": [
        {
          "output_type": "execute_result",
          "data": {
            "text/plain": [
              "tensor([ 1,  2,  3,  4,  5,  6,  7,  8,  9, 10])"
            ]
          },
          "metadata": {},
          "execution_count": 27
        }
      ]
    },
    {
      "cell_type": "code",
      "source": [
        "# Creating tensors-like\n",
        "\n",
        "ten_zeros= torch.zeros_like(one_to_ten)\n",
        "ten_zeros"
      ],
      "metadata": {
        "id": "G1vpI3JD6fwu",
        "colab": {
          "base_uri": "https://localhost:8080/"
        },
        "outputId": "f518dd3d-144b-4583-b97c-60af83d1b485"
      },
      "execution_count": 28,
      "outputs": [
        {
          "output_type": "execute_result",
          "data": {
            "text/plain": [
              "tensor([0, 0, 0, 0, 0, 0, 0, 0, 0, 0])"
            ]
          },
          "metadata": {},
          "execution_count": 28
        }
      ]
    },
    {
      "cell_type": "markdown",
      "source": [
        "### Tensor Datatypes\n",
        "\n",
        "**NOTE:** Tensor Datatypes is one of the 3 big errors u'll run into with Pytorch and DL\n",
        "\n",
        "1. Tensors not right datatype\n",
        "2. Tensors not right shape\n",
        "3. Tensors not on the right device\n",
        "\n",
        "Precision in Computing:\n",
        "https://en.wikipedia.org/wiki/Precision_(computer_science)"
      ],
      "metadata": {
        "id": "BtjxgMt7MRiU"
      }
    },
    {
      "cell_type": "code",
      "source": [
        "# fLOAT 32 TENSOR\n",
        "\n",
        "float_32_tensor = torch.tensor([3.0,6.0,9.0],\n",
        "                               dtype = None, # what datatype is the tensor (eg: float32,float16)\n",
        "                               device = None, # what device is your tensor on\n",
        "                               requires_grad  = False) # whether or not to track gradients with this tensor operations\n",
        "\n",
        "float_32_tensor "
      ],
      "metadata": {
        "id": "SRHOoiF96fpS",
        "colab": {
          "base_uri": "https://localhost:8080/"
        },
        "outputId": "d361f6ed-d9dd-4952-e499-04357e5894ac"
      },
      "execution_count": 29,
      "outputs": [
        {
          "output_type": "execute_result",
          "data": {
            "text/plain": [
              "tensor([3., 6., 9.])"
            ]
          },
          "metadata": {},
          "execution_count": 29
        }
      ]
    },
    {
      "cell_type": "code",
      "source": [
        "float_32_tensor.dtype"
      ],
      "metadata": {
        "id": "0iDUeaZcCqQh",
        "colab": {
          "base_uri": "https://localhost:8080/"
        },
        "outputId": "d9d045ae-8b9a-41a8-f341-a0308c92dd2a"
      },
      "execution_count": 30,
      "outputs": [
        {
          "output_type": "execute_result",
          "data": {
            "text/plain": [
              "torch.float32"
            ]
          },
          "metadata": {},
          "execution_count": 30
        }
      ]
    },
    {
      "cell_type": "code",
      "source": [
        "float_16_tensor  = float_32_tensor.type(torch.float16)\n",
        "float_16_tensor"
      ],
      "metadata": {
        "id": "NLCnr55_CqOI",
        "colab": {
          "base_uri": "https://localhost:8080/"
        },
        "outputId": "1b0efc6c-5606-4dc7-f53e-b319e8a44cfd"
      },
      "execution_count": 31,
      "outputs": [
        {
          "output_type": "execute_result",
          "data": {
            "text/plain": [
              "tensor([3., 6., 9.], dtype=torch.float16)"
            ]
          },
          "metadata": {},
          "execution_count": 31
        }
      ]
    },
    {
      "cell_type": "code",
      "source": [
        "float_16_tensor * float_32_tensor"
      ],
      "metadata": {
        "id": "69xT-ptTCqL-",
        "colab": {
          "base_uri": "https://localhost:8080/"
        },
        "outputId": "46aff2a2-8f5d-444f-fb38-8fb87dfce85d"
      },
      "execution_count": 32,
      "outputs": [
        {
          "output_type": "execute_result",
          "data": {
            "text/plain": [
              "tensor([ 9., 36., 81.])"
            ]
          },
          "metadata": {},
          "execution_count": 32
        }
      ]
    },
    {
      "cell_type": "code",
      "source": [
        "int_32_tensor = torch.tensor([3,4,4], dtype = torch.long)\n",
        "int_32_tensor"
      ],
      "metadata": {
        "id": "_VxOyApFCqJW",
        "colab": {
          "base_uri": "https://localhost:8080/"
        },
        "outputId": "bfe547f1-0b6a-4bad-c568-c6211bd04fba"
      },
      "execution_count": 33,
      "outputs": [
        {
          "output_type": "execute_result",
          "data": {
            "text/plain": [
              "tensor([3, 4, 4])"
            ]
          },
          "metadata": {},
          "execution_count": 33
        }
      ]
    },
    {
      "cell_type": "code",
      "source": [
        "float_32_tensor * int_32_tensor"
      ],
      "metadata": {
        "colab": {
          "base_uri": "https://localhost:8080/"
        },
        "id": "PvxY7h1dMKLS",
        "outputId": "a9257461-3a2e-4328-8035-24c45d39587b"
      },
      "execution_count": 34,
      "outputs": [
        {
          "output_type": "execute_result",
          "data": {
            "text/plain": [
              "tensor([ 9., 24., 36.])"
            ]
          },
          "metadata": {},
          "execution_count": 34
        }
      ]
    },
    {
      "cell_type": "markdown",
      "source": [
        "### Getting information from tensors\n",
        "\n",
        "1. Tensors not right datatype - to get datatype from a tensor, can use `tensor.dtype`\n",
        "2. Tensors not right shape - `tensor.shape`\n",
        "3. Tensors not on the right device - `tensor.device`"
      ],
      "metadata": {
        "id": "P-8SUGImRpNb"
      }
    },
    {
      "cell_type": "code",
      "source": [
        "# Create a tensor\n",
        "\n",
        "some_tensor = torch.rand(3,4)\n",
        "some_tensor"
      ],
      "metadata": {
        "colab": {
          "base_uri": "https://localhost:8080/"
        },
        "id": "txFD1GJxMKIs",
        "outputId": "3fd94731-1929-4f4d-dd14-93b7fd740a08"
      },
      "execution_count": 35,
      "outputs": [
        {
          "output_type": "execute_result",
          "data": {
            "text/plain": [
              "tensor([[0.0161, 0.6913, 0.6692, 0.5980],\n",
              "        [0.8281, 0.3127, 0.9325, 0.1455],\n",
              "        [0.3409, 0.1247, 0.4000, 0.1843]])"
            ]
          },
          "metadata": {},
          "execution_count": 35
        }
      ]
    },
    {
      "cell_type": "code",
      "source": [
        "# find out details about some_tensor\n",
        "\n",
        "print(some_tensor)\n",
        "print(f\"Datatype of Tensor:\", some_tensor.dtype)\n",
        "print(f\"Shape of Tensor:\", some_tensor.shape)\n",
        "print(f\"Device of Tensor:\", some_tensor.device)"
      ],
      "metadata": {
        "colab": {
          "base_uri": "https://localhost:8080/"
        },
        "id": "jsqtDZpQMKGR",
        "outputId": "175c538f-224f-4c4b-8ecc-b1cdfe7373a2"
      },
      "execution_count": 36,
      "outputs": [
        {
          "output_type": "stream",
          "name": "stdout",
          "text": [
            "tensor([[0.0161, 0.6913, 0.6692, 0.5980],\n",
            "        [0.8281, 0.3127, 0.9325, 0.1455],\n",
            "        [0.3409, 0.1247, 0.4000, 0.1843]])\n",
            "Datatype of Tensor: torch.float32\n",
            "Shape of Tensor: torch.Size([3, 4])\n",
            "Device of Tensor: cpu\n"
          ]
        }
      ]
    },
    {
      "cell_type": "code",
      "source": [
        "x = torch.rand([2,3],dtype= torch.float64)\n",
        "x"
      ],
      "metadata": {
        "colab": {
          "base_uri": "https://localhost:8080/"
        },
        "id": "gZCWbkVdMKDy",
        "outputId": "78ac2ee5-4197-4b29-ab18-bbfe9184453f"
      },
      "execution_count": 37,
      "outputs": [
        {
          "output_type": "execute_result",
          "data": {
            "text/plain": [
              "tensor([[0.0591, 0.8897, 0.7105],\n",
              "        [0.8452, 0.4879, 0.0795]], dtype=torch.float64)"
            ]
          },
          "metadata": {},
          "execution_count": 37
        }
      ]
    },
    {
      "cell_type": "code",
      "source": [
        "print(x)\n",
        "print(f\"Datatype of Tensor:\", x.dtype)\n",
        "print(f\"Shape of Tensor:\", x.shape)\n",
        "print(f\"Device of Tensor:\", x.device)"
      ],
      "metadata": {
        "colab": {
          "base_uri": "https://localhost:8080/"
        },
        "id": "L24Kh_GXMKBb",
        "outputId": "dac64ea1-5de1-4992-b9ab-949dcbbcffe7"
      },
      "execution_count": 38,
      "outputs": [
        {
          "output_type": "stream",
          "name": "stdout",
          "text": [
            "tensor([[0.0591, 0.8897, 0.7105],\n",
            "        [0.8452, 0.4879, 0.0795]], dtype=torch.float64)\n",
            "Datatype of Tensor: torch.float64\n",
            "Shape of Tensor: torch.Size([2, 3])\n",
            "Device of Tensor: cpu\n"
          ]
        }
      ]
    },
    {
      "cell_type": "markdown",
      "source": [
        "### Manipulating Tensors (tensor operations)\n",
        "\n",
        "Tensor operations include:\n",
        "* Addition\n",
        "* Subtraction\n",
        "* Multiplication \n",
        "* Division\n",
        "* Matrix multiplication"
      ],
      "metadata": {
        "id": "gPuWAQvY4nVS"
      }
    },
    {
      "cell_type": "code",
      "source": [
        "# create a tensor and add 10 to it\n",
        "\n",
        "tensor = torch.tensor([1,2,3])\n",
        "\n",
        "tensor + 10"
      ],
      "metadata": {
        "id": "_JymFgUdMJ_H",
        "colab": {
          "base_uri": "https://localhost:8080/"
        },
        "outputId": "d26997ee-abf2-4193-bc31-b749e753e67e"
      },
      "execution_count": 39,
      "outputs": [
        {
          "output_type": "execute_result",
          "data": {
            "text/plain": [
              "tensor([11, 12, 13])"
            ]
          },
          "metadata": {},
          "execution_count": 39
        }
      ]
    },
    {
      "cell_type": "markdown",
      "source": [
        "### Matrix Multiplication\n",
        "\n",
        "Two main ways of performing multiplication in NN and Deep learning:\n",
        "1. Element-wise multiplication\n",
        "2. Matrix multiplication ( dot product )\n",
        "\n",
        "There are two main rules that performing matrix multiplication needs to satisfy:\n",
        "\n",
        "1. The **inner dimensions** must match:\n",
        "* `(3,2) @ (3,2)` wont work\n",
        "* `(2,3) @ (3,2)` will work\n",
        "* `(3,2) @ (2,3)` will work\n",
        "\n",
        "2. The resulting matrix has the shape of the **outer dimensions**:\n",
        "\n",
        "* `(2,3) @ (3,2)` -> `(2,2)`\n",
        "* `(3,2) @ (2,3)` -> `(3,3)`"
      ],
      "metadata": {
        "id": "owtd_W6M5y3m"
      }
    },
    {
      "cell_type": "code",
      "source": [
        "# Element wise multiplication\n",
        "\n",
        "print(tensor, \"*\", tensor)\n",
        "print(\"Equals:\", tensor*tensor)"
      ],
      "metadata": {
        "id": "zC5_7fqLMJ9G",
        "colab": {
          "base_uri": "https://localhost:8080/"
        },
        "outputId": "b76276d4-ff7f-46fd-da9b-5010671797b2"
      },
      "execution_count": 42,
      "outputs": [
        {
          "output_type": "stream",
          "name": "stdout",
          "text": [
            "tensor([1, 2, 3]) * tensor([1, 2, 3])\n",
            "Equals: tensor([1, 4, 9])\n"
          ]
        }
      ]
    },
    {
      "cell_type": "code",
      "source": [
        "torch.matmul(tensor, tensor)"
      ],
      "metadata": {
        "id": "1B0fwL2CMJ6q",
        "colab": {
          "base_uri": "https://localhost:8080/"
        },
        "outputId": "6a87e18b-3cba-46a9-c73c-68db67aa6787"
      },
      "execution_count": 43,
      "outputs": [
        {
          "output_type": "execute_result",
          "data": {
            "text/plain": [
              "tensor(14)"
            ]
          },
          "metadata": {},
          "execution_count": 43
        }
      ]
    },
    {
      "cell_type": "markdown",
      "source": [
        "### One of the most common errors in DL : Shape Errors"
      ],
      "metadata": {
        "id": "CMIC7sHFCF8c"
      }
    },
    {
      "cell_type": "code",
      "source": [
        "# Shapes for matrix multiplication\n",
        "tensor_A = torch.tensor([[1,2],\n",
        "                         [3,4],\n",
        "                         [5,6]])\n",
        "\n",
        "tensor_B = torch.tensor([[7,10],\n",
        "                         [8,11],\n",
        "                         [9,12]])\n",
        "\n",
        "\n",
        "\n"
      ],
      "metadata": {
        "id": "0-9qSfdaMJ2P"
      },
      "execution_count": 48,
      "outputs": []
    },
    {
      "cell_type": "markdown",
      "source": [
        "To fix tensor shape issues we can manipulate the shape using **transpose**\n",
        "\n"
      ],
      "metadata": {
        "id": "l8_ZNRdvFFaL"
      }
    },
    {
      "cell_type": "code",
      "source": [
        "output = torch.matmul(tensor_A, tensor_B.T)"
      ],
      "metadata": {
        "id": "B8t1L3odMJs6"
      },
      "execution_count": 51,
      "outputs": []
    },
    {
      "cell_type": "markdown",
      "source": [
        "### Finding the min, max, mean, sum ( tensor aggregation )"
      ],
      "metadata": {
        "id": "jSzwL8ewH_6m"
      }
    },
    {
      "cell_type": "code",
      "source": [
        "# create a tensor\n",
        "\n",
        "x = torch.arange(0,100,10)\n",
        "\n",
        "x"
      ],
      "metadata": {
        "id": "EiseNNeGMJqb",
        "colab": {
          "base_uri": "https://localhost:8080/"
        },
        "outputId": "fc0691a3-1a00-4766-a3f9-af32df33c885"
      },
      "execution_count": 52,
      "outputs": [
        {
          "output_type": "execute_result",
          "data": {
            "text/plain": [
              "tensor([ 0, 10, 20, 30, 40, 50, 60, 70, 80, 90])"
            ]
          },
          "metadata": {},
          "execution_count": 52
        }
      ]
    },
    {
      "cell_type": "code",
      "source": [
        "torch.min(x)"
      ],
      "metadata": {
        "colab": {
          "base_uri": "https://localhost:8080/"
        },
        "id": "TxvmUvN_IQuh",
        "outputId": "18aaf314-0cb6-4a3f-cc9c-21f9c64a39ea"
      },
      "execution_count": 53,
      "outputs": [
        {
          "output_type": "execute_result",
          "data": {
            "text/plain": [
              "tensor(0)"
            ]
          },
          "metadata": {},
          "execution_count": 53
        }
      ]
    },
    {
      "cell_type": "code",
      "source": [
        "# Find the max\n",
        "\n",
        "torch.max(x)"
      ],
      "metadata": {
        "colab": {
          "base_uri": "https://localhost:8080/"
        },
        "id": "n9Sc3bm94_Ss",
        "outputId": "3d57b8b0-aa94-4250-9395-b72561c51463"
      },
      "execution_count": 54,
      "outputs": [
        {
          "output_type": "execute_result",
          "data": {
            "text/plain": [
              "tensor(90)"
            ]
          },
          "metadata": {},
          "execution_count": 54
        }
      ]
    },
    {
      "cell_type": "code",
      "source": [
        "# Find the mean - note: torch.mean function requires tensor of float32 datatype to work\n",
        "\n",
        "torch.mean(x.type(torch.float32))"
      ],
      "metadata": {
        "colab": {
          "base_uri": "https://localhost:8080/"
        },
        "id": "tLGdVwIj4_QK",
        "outputId": "52bf31b2-54d0-4f04-b896-ca75eff2adc0"
      },
      "execution_count": 57,
      "outputs": [
        {
          "output_type": "execute_result",
          "data": {
            "text/plain": [
              "tensor(45.)"
            ]
          },
          "metadata": {},
          "execution_count": 57
        }
      ]
    },
    {
      "cell_type": "code",
      "source": [
        "# Find the sum\n",
        "\n",
        "torch.sum(x), x.sum()"
      ],
      "metadata": {
        "colab": {
          "base_uri": "https://localhost:8080/"
        },
        "id": "PRW0mSm24_Nz",
        "outputId": "52ce1be1-fa97-4631-eab6-963847b96998"
      },
      "execution_count": 58,
      "outputs": [
        {
          "output_type": "execute_result",
          "data": {
            "text/plain": [
              "(tensor(450), tensor(450))"
            ]
          },
          "metadata": {},
          "execution_count": 58
        }
      ]
    },
    {
      "cell_type": "code",
      "source": [
        "torch.argmax(x)"
      ],
      "metadata": {
        "colab": {
          "base_uri": "https://localhost:8080/"
        },
        "id": "zNNisGNo4_Lb",
        "outputId": "1f710d97-af28-4711-8c2f-c892ba7cbd23"
      },
      "execution_count": 60,
      "outputs": [
        {
          "output_type": "execute_result",
          "data": {
            "text/plain": [
              "tensor(9)"
            ]
          },
          "metadata": {},
          "execution_count": 60
        }
      ]
    },
    {
      "cell_type": "markdown",
      "source": [
        "## Reshaping, stacking, squeezing and unsqueezing\n",
        "\n",
        "* Reshaping - reshapes an input tensor to a defined shape\n",
        "* View - Return a view of an input tensor of certain shape but keep the same memory as the original tensor\n",
        "*  Stacking - combine multiple tensors on the top of each other, hstack and vstack\n",
        "* Squeeze - removes all `1` dimensions from a tensor\n",
        "* Unsqueeze -  add a `1` dimension to a target tensor\n",
        "* Permute - Return a view of the input with dimensions permuted (swapped) in a certain way"
      ],
      "metadata": {
        "id": "FnXzCrEOKm5y"
      }
    },
    {
      "cell_type": "code",
      "source": [
        "# create a tensor\n",
        "\n",
        "x = torch.arange(1.,10.)\n",
        "\n",
        "x, x.shape"
      ],
      "metadata": {
        "colab": {
          "base_uri": "https://localhost:8080/"
        },
        "id": "qkqhEGak4_JB",
        "outputId": "3bbf3a8c-35a4-4bda-bc59-1e51c66d0bd9"
      },
      "execution_count": 75,
      "outputs": [
        {
          "output_type": "execute_result",
          "data": {
            "text/plain": [
              "(tensor([1., 2., 3., 4., 5., 6., 7., 8., 9.]), torch.Size([9]))"
            ]
          },
          "metadata": {},
          "execution_count": 75
        }
      ]
    },
    {
      "cell_type": "code",
      "source": [
        "# Add an extra dimension\n",
        "\n",
        "x_reshaped = x.reshape(1,9)\n",
        "x_reshaped, x_reshaped.shape"
      ],
      "metadata": {
        "colab": {
          "base_uri": "https://localhost:8080/"
        },
        "id": "z4VvSCXv4_Go",
        "outputId": "8c695f7c-ad93-4071-d6da-fe15f59f35a2"
      },
      "execution_count": 76,
      "outputs": [
        {
          "output_type": "execute_result",
          "data": {
            "text/plain": [
              "(tensor([[1., 2., 3., 4., 5., 6., 7., 8., 9.]]), torch.Size([1, 9]))"
            ]
          },
          "metadata": {},
          "execution_count": 76
        }
      ]
    },
    {
      "cell_type": "code",
      "source": [
        "# Change the view \n",
        "\n",
        "z = x.view(1,9)\n",
        "z, z.shape"
      ],
      "metadata": {
        "colab": {
          "base_uri": "https://localhost:8080/"
        },
        "id": "QI9KlR7SI_JR",
        "outputId": "a14238ef-1045-4e0c-ed0a-110d9e97dadc"
      },
      "execution_count": 77,
      "outputs": [
        {
          "output_type": "execute_result",
          "data": {
            "text/plain": [
              "(tensor([[1., 2., 3., 4., 5., 6., 7., 8., 9.]]), torch.Size([1, 9]))"
            ]
          },
          "metadata": {},
          "execution_count": 77
        }
      ]
    },
    {
      "cell_type": "code",
      "source": [
        "# changing z changes x ( becoz the view of a tensor shares the same memory as the original input)\n",
        "\n",
        "z[:,0] = 5\n",
        "\n",
        "z,x"
      ],
      "metadata": {
        "colab": {
          "base_uri": "https://localhost:8080/"
        },
        "id": "ugAJOvn1I_HK",
        "outputId": "d4bdf980-ef29-45f9-a8e1-55c0214e1c14"
      },
      "execution_count": 79,
      "outputs": [
        {
          "output_type": "execute_result",
          "data": {
            "text/plain": [
              "(tensor([[5., 2., 3., 4., 5., 6., 7., 8., 9.]]),\n",
              " tensor([5., 2., 3., 4., 5., 6., 7., 8., 9.]))"
            ]
          },
          "metadata": {},
          "execution_count": 79
        }
      ]
    },
    {
      "cell_type": "code",
      "source": [
        "# Stack tensors on top of each other\n",
        "\n"
      ],
      "metadata": {
        "id": "C9Jq2DRTI_Cy"
      },
      "execution_count": null,
      "outputs": []
    },
    {
      "cell_type": "code",
      "source": [],
      "metadata": {
        "id": "GbKykYVAI_Ac"
      },
      "execution_count": null,
      "outputs": []
    },
    {
      "cell_type": "code",
      "source": [],
      "metadata": {
        "id": "RSU-s5TII-9_"
      },
      "execution_count": null,
      "outputs": []
    },
    {
      "cell_type": "code",
      "source": [],
      "metadata": {
        "id": "g1u_u3q5MUDO"
      },
      "execution_count": null,
      "outputs": []
    },
    {
      "cell_type": "code",
      "source": [],
      "metadata": {
        "id": "HVO8pUe-MUBH"
      },
      "execution_count": null,
      "outputs": []
    },
    {
      "cell_type": "code",
      "source": [],
      "metadata": {
        "id": "XsL05ANLMT_B"
      },
      "execution_count": null,
      "outputs": []
    }
  ]
}