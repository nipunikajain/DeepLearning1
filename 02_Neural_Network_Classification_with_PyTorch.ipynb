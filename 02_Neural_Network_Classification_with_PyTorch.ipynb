{
  "nbformat": 4,
  "nbformat_minor": 0,
  "metadata": {
    "colab": {
      "provenance": [],
      "authorship_tag": "ABX9TyPrxgNDqxPrinw55BhxabZC",
      "include_colab_link": true
    },
    "kernelspec": {
      "name": "python3",
      "display_name": "Python 3"
    },
    "language_info": {
      "name": "python"
    },
    "accelerator": "GPU",
    "gpuClass": "standard"
  },
  "cells": [
    {
      "cell_type": "markdown",
      "metadata": {
        "id": "view-in-github",
        "colab_type": "text"
      },
      "source": [
        "<a href=\"https://colab.research.google.com/github/nipunikajain/DeepLearning1/blob/main/02_Neural_Network_Classification_with_PyTorch.ipynb\" target=\"_parent\"><img src=\"https://colab.research.google.com/assets/colab-badge.svg\" alt=\"Open In Colab\"/></a>"
      ]
    },
    {
      "cell_type": "markdown",
      "source": [
        "### What are we going to cover\n",
        "1. Architecture of a NN classification model\n",
        "2. Inout shapes and output shapes of a classification model (features and labels)\n",
        "3. Creating custom data to view, fit on and predict on\n",
        "4. Steps in modelling\n",
        "  - Creating a model, setting a loss function and optimiser, creating a training loop and evaluating a model\n",
        "5. Saving and loading models\n",
        "6. Harnessing the power of non-linearity\n",
        "7. Different classification evaluation methods"
      ],
      "metadata": {
        "id": "klD8yTlQZpxD"
      }
    },
    {
      "cell_type": "markdown",
      "source": [
        "# 02. NN classification with PyTorch\n",
        "Classification is a problem of predicting whether something is one thing or another (there can be multiple things as the options).\n",
        "\n",
        "\n",
        "Book version for PyTorch course: https://www.learnpytorch.io/02_pytorch_classification/\n"
      ],
      "metadata": {
        "id": "bUEJorX2ZvF8"
      }
    },
    {
      "cell_type": "markdown",
      "source": [
        "## 1. Make classification data and get it ready"
      ],
      "metadata": {
        "id": "fx_Ahh5BZvDa"
      }
    },
    {
      "cell_type": "code",
      "source": [
        "import sklearn\n",
        "import torch"
      ],
      "metadata": {
        "id": "Re15NSyTZ8B1"
      },
      "execution_count": 2,
      "outputs": []
    },
    {
      "cell_type": "code",
      "source": [
        "from sklearn.datasets import make_circles\n",
        "\n",
        "# Make 1000 samples\n",
        "\n",
        "n_samples = 1000\n",
        "\n",
        "# Create circles\n",
        "X,y = make_circles(n_samples,\n",
        "                   noise=0.03,\n",
        "                   random_state=42)"
      ],
      "metadata": {
        "id": "-kUvCG_QZvBD"
      },
      "execution_count": 3,
      "outputs": []
    },
    {
      "cell_type": "code",
      "source": [
        "len(X), len(y)"
      ],
      "metadata": {
        "colab": {
          "base_uri": "https://localhost:8080/"
        },
        "id": "WPVueRlUZu-V",
        "outputId": "fab0093e-3806-40fa-bcd3-738924986858"
      },
      "execution_count": 4,
      "outputs": [
        {
          "output_type": "execute_result",
          "data": {
            "text/plain": [
              "(1000, 1000)"
            ]
          },
          "metadata": {},
          "execution_count": 4
        }
      ]
    },
    {
      "cell_type": "code",
      "source": [
        "print(\"First 5 samples of X \\n\", X[:5])\n",
        "print(\"First 5 samples of y \\n\", y[:5])"
      ],
      "metadata": {
        "colab": {
          "base_uri": "https://localhost:8080/"
        },
        "id": "QPKK_BbCZu7u",
        "outputId": "0be7da4c-ac87-430e-8260-82b3748d365d"
      },
      "execution_count": 5,
      "outputs": [
        {
          "output_type": "stream",
          "name": "stdout",
          "text": [
            "First 5 samples of X \n",
            " [[ 0.75424625  0.23148074]\n",
            " [-0.75615888  0.15325888]\n",
            " [-0.81539193  0.17328203]\n",
            " [-0.39373073  0.69288277]\n",
            " [ 0.44220765 -0.89672343]]\n",
            "First 5 samples of y \n",
            " [1 1 1 1 0]\n"
          ]
        }
      ]
    },
    {
      "cell_type": "code",
      "source": [
        "# Make dataframe of circle data\n",
        "import pandas as pd\n",
        "\n",
        "circles = pd.DataFrame({\"X1\" : X[:,0],\n",
        "                        \"X2\" : X[:,1],\n",
        "                       \"label\": y})\n",
        "\n",
        "circles.head(10)"
      ],
      "metadata": {
        "colab": {
          "base_uri": "https://localhost:8080/",
          "height": 363
        },
        "id": "_7xTqtUMZu5K",
        "outputId": "eb4b134d-de1c-4800-c040-33fc31af3e05"
      },
      "execution_count": 6,
      "outputs": [
        {
          "output_type": "execute_result",
          "data": {
            "text/plain": [
              "         X1        X2  label\n",
              "0  0.754246  0.231481      1\n",
              "1 -0.756159  0.153259      1\n",
              "2 -0.815392  0.173282      1\n",
              "3 -0.393731  0.692883      1\n",
              "4  0.442208 -0.896723      0\n",
              "5 -0.479646  0.676435      1\n",
              "6 -0.013648  0.803349      1\n",
              "7  0.771513  0.147760      1\n",
              "8 -0.169322 -0.793456      1\n",
              "9 -0.121486  1.021509      0"
            ],
            "text/html": [
              "\n",
              "  <div id=\"df-72fc05e3-37bb-418e-919c-110976573169\">\n",
              "    <div class=\"colab-df-container\">\n",
              "      <div>\n",
              "<style scoped>\n",
              "    .dataframe tbody tr th:only-of-type {\n",
              "        vertical-align: middle;\n",
              "    }\n",
              "\n",
              "    .dataframe tbody tr th {\n",
              "        vertical-align: top;\n",
              "    }\n",
              "\n",
              "    .dataframe thead th {\n",
              "        text-align: right;\n",
              "    }\n",
              "</style>\n",
              "<table border=\"1\" class=\"dataframe\">\n",
              "  <thead>\n",
              "    <tr style=\"text-align: right;\">\n",
              "      <th></th>\n",
              "      <th>X1</th>\n",
              "      <th>X2</th>\n",
              "      <th>label</th>\n",
              "    </tr>\n",
              "  </thead>\n",
              "  <tbody>\n",
              "    <tr>\n",
              "      <th>0</th>\n",
              "      <td>0.754246</td>\n",
              "      <td>0.231481</td>\n",
              "      <td>1</td>\n",
              "    </tr>\n",
              "    <tr>\n",
              "      <th>1</th>\n",
              "      <td>-0.756159</td>\n",
              "      <td>0.153259</td>\n",
              "      <td>1</td>\n",
              "    </tr>\n",
              "    <tr>\n",
              "      <th>2</th>\n",
              "      <td>-0.815392</td>\n",
              "      <td>0.173282</td>\n",
              "      <td>1</td>\n",
              "    </tr>\n",
              "    <tr>\n",
              "      <th>3</th>\n",
              "      <td>-0.393731</td>\n",
              "      <td>0.692883</td>\n",
              "      <td>1</td>\n",
              "    </tr>\n",
              "    <tr>\n",
              "      <th>4</th>\n",
              "      <td>0.442208</td>\n",
              "      <td>-0.896723</td>\n",
              "      <td>0</td>\n",
              "    </tr>\n",
              "    <tr>\n",
              "      <th>5</th>\n",
              "      <td>-0.479646</td>\n",
              "      <td>0.676435</td>\n",
              "      <td>1</td>\n",
              "    </tr>\n",
              "    <tr>\n",
              "      <th>6</th>\n",
              "      <td>-0.013648</td>\n",
              "      <td>0.803349</td>\n",
              "      <td>1</td>\n",
              "    </tr>\n",
              "    <tr>\n",
              "      <th>7</th>\n",
              "      <td>0.771513</td>\n",
              "      <td>0.147760</td>\n",
              "      <td>1</td>\n",
              "    </tr>\n",
              "    <tr>\n",
              "      <th>8</th>\n",
              "      <td>-0.169322</td>\n",
              "      <td>-0.793456</td>\n",
              "      <td>1</td>\n",
              "    </tr>\n",
              "    <tr>\n",
              "      <th>9</th>\n",
              "      <td>-0.121486</td>\n",
              "      <td>1.021509</td>\n",
              "      <td>0</td>\n",
              "    </tr>\n",
              "  </tbody>\n",
              "</table>\n",
              "</div>\n",
              "      <button class=\"colab-df-convert\" onclick=\"convertToInteractive('df-72fc05e3-37bb-418e-919c-110976573169')\"\n",
              "              title=\"Convert this dataframe to an interactive table.\"\n",
              "              style=\"display:none;\">\n",
              "        \n",
              "  <svg xmlns=\"http://www.w3.org/2000/svg\" height=\"24px\"viewBox=\"0 0 24 24\"\n",
              "       width=\"24px\">\n",
              "    <path d=\"M0 0h24v24H0V0z\" fill=\"none\"/>\n",
              "    <path d=\"M18.56 5.44l.94 2.06.94-2.06 2.06-.94-2.06-.94-.94-2.06-.94 2.06-2.06.94zm-11 1L8.5 8.5l.94-2.06 2.06-.94-2.06-.94L8.5 2.5l-.94 2.06-2.06.94zm10 10l.94 2.06.94-2.06 2.06-.94-2.06-.94-.94-2.06-.94 2.06-2.06.94z\"/><path d=\"M17.41 7.96l-1.37-1.37c-.4-.4-.92-.59-1.43-.59-.52 0-1.04.2-1.43.59L10.3 9.45l-7.72 7.72c-.78.78-.78 2.05 0 2.83L4 21.41c.39.39.9.59 1.41.59.51 0 1.02-.2 1.41-.59l7.78-7.78 2.81-2.81c.8-.78.8-2.07 0-2.86zM5.41 20L4 18.59l7.72-7.72 1.47 1.35L5.41 20z\"/>\n",
              "  </svg>\n",
              "      </button>\n",
              "      \n",
              "  <style>\n",
              "    .colab-df-container {\n",
              "      display:flex;\n",
              "      flex-wrap:wrap;\n",
              "      gap: 12px;\n",
              "    }\n",
              "\n",
              "    .colab-df-convert {\n",
              "      background-color: #E8F0FE;\n",
              "      border: none;\n",
              "      border-radius: 50%;\n",
              "      cursor: pointer;\n",
              "      display: none;\n",
              "      fill: #1967D2;\n",
              "      height: 32px;\n",
              "      padding: 0 0 0 0;\n",
              "      width: 32px;\n",
              "    }\n",
              "\n",
              "    .colab-df-convert:hover {\n",
              "      background-color: #E2EBFA;\n",
              "      box-shadow: 0px 1px 2px rgba(60, 64, 67, 0.3), 0px 1px 3px 1px rgba(60, 64, 67, 0.15);\n",
              "      fill: #174EA6;\n",
              "    }\n",
              "\n",
              "    [theme=dark] .colab-df-convert {\n",
              "      background-color: #3B4455;\n",
              "      fill: #D2E3FC;\n",
              "    }\n",
              "\n",
              "    [theme=dark] .colab-df-convert:hover {\n",
              "      background-color: #434B5C;\n",
              "      box-shadow: 0px 1px 3px 1px rgba(0, 0, 0, 0.15);\n",
              "      filter: drop-shadow(0px 1px 2px rgba(0, 0, 0, 0.3));\n",
              "      fill: #FFFFFF;\n",
              "    }\n",
              "  </style>\n",
              "\n",
              "      <script>\n",
              "        const buttonEl =\n",
              "          document.querySelector('#df-72fc05e3-37bb-418e-919c-110976573169 button.colab-df-convert');\n",
              "        buttonEl.style.display =\n",
              "          google.colab.kernel.accessAllowed ? 'block' : 'none';\n",
              "\n",
              "        async function convertToInteractive(key) {\n",
              "          const element = document.querySelector('#df-72fc05e3-37bb-418e-919c-110976573169');\n",
              "          const dataTable =\n",
              "            await google.colab.kernel.invokeFunction('convertToInteractive',\n",
              "                                                     [key], {});\n",
              "          if (!dataTable) return;\n",
              "\n",
              "          const docLinkHtml = 'Like what you see? Visit the ' +\n",
              "            '<a target=\"_blank\" href=https://colab.research.google.com/notebooks/data_table.ipynb>data table notebook</a>'\n",
              "            + ' to learn more about interactive tables.';\n",
              "          element.innerHTML = '';\n",
              "          dataTable['output_type'] = 'display_data';\n",
              "          await google.colab.output.renderOutput(dataTable, element);\n",
              "          const docLink = document.createElement('div');\n",
              "          docLink.innerHTML = docLinkHtml;\n",
              "          element.appendChild(docLink);\n",
              "        }\n",
              "      </script>\n",
              "    </div>\n",
              "  </div>\n",
              "  "
            ]
          },
          "metadata": {},
          "execution_count": 6
        }
      ]
    },
    {
      "cell_type": "code",
      "source": [
        "circles.label.value_counts()"
      ],
      "metadata": {
        "colab": {
          "base_uri": "https://localhost:8080/"
        },
        "id": "Ir0jka0N9ycm",
        "outputId": "a2929835-b293-4292-ad8d-da60f2bc1674"
      },
      "execution_count": 7,
      "outputs": [
        {
          "output_type": "execute_result",
          "data": {
            "text/plain": [
              "1    500\n",
              "0    500\n",
              "Name: label, dtype: int64"
            ]
          },
          "metadata": {},
          "execution_count": 7
        }
      ]
    },
    {
      "cell_type": "code",
      "source": [
        "# Visualize\n",
        "import matplotlib.pyplot as plt\n",
        "\n",
        "plt.scatter(x=X[:,0],\n",
        "            y = X[:,1],\n",
        "            c=y,\n",
        "            cmap = plt.cm.RdYlBu);"
      ],
      "metadata": {
        "colab": {
          "base_uri": "https://localhost:8080/",
          "height": 265
        },
        "id": "4LUUl0QZZu2m",
        "outputId": "0d531aa7-8cdf-4338-b676-a74dd816c1b4"
      },
      "execution_count": 8,
      "outputs": [
        {
          "output_type": "display_data",
          "data": {
            "text/plain": [
              "<Figure size 432x288 with 1 Axes>"
            ],
            "image/png": "[encoded data removed]"
          },
          "metadata": {
            "needs_background": "light"
          }
        }
      ]
    },
    {
      "cell_type": "markdown",
      "source": [
        "Note: The data we're working with is often referred to as a Toy dataset, which is small enough to experiment on but still sizeable to enough to practive the fundamentals"
      ],
      "metadata": {
        "id": "zj7Wy0ObZu0M"
      }
    },
    {
      "cell_type": "markdown",
      "source": [
        "### 1.1 Check input and output shapes"
      ],
      "metadata": {
        "id": "fb2l0GKakFDw"
      }
    },
    {
      "cell_type": "code",
      "source": [
        "print(\"Shape of X is:\", X.shape)\n",
        "print(\"Shape of y is:\", y.shape)"
      ],
      "metadata": {
        "colab": {
          "base_uri": "https://localhost:8080/"
        },
        "id": "jM6yxrumkE-A",
        "outputId": "42c59bff-d745-4e0e-b449-d14adcdc47cf"
      },
      "execution_count": 9,
      "outputs": [
        {
          "output_type": "stream",
          "name": "stdout",
          "text": [
            "Shape of X is: (1000, 2)\n",
            "Shape of y is: (1000,)\n"
          ]
        }
      ]
    },
    {
      "cell_type": "code",
      "source": [
        "# View the first example of features and labels\n",
        "\n",
        "X_sample=X[0]\n",
        "y_sample = y[0]\n",
        "\n",
        "print(\"Values for one sample of X:\", X_sample, \"and shape:\", X_sample.shape)\n",
        "print(\"Values for one sample of y:\", y_sample, \"and shape:\", y_sample.shape)\n"
      ],
      "metadata": {
        "colab": {
          "base_uri": "https://localhost:8080/"
        },
        "id": "AIeXrey8kTGr",
        "outputId": "52ac9cdd-36b4-41a6-9490-66eded80c904"
      },
      "execution_count": 10,
      "outputs": [
        {
          "output_type": "stream",
          "name": "stdout",
          "text": [
            "Values for one sample of X: [0.75424625 0.23148074] and shape: (2,)\n",
            "Values for one sample of y: 1 and shape: ()\n"
          ]
        }
      ]
    },
    {
      "cell_type": "markdown",
      "source": [
        "### 1.2 Turn data into tensors and create train and test splits"
      ],
      "metadata": {
        "id": "d3Ho4H4LlEdU"
      }
    },
    {
      "cell_type": "code",
      "source": [
        "# Turn data into tensors\n",
        "X = torch.from_numpy(X).type(torch.float)\n",
        "y = torch.from_numpy(y).type(torch.float)\n",
        "\n",
        "X[:5], y[:5]"
      ],
      "metadata": {
        "colab": {
          "base_uri": "https://localhost:8080/"
        },
        "id": "BFsY5UOClI4Y",
        "outputId": "2d95eef7-faf0-4ce2-f7fd-6b303fcc2ee1"
      },
      "execution_count": 11,
      "outputs": [
        {
          "output_type": "execute_result",
          "data": {
            "text/plain": [
              "(tensor([[ 0.7542,  0.2315],\n",
              "         [-0.7562,  0.1533],\n",
              "         [-0.8154,  0.1733],\n",
              "         [-0.3937,  0.6929],\n",
              "         [ 0.4422, -0.8967]]), tensor([1., 1., 1., 1., 0.]))"
            ]
          },
          "metadata": {},
          "execution_count": 11
        }
      ]
    },
    {
      "cell_type": "code",
      "source": [
        "# Train Test split\n",
        "\n",
        "from sklearn.model_selection import train_test_split\n",
        "\n",
        "X_train, X_test ,  y_train, y_test = train_test_split(X,\n",
        "                                                      y,\n",
        "                                                      test_size=0.2, # 20% of data will be test\n",
        "                                                      random_state=42)\n",
        "\n"
      ],
      "metadata": {
        "id": "A0RewFJjjuw5"
      },
      "execution_count": 12,
      "outputs": []
    },
    {
      "cell_type": "code",
      "source": [
        "len(X_train), len(X_test), len(y_train), len(y_test)"
      ],
      "metadata": {
        "colab": {
          "base_uri": "https://localhost:8080/"
        },
        "id": "9k-1zvEoZuxk",
        "outputId": "60ec22cf-c4b8-4989-cd2b-843660dd5cf8"
      },
      "execution_count": 13,
      "outputs": [
        {
          "output_type": "execute_result",
          "data": {
            "text/plain": [
              "(800, 200, 800, 200)"
            ]
          },
          "metadata": {},
          "execution_count": 13
        }
      ]
    },
    {
      "cell_type": "markdown",
      "source": [
        "## 2. Building a model\n",
        "\n",
        "Let's build a model to classify our blue and red dots.\n",
        "\n",
        "To do so, we want to:\n",
        "1. Setup device agnostic code, so our code will run on an accelerator (GPU) if there is of\n",
        "2. Construct a model (subclassing `nn.Module`)\n",
        "3. Define loss function and optimizer\n",
        "4. Create training and test loop"
      ],
      "metadata": {
        "id": "x0T-d-fXZusc"
      }
    },
    {
      "cell_type": "code",
      "source": [
        "from torch import nn\n",
        "\n",
        "# Make device agnostic code\n",
        "device = \"cuda\" if torch.cuda.is_available() else \"cpu\"\n",
        "device"
      ],
      "metadata": {
        "colab": {
          "base_uri": "https://localhost:8080/",
          "height": 36
        },
        "id": "1EnVUcUGZup_",
        "outputId": "20781caa-d99c-4aa9-8706-ab27500cf3f2"
      },
      "execution_count": 14,
      "outputs": [
        {
          "output_type": "execute_result",
          "data": {
            "text/plain": [
              "'cuda'"
            ],
            "application/vnd.google.colaboratory.intrinsic+json": {
              "type": "string"
            }
          },
          "metadata": {},
          "execution_count": 14
        }
      ]
    },
    {
      "cell_type": "markdown",
      "source": [
        "Now, let's create a model that:\n",
        "1. Subclasses `nn.Module` ( almost all models in Pytorch subclass `nn.Module`)\n",
        "2. Create 2 `nn.Linear()` layers that are capable of handling shapes of our data\n",
        "3. Defines a `forward()` method that outlines the forward pass (or forward computaiton) of the model_selection\n",
        "4. Instantiate an instance of our model class and send it to the target device"
      ],
      "metadata": {
        "id": "JnxjV7tApNb4"
      }
    },
    {
      "cell_type": "code",
      "source": [
        "# 1. Construct a model that subclasses nn.Module\n",
        "\n",
        "class CircleModelV0(nn.Module):\n",
        "  def __init__(self):\n",
        "    super().__init__()\n",
        "    # 2. Create 2 nn.Linear layers capable of handling the shapes of our data\n",
        "    self.layer_1 = nn.Linear(in_features= 2, out_features = 5) # takes in 2 features and upscales to 5 features\n",
        "    self.layer_2 = nn.Linear(in_features= 5, out_features = 1) # takes in 5 features from previous layer and output a single feature (same shape as y)\n",
        "\n",
        "  # 3. Define a forward() method that outlines the forward pass\n",
        "  def forward(self, x):\n",
        "    return self.layer_2(self.layer_1(x)) # x -> layer_1 -> layer_2 -> output\n",
        "\n",
        "# 4. Instantiate an instance of our model class and send it to target device\n",
        "model_0 = CircleModelV0().to(device)\n",
        "model_0"
      ],
      "metadata": {
        "colab": {
          "base_uri": "https://localhost:8080/"
        },
        "id": "D0iUbZqKpNW0",
        "outputId": "2a5f7fda-9e28-4032-c7fc-1c8a4bb71787"
      },
      "execution_count": 15,
      "outputs": [
        {
          "output_type": "execute_result",
          "data": {
            "text/plain": [
              "CircleModelV0(\n",
              "  (layer_1): Linear(in_features=2, out_features=5, bias=True)\n",
              "  (layer_2): Linear(in_features=5, out_features=1, bias=True)\n",
              ")"
            ]
          },
          "metadata": {},
          "execution_count": 15
        }
      ]
    },
    {
      "cell_type": "code",
      "source": [
        "device"
      ],
      "metadata": {
        "colab": {
          "base_uri": "https://localhost:8080/",
          "height": 36
        },
        "id": "pDtZUpILpNUV",
        "outputId": "d1d2776d-b2de-4953-8445-8ca564097c87"
      },
      "execution_count": 16,
      "outputs": [
        {
          "output_type": "execute_result",
          "data": {
            "text/plain": [
              "'cuda'"
            ],
            "application/vnd.google.colaboratory.intrinsic+json": {
              "type": "string"
            }
          },
          "metadata": {},
          "execution_count": 16
        }
      ]
    },
    {
      "cell_type": "code",
      "source": [
        "next(model_0.parameters()).device"
      ],
      "metadata": {
        "colab": {
          "base_uri": "https://localhost:8080/"
        },
        "id": "pf3XtetipNOX",
        "outputId": "cff6adda-a4fe-4a05-87f4-3c61229f319c"
      },
      "execution_count": 17,
      "outputs": [
        {
          "output_type": "execute_result",
          "data": {
            "text/plain": [
              "device(type='cuda', index=0)"
            ]
          },
          "metadata": {},
          "execution_count": 17
        }
      ]
    },
    {
      "cell_type": "code",
      "source": [
        "# Let's replicate themodel above using nn.Sequential()\n",
        "\n",
        "model_0 = nn.Sequential(\n",
        "    nn.Linear(in_features=2, out_features=5),\n",
        "    nn.Linear(in_features=5, out_features=1)\n",
        ").to(device)\n",
        "\n",
        "model_0"
      ],
      "metadata": {
        "colab": {
          "base_uri": "https://localhost:8080/"
        },
        "id": "x0KuKlUvpNLr",
        "outputId": "bc7e6d5f-fb52-4ef1-9e4e-b89f6c324398"
      },
      "execution_count": 18,
      "outputs": [
        {
          "output_type": "execute_result",
          "data": {
            "text/plain": [
              "Sequential(\n",
              "  (0): Linear(in_features=2, out_features=5, bias=True)\n",
              "  (1): Linear(in_features=5, out_features=1, bias=True)\n",
              ")"
            ]
          },
          "metadata": {},
          "execution_count": 18
        }
      ]
    },
    {
      "cell_type": "code",
      "source": [
        "model_0.state_dict()"
      ],
      "metadata": {
        "colab": {
          "base_uri": "https://localhost:8080/"
        },
        "id": "H1rMbgdxuzUF",
        "outputId": "396215ff-c2fa-4fe6-a744-30459ca36729"
      },
      "execution_count": 19,
      "outputs": [
        {
          "output_type": "execute_result",
          "data": {
            "text/plain": [
              "OrderedDict([('0.weight', tensor([[ 0.4418, -0.5525],\n",
              "                      [ 0.1996, -0.4485],\n",
              "                      [ 0.2612, -0.1490],\n",
              "                      [-0.6848, -0.2915],\n",
              "                      [-0.4215, -0.3661]], device='cuda:0')),\n",
              "             ('0.bias',\n",
              "              tensor([-0.0098, -0.3983, -0.5199,  0.5779,  0.6487], device='cuda:0')),\n",
              "             ('1.weight',\n",
              "              tensor([[ 0.3552, -0.2999, -0.1481, -0.0704,  0.1221]], device='cuda:0')),\n",
              "             ('1.bias', tensor([0.1881], device='cuda:0'))])"
            ]
          },
          "metadata": {},
          "execution_count": 19
        }
      ]
    },
    {
      "cell_type": "code",
      "source": [
        "# make predictions\n",
        "with torch.inference_mode():\n",
        "  untrained_preds = model_0(X_test.to(device))\n",
        "print(\"Length of predictions\", len(untrained_preds))\n",
        "print(\"Shape of predictions\", untrained_preds.shape)\n",
        "print(\"Length of test samples\", len(X_test))\n",
        "print(\"Shape of test samples\", X_test.shape)\n",
        "print(f\"\\nFirst 10 predictions:\\n{torch.round(untrained_preds[:10])}\")\n",
        "print(f\"\\nFirst 10 labels:\\n{y_test[:10]}\")\n"
      ],
      "metadata": {
        "colab": {
          "base_uri": "https://localhost:8080/"
        },
        "id": "roGsyBsVZunJ",
        "outputId": "2ab9b91b-91f1-46f7-c590-b5d5c4bd1c64"
      },
      "execution_count": 20,
      "outputs": [
        {
          "output_type": "stream",
          "name": "stdout",
          "text": [
            "Length of predictions 200\n",
            "Shape of predictions torch.Size([200, 1])\n",
            "Length of test samples 200\n",
            "Shape of test samples torch.Size([200, 2])\n",
            "\n",
            "First 10 predictions:\n",
            "tensor([[0.],\n",
            "        [0.],\n",
            "        [0.],\n",
            "        [0.],\n",
            "        [0.],\n",
            "        [0.],\n",
            "        [0.],\n",
            "        [0.],\n",
            "        [0.],\n",
            "        [0.]], device='cuda:0')\n",
            "\n",
            "First 10 labels:\n",
            "tensor([1., 0., 1., 0., 1., 1., 0., 0., 1., 0.])\n"
          ]
        }
      ]
    },
    {
      "cell_type": "code",
      "source": [
        "X_test[:10], y_test[:10], "
      ],
      "metadata": {
        "colab": {
          "base_uri": "https://localhost:8080/"
        },
        "id": "PCI87br-ZuiQ",
        "outputId": "32a45102-a225-4823-ea0e-3f86dbb33d27"
      },
      "execution_count": 21,
      "outputs": [
        {
          "output_type": "execute_result",
          "data": {
            "text/plain": [
              "(tensor([[-0.3752,  0.6827],\n",
              "         [ 0.0154,  0.9600],\n",
              "         [-0.7028, -0.3147],\n",
              "         [-0.2853,  0.9664],\n",
              "         [ 0.4024, -0.7438],\n",
              "         [ 0.6323, -0.5711],\n",
              "         [ 0.8561,  0.5499],\n",
              "         [ 1.0034,  0.1903],\n",
              "         [-0.7489, -0.2951],\n",
              "         [ 0.0538,  0.9739]]),\n",
              " tensor([1., 0., 1., 0., 1., 1., 0., 0., 1., 0.]))"
            ]
          },
          "metadata": {},
          "execution_count": 21
        }
      ]
    },
    {
      "cell_type": "markdown",
      "source": [
        "### 2.1 Setup loss function and optimizer\n",
        "\n",
        "Which loss function or optimizer should you use\n",
        "\n",
        "Again... this is problem specific..\n",
        "\n",
        "For example for Regression you might want MAE or MSE\n",
        "\n",
        "For classification you might want binary cross entropy or categorical cross entropy (cross entropy)\n",
        "\n",
        "As a reminder, the loss function measures how wrong your model's predictions are.\n",
        "\n",
        "And for optimizers two of the most common and useful are SGD and ADAM, although PyTorch has other optimizers as well.\n",
        "\n",
        "* For the loss function we're going to use `torch.nn.BCEWithLogitLoss()`\n",
        "* For different optimizers see `torch.optim`"
      ],
      "metadata": {
        "id": "kVZ_mCu1Zufq"
      }
    },
    {
      "cell_type": "code",
      "source": [
        " # Setup the loss function\n",
        "# loss_fn = nn.BCELoss() # requires inputs to have gone through the sigmiod activation function prior to input to BCELoss\n",
        "loss_fn = nn.BCEWithLogitsLoss() # this has sigmoid activation function built-in\n",
        "\n",
        "optimizer = torch.optim.SGD(params=model_0.parameters(),\n",
        "                            lr = 0.1)\n"
      ],
      "metadata": {
        "id": "5OOj4vjkZudN"
      },
      "execution_count": 22,
      "outputs": []
    },
    {
      "cell_type": "code",
      "source": [
        "# Calculate accuracy - out of 100 examples what % does our model get right?\n",
        "\n",
        "def accuracy_fn(y_true,y_pred): \n",
        "  correct = torch.eq(y_true,y_pred).sum().item()    \n",
        "  acc = (correct/len(y_pred)) * 100\n",
        "  return acc"
      ],
      "metadata": {
        "id": "mOlX6OBWZuax"
      },
      "execution_count": 23,
      "outputs": []
    },
    {
      "cell_type": "markdown",
      "source": [
        "## 3. Train Model\n",
        "\n",
        "To train our model, we're going to build a training loop:\n",
        "1. Forward pass\n",
        "2. Calculate the loss\n",
        "3. Optimizer zero grad\n",
        "4. Back prop (loss backward)\n",
        "5. Optimizer (gradiet descent)"
      ],
      "metadata": {
        "id": "Ol6NTUT5soYG"
      }
    },
    {
      "cell_type": "markdown",
      "source": [
        "### 3.1 Going from raw logits -> Prediction probabilities -> prediction labels\n",
        "Our model outputs are going to be raw *logits*\n",
        "\n",
        "We can convert these **logits** into prediction probabilities by passing them into some kind of activation function (e.g. sigmoid for binary classification and softmax for multiclass classification)\n",
        "\n",
        "Then we can convert our model's prediction probabilities to **prediction labels** by either rounding them or taking the argmax()"
      ],
      "metadata": {
        "id": "-2YqOIKaZuYV"
      }
    },
    {
      "cell_type": "code",
      "source": [
        "# View the first 5 outputs of forward pass on the test data\n",
        "\n",
        "model_0.eval()\n",
        "with torch.inference_mode():\n",
        "  y_logits = model_0(X_test.to(device))[:5]\n",
        "y_logits # the output below is in the form of logic which is like a raw output which needs to be further fed to an activation function"
      ],
      "metadata": {
        "colab": {
          "base_uri": "https://localhost:8080/"
        },
        "id": "pj1bnan-ZuWg",
        "outputId": "8b52e374-68b8-43c6-9b9e-45dbbc5941e7"
      },
      "execution_count": 24,
      "outputs": [
        {
          "output_type": "execute_result",
          "data": {
            "text/plain": [
              "tensor([[0.3553],\n",
              "        [0.3591],\n",
              "        [0.4009],\n",
              "        [0.3422],\n",
              "        [0.4892]], device='cuda:0')"
            ]
          },
          "metadata": {},
          "execution_count": 24
        }
      ]
    },
    {
      "cell_type": "code",
      "source": [
        "y_test[:5]"
      ],
      "metadata": {
        "id": "MBB1qi6pZuTr",
        "colab": {
          "base_uri": "https://localhost:8080/"
        },
        "outputId": "0dce493c-3509-4078-c08e-684814453393"
      },
      "execution_count": 25,
      "outputs": [
        {
          "output_type": "execute_result",
          "data": {
            "text/plain": [
              "tensor([1., 0., 1., 0., 1.])"
            ]
          },
          "metadata": {},
          "execution_count": 25
        }
      ]
    },
    {
      "cell_type": "code",
      "source": [
        "# Use the sigmoid activation function on our model logits to turn them into prediction probabilities\n",
        "\n",
        "y_pred_probs = torch.sigmoid(y_logits)\n",
        "\n",
        "y_pred_probs"
      ],
      "metadata": {
        "id": "539XgZY6ZuRQ",
        "colab": {
          "base_uri": "https://localhost:8080/"
        },
        "outputId": "e105551e-848f-4ef2-d81c-7db018a83765"
      },
      "execution_count": 26,
      "outputs": [
        {
          "output_type": "execute_result",
          "data": {
            "text/plain": [
              "tensor([[0.5879],\n",
              "        [0.5888],\n",
              "        [0.5989],\n",
              "        [0.5847],\n",
              "        [0.6199]], device='cuda:0')"
            ]
          },
          "metadata": {},
          "execution_count": 26
        }
      ]
    },
    {
      "cell_type": "markdown",
      "source": [
        "For our prediction probabilities values, we need to perform a range-style rounding on them:\n",
        "* `y_pred_probs` >= 0.5, `y=1` (class=1)\n",
        "* `y_pred_probs` < 0, `y=0` (class=0)"
      ],
      "metadata": {
        "id": "c-eBY0Lift-A"
      }
    },
    {
      "cell_type": "code",
      "source": [
        "# Find the predicted labels \n",
        "\n",
        "y_preds = torch.round(y_pred_probs)\n",
        "\n",
        "# in full ( logits -> pred probs -> pred_labels)\n",
        "y_pred_labels = torch.round(torch.sigmoid(model_0(X_test.to(device))[:5]))\n",
        "\n",
        "# Check for equality\n",
        "\n",
        "print(torch.eq(y_preds.squeeze(), y_pred_labels.squeeze()))\n",
        "\n",
        "# Get rid of extra dimension\n",
        "\n",
        "y_preds.squeeze()"
      ],
      "metadata": {
        "id": "BGVZXpVwZuOw",
        "colab": {
          "base_uri": "https://localhost:8080/"
        },
        "outputId": "1710a0a6-1e40-41e0-d8a3-e90637f9fc9c"
      },
      "execution_count": 27,
      "outputs": [
        {
          "output_type": "stream",
          "name": "stdout",
          "text": [
            "tensor([True, True, True, True, True], device='cuda:0')\n"
          ]
        },
        {
          "output_type": "execute_result",
          "data": {
            "text/plain": [
              "tensor([1., 1., 1., 1., 1.], device='cuda:0')"
            ]
          },
          "metadata": {},
          "execution_count": 27
        }
      ]
    },
    {
      "cell_type": "code",
      "source": [
        "y_test[:5]"
      ],
      "metadata": {
        "id": "EEi0AqmVZuMZ",
        "colab": {
          "base_uri": "https://localhost:8080/"
        },
        "outputId": "97478f77-b4f2-405d-ecc9-36bab269a9fd"
      },
      "execution_count": 28,
      "outputs": [
        {
          "output_type": "execute_result",
          "data": {
            "text/plain": [
              "tensor([1., 0., 1., 0., 1.])"
            ]
          },
          "metadata": {},
          "execution_count": 28
        }
      ]
    },
    {
      "cell_type": "markdown",
      "source": [
        "### 3.2 Building a training and test loop"
      ],
      "metadata": {
        "id": "hMRDTP13ZuJ1"
      }
    },
    {
      "cell_type": "code",
      "source": [],
      "metadata": {
        "id": "IcrNFDSn3U4S"
      },
      "execution_count": 28,
      "outputs": []
    },
    {
      "cell_type": "code",
      "source": [
        "torch.manual_seed(42)\n",
        "torch.cuda.manual_seed(42)\n",
        "\n",
        "# an epoch is one loop through the data\n",
        "epochs = 1000\n",
        "\n",
        "# Put data to target device\n",
        "\n",
        "X_train, y_train = X_train.to(device), y_train.to(device)\n",
        "X_test, y_test = X_test.to(device), y_test.to(device)\n",
        "\n",
        "\n",
        "# Track different values\n",
        "epoch_count= []\n",
        "loss_values= []\n",
        "test_loss_values= []\n",
        "\n",
        "### Training\n",
        "# 0. Loop through the data\n",
        "for epoch in range(epochs):\n",
        "  # set the model to training model\n",
        "  model_0.train()\n",
        "\n",
        "  # 1. Forward pass\n",
        "  y_logits = model_0(X_train).squeeze()\n",
        "  y_pred = torch.round(torch.sigmoid(y_logits)) # turn logits -> pred probs -> pred labels\n",
        "\n",
        "  # 2. Calculate the loss/accuracy\n",
        "\n",
        "  # loss = loss_fn(torch.sigmoid(y_logits), # if loss was nn.BCELoss, it expects prediction probabilities as input\n",
        "  #                y_train)\n",
        "\n",
        "  loss = loss_fn(y_logits, # nn.BCEWithLogitsLoss expects logits as input\n",
        "                 y_train)\n",
        "  acc = accuracy_fn(y_true = y_train,\n",
        "                    y_pred = y_pred)\n",
        "\n",
        "  # 3. Optimizer zero grad - zero the optimizer gradients ( they accumulate every epoch, zero them to start fresh each forward pass )\n",
        "  optimizer.zero_grad()\n",
        "\n",
        "  # 4. Perform backprop on the loss w.r.t. the parameters of the model\n",
        "  loss.backward()\n",
        "\n",
        "  # 5. Step the optimizer ( perform gradient descent)\n",
        "  optimizer.step()\n",
        "\n",
        "  ### Testing\n",
        "\n",
        "  model_0.eval()\n",
        "  with torch.inference_mode():\n",
        "    # 1. Forward pass\n",
        "    test_logits = model_0(X_test).squeeze()\n",
        "    test_pred = torch.round(torch.sigmoid(test_logits))\n",
        "\n",
        "    # 2. Calculate the test loss/ accuracy\n",
        "    test_loss = loss_fn(test_logits,\n",
        "                        y_test)\n",
        "    test_acc = accuracy_fn(y_true = y_test,\n",
        "                           y_pred= test_pred)\n",
        "    \n",
        "  # Print out what's happenin'\n",
        "  if epoch %10 == 0:\n",
        "    print(f\"Epoch:{epoch} | Loss: {loss:.5f}, Acc: {acc:.2f} | Test loss:{test_loss:.5f}, Test acc: {test_acc:.2f}%\")\n",
        "\n",
        "\n"
      ],
      "metadata": {
        "id": "6B_4RHhXvAjS",
        "colab": {
          "base_uri": "https://localhost:8080/"
        },
        "outputId": "27ffe9dd-bc7c-43ea-d689-ce555ad2a602"
      },
      "execution_count": 29,
      "outputs": [
        {
          "output_type": "stream",
          "name": "stdout",
          "text": [
            "Epoch:0 | Loss: 0.71566, Acc: 50.00 | Test loss:0.71186, Test acc: 50.00%\n",
            "Epoch:10 | Loss: 0.70053, Acc: 50.00 | Test loss:0.70019, Test acc: 50.00%\n",
            "Epoch:20 | Loss: 0.69626, Acc: 57.50 | Test loss:0.69722, Test acc: 57.00%\n",
            "Epoch:30 | Loss: 0.69491, Acc: 53.00 | Test loss:0.69644, Test acc: 51.50%\n",
            "Epoch:40 | Loss: 0.69439, Acc: 51.88 | Test loss:0.69619, Test acc: 50.50%\n",
            "Epoch:50 | Loss: 0.69411, Acc: 51.12 | Test loss:0.69606, Test acc: 51.50%\n",
            "Epoch:60 | Loss: 0.69392, Acc: 50.88 | Test loss:0.69596, Test acc: 51.00%\n",
            "Epoch:70 | Loss: 0.69378, Acc: 50.75 | Test loss:0.69587, Test acc: 50.00%\n",
            "Epoch:80 | Loss: 0.69366, Acc: 51.12 | Test loss:0.69579, Test acc: 49.50%\n",
            "Epoch:90 | Loss: 0.69356, Acc: 51.12 | Test loss:0.69571, Test acc: 48.50%\n",
            "Epoch:100 | Loss: 0.69347, Acc: 51.00 | Test loss:0.69564, Test acc: 48.50%\n",
            "Epoch:110 | Loss: 0.69340, Acc: 51.00 | Test loss:0.69558, Test acc: 48.00%\n",
            "Epoch:120 | Loss: 0.69334, Acc: 51.75 | Test loss:0.69553, Test acc: 48.00%\n",
            "Epoch:130 | Loss: 0.69329, Acc: 51.62 | Test loss:0.69547, Test acc: 48.00%\n",
            "Epoch:140 | Loss: 0.69325, Acc: 51.88 | Test loss:0.69543, Test acc: 48.00%\n",
            "Epoch:150 | Loss: 0.69321, Acc: 51.12 | Test loss:0.69538, Test acc: 48.00%\n",
            "Epoch:160 | Loss: 0.69318, Acc: 51.12 | Test loss:0.69535, Test acc: 48.00%\n",
            "Epoch:170 | Loss: 0.69315, Acc: 50.88 | Test loss:0.69531, Test acc: 47.50%\n",
            "Epoch:180 | Loss: 0.69313, Acc: 50.88 | Test loss:0.69528, Test acc: 47.00%\n",
            "Epoch:190 | Loss: 0.69311, Acc: 50.88 | Test loss:0.69524, Test acc: 47.50%\n",
            "Epoch:200 | Loss: 0.69309, Acc: 51.00 | Test loss:0.69522, Test acc: 47.50%\n",
            "Epoch:210 | Loss: 0.69308, Acc: 50.88 | Test loss:0.69519, Test acc: 47.00%\n",
            "Epoch:220 | Loss: 0.69307, Acc: 51.38 | Test loss:0.69516, Test acc: 46.00%\n",
            "Epoch:230 | Loss: 0.69305, Acc: 50.88 | Test loss:0.69514, Test acc: 46.50%\n",
            "Epoch:240 | Loss: 0.69304, Acc: 51.12 | Test loss:0.69511, Test acc: 47.50%\n",
            "Epoch:250 | Loss: 0.69304, Acc: 51.25 | Test loss:0.69509, Test acc: 47.50%\n",
            "Epoch:260 | Loss: 0.69303, Acc: 51.12 | Test loss:0.69507, Test acc: 47.50%\n",
            "Epoch:270 | Loss: 0.69302, Acc: 51.00 | Test loss:0.69505, Test acc: 47.00%\n",
            "Epoch:280 | Loss: 0.69302, Acc: 51.25 | Test loss:0.69503, Test acc: 47.00%\n",
            "Epoch:290 | Loss: 0.69301, Acc: 51.25 | Test loss:0.69502, Test acc: 47.00%\n",
            "Epoch:300 | Loss: 0.69301, Acc: 51.38 | Test loss:0.69500, Test acc: 46.50%\n",
            "Epoch:310 | Loss: 0.69301, Acc: 51.12 | Test loss:0.69498, Test acc: 46.50%\n",
            "Epoch:320 | Loss: 0.69300, Acc: 51.12 | Test loss:0.69497, Test acc: 46.00%\n",
            "Epoch:330 | Loss: 0.69300, Acc: 51.38 | Test loss:0.69495, Test acc: 45.50%\n",
            "Epoch:340 | Loss: 0.69300, Acc: 51.25 | Test loss:0.69494, Test acc: 45.00%\n",
            "Epoch:350 | Loss: 0.69299, Acc: 51.25 | Test loss:0.69493, Test acc: 45.50%\n",
            "Epoch:360 | Loss: 0.69299, Acc: 51.62 | Test loss:0.69491, Test acc: 46.00%\n",
            "Epoch:370 | Loss: 0.69299, Acc: 51.50 | Test loss:0.69490, Test acc: 46.50%\n",
            "Epoch:380 | Loss: 0.69299, Acc: 51.38 | Test loss:0.69489, Test acc: 46.50%\n",
            "Epoch:390 | Loss: 0.69299, Acc: 51.75 | Test loss:0.69488, Test acc: 46.50%\n",
            "Epoch:400 | Loss: 0.69299, Acc: 51.75 | Test loss:0.69487, Test acc: 46.50%\n",
            "Epoch:410 | Loss: 0.69299, Acc: 51.62 | Test loss:0.69486, Test acc: 47.00%\n",
            "Epoch:420 | Loss: 0.69299, Acc: 51.75 | Test loss:0.69485, Test acc: 47.50%\n",
            "Epoch:430 | Loss: 0.69299, Acc: 51.38 | Test loss:0.69484, Test acc: 46.50%\n",
            "Epoch:440 | Loss: 0.69298, Acc: 51.25 | Test loss:0.69483, Test acc: 46.50%\n",
            "Epoch:450 | Loss: 0.69298, Acc: 51.12 | Test loss:0.69482, Test acc: 46.00%\n",
            "Epoch:460 | Loss: 0.69298, Acc: 51.38 | Test loss:0.69482, Test acc: 46.00%\n",
            "Epoch:470 | Loss: 0.69298, Acc: 51.25 | Test loss:0.69481, Test acc: 45.50%\n",
            "Epoch:480 | Loss: 0.69298, Acc: 51.50 | Test loss:0.69480, Test acc: 45.50%\n",
            "Epoch:490 | Loss: 0.69298, Acc: 51.50 | Test loss:0.69479, Test acc: 45.50%\n",
            "Epoch:500 | Loss: 0.69298, Acc: 51.38 | Test loss:0.69479, Test acc: 46.00%\n",
            "Epoch:510 | Loss: 0.69298, Acc: 51.25 | Test loss:0.69478, Test acc: 46.00%\n",
            "Epoch:520 | Loss: 0.69298, Acc: 51.12 | Test loss:0.69478, Test acc: 46.00%\n",
            "Epoch:530 | Loss: 0.69298, Acc: 51.25 | Test loss:0.69477, Test acc: 46.00%\n",
            "Epoch:540 | Loss: 0.69298, Acc: 51.25 | Test loss:0.69477, Test acc: 46.00%\n",
            "Epoch:550 | Loss: 0.69298, Acc: 51.25 | Test loss:0.69476, Test acc: 45.50%\n",
            "Epoch:560 | Loss: 0.69298, Acc: 51.25 | Test loss:0.69476, Test acc: 45.50%\n",
            "Epoch:570 | Loss: 0.69298, Acc: 51.12 | Test loss:0.69475, Test acc: 45.50%\n",
            "Epoch:580 | Loss: 0.69298, Acc: 51.25 | Test loss:0.69475, Test acc: 45.50%\n",
            "Epoch:590 | Loss: 0.69298, Acc: 51.12 | Test loss:0.69474, Test acc: 45.50%\n",
            "Epoch:600 | Loss: 0.69298, Acc: 51.12 | Test loss:0.69474, Test acc: 45.50%\n",
            "Epoch:610 | Loss: 0.69298, Acc: 51.12 | Test loss:0.69474, Test acc: 45.50%\n",
            "Epoch:620 | Loss: 0.69298, Acc: 51.25 | Test loss:0.69473, Test acc: 45.50%\n",
            "Epoch:630 | Loss: 0.69298, Acc: 51.38 | Test loss:0.69473, Test acc: 45.50%\n",
            "Epoch:640 | Loss: 0.69298, Acc: 51.38 | Test loss:0.69473, Test acc: 45.50%\n",
            "Epoch:650 | Loss: 0.69298, Acc: 51.38 | Test loss:0.69473, Test acc: 45.50%\n",
            "Epoch:660 | Loss: 0.69298, Acc: 51.38 | Test loss:0.69472, Test acc: 45.50%\n",
            "Epoch:670 | Loss: 0.69298, Acc: 51.38 | Test loss:0.69472, Test acc: 45.50%\n",
            "Epoch:680 | Loss: 0.69298, Acc: 51.50 | Test loss:0.69472, Test acc: 45.50%\n",
            "Epoch:690 | Loss: 0.69298, Acc: 51.50 | Test loss:0.69472, Test acc: 45.50%\n",
            "Epoch:700 | Loss: 0.69298, Acc: 51.50 | Test loss:0.69471, Test acc: 45.50%\n",
            "Epoch:710 | Loss: 0.69298, Acc: 51.50 | Test loss:0.69471, Test acc: 45.50%\n",
            "Epoch:720 | Loss: 0.69298, Acc: 51.50 | Test loss:0.69471, Test acc: 45.50%\n",
            "Epoch:730 | Loss: 0.69298, Acc: 51.50 | Test loss:0.69471, Test acc: 45.50%\n",
            "Epoch:740 | Loss: 0.69298, Acc: 51.38 | Test loss:0.69471, Test acc: 45.50%\n",
            "Epoch:750 | Loss: 0.69298, Acc: 51.25 | Test loss:0.69471, Test acc: 45.50%\n",
            "Epoch:760 | Loss: 0.69298, Acc: 51.25 | Test loss:0.69470, Test acc: 45.50%\n",
            "Epoch:770 | Loss: 0.69298, Acc: 51.25 | Test loss:0.69470, Test acc: 45.50%\n",
            "Epoch:780 | Loss: 0.69298, Acc: 51.25 | Test loss:0.69470, Test acc: 45.50%\n",
            "Epoch:790 | Loss: 0.69298, Acc: 51.25 | Test loss:0.69470, Test acc: 45.50%\n",
            "Epoch:800 | Loss: 0.69298, Acc: 51.25 | Test loss:0.69470, Test acc: 45.50%\n",
            "Epoch:810 | Loss: 0.69298, Acc: 51.25 | Test loss:0.69470, Test acc: 45.50%\n",
            "Epoch:820 | Loss: 0.69298, Acc: 51.25 | Test loss:0.69470, Test acc: 45.50%\n",
            "Epoch:830 | Loss: 0.69298, Acc: 51.25 | Test loss:0.69470, Test acc: 45.50%\n",
            "Epoch:840 | Loss: 0.69298, Acc: 51.25 | Test loss:0.69469, Test acc: 46.00%\n",
            "Epoch:850 | Loss: 0.69298, Acc: 51.25 | Test loss:0.69469, Test acc: 46.00%\n",
            "Epoch:860 | Loss: 0.69298, Acc: 51.25 | Test loss:0.69469, Test acc: 46.00%\n",
            "Epoch:870 | Loss: 0.69298, Acc: 51.25 | Test loss:0.69469, Test acc: 46.00%\n",
            "Epoch:880 | Loss: 0.69298, Acc: 51.25 | Test loss:0.69469, Test acc: 46.00%\n",
            "Epoch:890 | Loss: 0.69298, Acc: 51.25 | Test loss:0.69469, Test acc: 46.00%\n",
            "Epoch:900 | Loss: 0.69298, Acc: 51.25 | Test loss:0.69469, Test acc: 46.00%\n",
            "Epoch:910 | Loss: 0.69298, Acc: 51.25 | Test loss:0.69469, Test acc: 46.00%\n",
            "Epoch:920 | Loss: 0.69298, Acc: 51.25 | Test loss:0.69469, Test acc: 46.00%\n",
            "Epoch:930 | Loss: 0.69298, Acc: 51.12 | Test loss:0.69469, Test acc: 46.00%\n",
            "Epoch:940 | Loss: 0.69298, Acc: 51.12 | Test loss:0.69469, Test acc: 46.00%\n",
            "Epoch:950 | Loss: 0.69298, Acc: 51.12 | Test loss:0.69469, Test acc: 46.00%\n",
            "Epoch:960 | Loss: 0.69298, Acc: 51.12 | Test loss:0.69469, Test acc: 46.00%\n",
            "Epoch:970 | Loss: 0.69298, Acc: 51.12 | Test loss:0.69469, Test acc: 46.00%\n",
            "Epoch:980 | Loss: 0.69298, Acc: 51.12 | Test loss:0.69469, Test acc: 46.00%\n",
            "Epoch:990 | Loss: 0.69298, Acc: 51.12 | Test loss:0.69469, Test acc: 46.00%\n"
          ]
        }
      ]
    },
    {
      "cell_type": "markdown",
      "source": [
        " ## 4. Make predictions and evaluate the model\n",
        "\n",
        " From the metrics it looks like our model isin't learning anything...\n",
        "\n",
        " So to inspect it let's make some prections and make them visual\n",
        "\n",
        " To do so, we're going to import a function called `plot_decision_boundary()` - https://github.com/mrdbourke/pytorch-deep-learning/blob/main/helper_functions.py"
      ],
      "metadata": {
        "id": "shKJN5XxvAgy"
      }
    },
    {
      "cell_type": "code",
      "source": [
        "# import requests\n",
        "# from pathlib import Path\n",
        "\n",
        "# # Download helper functions from Lear PyTorch repo ( if it's not already downloaded)\n",
        "\n",
        "# if Path(\"helper_functions.py\").is_file():\n",
        "#   print(\"helper_functions.py already exists, skipping download\")\n",
        "# else:\n",
        "#   print(\"Downloading helper_functions.py\")\n",
        "#   request = requests.get(url = \"https://raw.githubusercontent.com/mrdbourke/pytorch-deep-learning/main/helper_functions.py\")\n",
        "  \n",
        "#   with open(\"helper_functions.py\",\"wb\") as f:\n",
        "#     f.write(request.content)\n",
        "\n"
      ],
      "metadata": {
        "id": "g3znANq9vAeS"
      },
      "execution_count": 30,
      "outputs": []
    },
    {
      "cell_type": "code",
      "source": [
        "!wget https://raw.githubusercontent.com/mrdbourke/pytorch-deep-learning/main/helper_functions.py\n",
        "\n",
        "\n",
        "from helper_functions import plot_predictions, plot_decision_boundary\n",
        "\n"
      ],
      "metadata": {
        "id": "kq-qJWIKvAbc",
        "colab": {
          "base_uri": "https://localhost:8080/"
        },
        "outputId": "531b8c83-81fc-44f0-f19b-0ef8fd940bef"
      },
      "execution_count": 31,
      "outputs": [
        {
          "output_type": "stream",
          "name": "stdout",
          "text": [
            "--2023-03-15 00:11:59--  https://raw.githubusercontent.com/mrdbourke/pytorch-deep-learning/main/helper_functions.py\n",
            "Resolving raw.githubusercontent.com (raw.githubusercontent.com)... 185.199.108.133, 185.199.109.133, 185.199.110.133, ...\n",
            "Connecting to raw.githubusercontent.com (raw.githubusercontent.com)|185.199.108.133|:443... connected.\n",
            "HTTP request sent, awaiting response... 200 OK\n",
            "Length: 10160 (9.9K) [text/plain]\n",
            "Saving to: ‘helper_functions.py’\n",
            "\n",
            "helper_functions.py 100%[===================>]   9.92K  --.-KB/s    in 0s      \n",
            "\n",
            "2023-03-15 00:12:00 (102 MB/s) - ‘helper_functions.py’ saved [10160/10160]\n",
            "\n"
          ]
        }
      ]
    },
    {
      "cell_type": "code",
      "source": [
        "# plot decisio0n boundary of the model\n",
        "\n",
        "plt.figure(figsize=(12,6))\n",
        "plt.subplot(1,2,1)\n",
        "plt.title(\"Train\")\n",
        "plot_decision_boundary(model_0,X_train,y_train)\n",
        "\n",
        "plt.subplot(1,2,2)\n",
        "plt.title(\"Test\")\n",
        "plot_decision_boundary(model_0,X_test,y_test)"
      ],
      "metadata": {
        "id": "IGK-efexvAWg",
        "colab": {
          "base_uri": "https://localhost:8080/",
          "height": 390
        },
        "outputId": "7b88c388-f35c-4436-d6dd-72dbd9c8f90e"
      },
      "execution_count": 32,
      "outputs": [
        {
          "output_type": "display_data",
          "data": {
            "text/plain": [
              "<Figure size 864x432 with 2 Axes>"
            ],
            "image/png": "[encoded data removed]"
          },
          "metadata": {
            "needs_background": "light"
          }
        }
      ]
    },
    {
      "cell_type": "markdown",
      "source": [
        "## 5. Improving a model ( from a model perspective )\n",
        "\n",
        "* Add more layers - give the model more chances to learn about patterns in the data\n",
        "\n",
        "* Add more hidden units - go from 5 hidden units to 10 hidden units\n",
        "\n",
        "* Fit for longer\n",
        "* Changing the activation functions\n",
        "* Change the learning rate\n",
        "* Change the loss function\n",
        "\n",
        "These options are all from a model's perspective because they deal directly with model and not with the data\n",
        "\n",
        "And because these options are all values we can change, they are referred to as **Hyperparameters**\n",
        "\n",
        "Let's try and improve our model by:\n",
        "* Adding more hidden units: 5->10\n",
        "* Increase the number of layers: 2 -> 3\n",
        "* Increase the number of epochs: 100 -> 1000"
      ],
      "metadata": {
        "id": "5Gpo3ZyJvARw"
      }
    },
    {
      "cell_type": "code",
      "source": [
        "class CircleModelV1(nn.Module):\n",
        "  def __init__(self):\n",
        "    super().__init__()\n",
        "    self.layer_1 = nn.Linear(in_features = 2, out_features=10)\n",
        "    self.layer_2 = nn.Linear(in_features = 10, out_features=10)\n",
        "    self.layer_3 = nn.Linear(in_features = 10, out_features=1)\n",
        "  \n",
        "  def forward(self,x):\n",
        "    # z = self.layer_1(x)\n",
        "    # z = self.layer_2(z)\n",
        "    # z = self.layer_3(z)\n",
        "    return self.layer_3(self.layer_2(self.layer_1(x))) # this way of writing operations leverages speed ups where possible\n",
        "\n",
        "model_1 = CircleModelV1().to(device)\n",
        "model_1"
      ],
      "metadata": {
        "colab": {
          "base_uri": "https://localhost:8080/"
        },
        "id": "Yso_oychjB4g",
        "outputId": "b188735d-534d-4828-ba7c-649f8e65d345"
      },
      "execution_count": 35,
      "outputs": [
        {
          "output_type": "execute_result",
          "data": {
            "text/plain": [
              "CircleModelV1(\n",
              "  (layer_1): Linear(in_features=2, out_features=10, bias=True)\n",
              "  (layer_2): Linear(in_features=10, out_features=10, bias=True)\n",
              "  (layer_3): Linear(in_features=10, out_features=1, bias=True)\n",
              ")"
            ]
          },
          "metadata": {},
          "execution_count": 35
        }
      ]
    },
    {
      "cell_type": "code",
      "source": [
        "# Create a loss function\n",
        "loss_fn = nn.BCEWithLogitsLoss()\n",
        "\n",
        "# Create an optimizer\n",
        "\n",
        "optimizer = torch.optim.SGD(params=model_1.parameters(),lr = 0.001)"
      ],
      "metadata": {
        "id": "i9pIxvWtjB2Y"
      },
      "execution_count": 33,
      "outputs": []
    },
    {
      "cell_type": "code",
      "source": [
        "# Write training and evaluation loop for model_1\n",
        "\n",
        "epochs_1 = 100\n",
        "\n",
        "for epoch in range(epochs):\n",
        "  model_1.train()\n",
        "\n",
        "# forward pass\n",
        "  y_logits1 = model_1(X_train).squeeze()\n",
        "  y_pred1 = torch.round(torch.sigmoid(y_logits1))\n",
        "\n"
      ],
      "metadata": {
        "id": "hNlh5rB4jBz3"
      },
      "execution_count": 33,
      "outputs": []
    },
    {
      "cell_type": "code",
      "source": [],
      "metadata": {
        "id": "WtKmRWRFjBvo"
      },
      "execution_count": 33,
      "outputs": []
    },
    {
      "cell_type": "code",
      "source": [],
      "metadata": {
        "id": "KigyXcycjBtT"
      },
      "execution_count": 33,
      "outputs": []
    }
  ]
}