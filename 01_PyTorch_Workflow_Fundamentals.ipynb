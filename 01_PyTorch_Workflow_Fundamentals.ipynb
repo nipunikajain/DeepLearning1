{
  "nbformat": 4,
  "nbformat_minor": 0,
  "metadata": {
    "colab": {
      "provenance": [],
      "authorship_tag": "ABX9TyMuWCE/Z/oOOHLwZgXbpDwM",
      "include_colab_link": true
    },
    "kernelspec": {
      "name": "python3",
      "display_name": "Python 3"
    },
    "language_info": {
      "name": "python"
    }
  },
  "cells": [
    {
      "cell_type": "markdown",
      "metadata": {
        "id": "view-in-github",
        "colab_type": "text"
      },
      "source": [
        "<a href=\"https://colab.research.google.com/github/nipunikajain/DeepLearning1/blob/main/01_PyTorch_Workflow_Fundamentals.ipynb\" target=\"_parent\"><img src=\"https://colab.research.google.com/assets/colab-badge.svg\" alt=\"Open In Colab\"/></a>"
      ]
    },
    {
      "cell_type": "markdown",
      "source": [
        "# PyTorch Workflow\n",
        "\n",
        "Let's explore an example PyTorch end-to-end workflow.\n",
        "\n",
        "Resources:\n",
        "* Ground truth notebook - https://github.com/mrdbourke/pytorch-deep-learning/blob/main/01_pytorch_workflow.ipynb\n",
        "\n",
        "* Book version of notebook - https://www.learnpytorch.io/01_pytorch_workflow/"
      ],
      "metadata": {
        "id": "b1qLLACBn-Ev"
      }
    },
    {
      "cell_type": "code",
      "source": [
        "what_were_covering = {1:\"data prepare and load\",\n",
        "                      2: \"build model\",\n",
        "                      3: \"fitting the model to data (training)\",\n",
        "                      4: \"making predictions and evaluating a model (inference)\",\n",
        "                      5: \"saving and loading a model\",\n",
        "                      6: \"putting it all together\"\n",
        "}"
      ],
      "metadata": {
        "id": "9q_eujnem2Ox"
      },
      "execution_count": 1,
      "outputs": []
    },
    {
      "cell_type": "code",
      "source": [
        "import torch\n",
        "from torch import nn # nn contains all of pytorch's building blocks for neural networks\n",
        "import matplotlib.pyplot as plt\n",
        "\n",
        "# Check PyTorch version\n",
        "\n",
        "torch.__version__"
      ],
      "metadata": {
        "colab": {
          "base_uri": "https://localhost:8080/",
          "height": 36
        },
        "id": "7hrcTtrfm2KX",
        "outputId": "8e570e45-f26c-4407-9510-46b89426df7b"
      },
      "execution_count": 2,
      "outputs": [
        {
          "output_type": "execute_result",
          "data": {
            "text/plain": [
              "'1.13.1+cu116'"
            ],
            "application/vnd.google.colaboratory.intrinsic+json": {
              "type": "string"
            }
          },
          "metadata": {},
          "execution_count": 2
        }
      ]
    },
    {
      "cell_type": "markdown",
      "source": [
        "## 1. Data ( preparing and loading )\n",
        "\n",
        "ML is a game of two parts:\n",
        "1. Get data into a numerical representation.\n",
        "2. Build a model to learn patterns in that numerical representation\n",
        "\n",
        "To showcase this, let's create some *known* data using the linear regression formula.\n",
        "\n",
        "We'll use a linear regression formula to make a straight line with known **parameters**\n"
      ],
      "metadata": {
        "id": "8aCWGzGivuix"
      }
    },
    {
      "cell_type": "code",
      "source": [
        "# Create *known* parameters\n",
        "\n",
        "weight = 0.7\n",
        "bias = 0.3\n",
        "\n",
        "# create\n",
        "\n",
        "start = 0\n",
        "end=1\n",
        "step = 0.02\n",
        "\n",
        "X = torch.arange(start,end,step).unsqueeze(dim=1)\n",
        "\n",
        "y = weight*X + bias\n",
        "\n",
        "X[:10], y[:10], len(X),len(y)"
      ],
      "metadata": {
        "colab": {
          "base_uri": "https://localhost:8080/"
        },
        "id": "I7KOfZSym2E4",
        "outputId": "225029bd-035d-4c24-cfb0-31ce223d4cfa"
      },
      "execution_count": 3,
      "outputs": [
        {
          "output_type": "execute_result",
          "data": {
            "text/plain": [
              "(tensor([[0.0000],\n",
              "         [0.0200],\n",
              "         [0.0400],\n",
              "         [0.0600],\n",
              "         [0.0800],\n",
              "         [0.1000],\n",
              "         [0.1200],\n",
              "         [0.1400],\n",
              "         [0.1600],\n",
              "         [0.1800]]), tensor([[0.3000],\n",
              "         [0.3140],\n",
              "         [0.3280],\n",
              "         [0.3420],\n",
              "         [0.3560],\n",
              "         [0.3700],\n",
              "         [0.3840],\n",
              "         [0.3980],\n",
              "         [0.4120],\n",
              "         [0.4260]]), 50, 50)"
            ]
          },
          "metadata": {},
          "execution_count": 3
        }
      ]
    },
    {
      "cell_type": "code",
      "source": [
        "len(X),len(y)"
      ],
      "metadata": {
        "colab": {
          "base_uri": "https://localhost:8080/"
        },
        "id": "3ULcWi-rm2CT",
        "outputId": "d798eb5e-168e-4785-f48e-8d98e73ca649"
      },
      "execution_count": 4,
      "outputs": [
        {
          "output_type": "execute_result",
          "data": {
            "text/plain": [
              "(50, 50)"
            ]
          },
          "metadata": {},
          "execution_count": 4
        }
      ]
    },
    {
      "cell_type": "markdown",
      "source": [
        "### Splitting data into training and test sets\n",
        "\n",
        "Let's creat a training and test set with our data"
      ],
      "metadata": {
        "id": "3erMuq_w0ZeM"
      }
    },
    {
      "cell_type": "code",
      "source": [
        "# Create a train test split\n",
        "\n",
        "train_split = int(0.8 * len(X))\n",
        "\n",
        "X_train, y_train = X[:train_split], y[:train_split]\n",
        "\n",
        "X_test, y_test = X[train_split:], y[train_split:]\n",
        "\n",
        "len(X_train), len(y_train), len(X_test), len(y_test)"
      ],
      "metadata": {
        "colab": {
          "base_uri": "https://localhost:8080/"
        },
        "id": "bOLKZ7fum1_s",
        "outputId": "35399adb-9286-4def-89ae-b6987ebcb553"
      },
      "execution_count": 5,
      "outputs": [
        {
          "output_type": "execute_result",
          "data": {
            "text/plain": [
              "(40, 40, 10, 10)"
            ]
          },
          "metadata": {},
          "execution_count": 5
        }
      ]
    },
    {
      "cell_type": "markdown",
      "source": [
        "### How might we better visualize our data"
      ],
      "metadata": {
        "id": "rq3TFBnp2Xb-"
      }
    },
    {
      "cell_type": "code",
      "source": [
        "def plot_predictions(train_data = X_train,\n",
        "                     train_labels = y_train,\n",
        "                     test_data = X_test,\n",
        "                     test_labels= y_test,\n",
        "                     predictions = None):\n",
        "  \"\"\"\n",
        "  Plots training data, test data and compares predictions\n",
        "  \"\"\"\n",
        "\n",
        "  plt.figure(figsize=(10,7))\n",
        "\n",
        "\n",
        "  # Plot training data in blue\n",
        "\n",
        "  plt.scatter(train_data, train_labels, c=\"b\",s=4,label=\"Training data\")\n",
        "\n",
        "  # Plotting test data in green\n",
        "\n",
        "  plt.scatter(test_data, test_labels, c=\"g\",s=4,label=\"Testing data\")\n",
        "\n",
        "  # Are there predictions?\n",
        "  if predictions is not None:\n",
        "    # Plot the predictions if they exists\n",
        "    plt.scatter(test_data, predictions, c=\"r\",s=4,label=\"Predictions\")\n",
        "\n",
        "  # Show the legend\n",
        "  plt.legend(prop = {\"size\":14})\n",
        "  "
      ],
      "metadata": {
        "id": "9EQvGpx2m19J"
      },
      "execution_count": 6,
      "outputs": []
    },
    {
      "cell_type": "code",
      "source": [
        "plot_predictions();"
      ],
      "metadata": {
        "colab": {
          "base_uri": "https://localhost:8080/",
          "height": 428
        },
        "id": "VSHigWQ9m14k",
        "outputId": "a6367037-7df4-4471-8d3f-0c57a5008aa3"
      },
      "execution_count": 7,
      "outputs": [
        {
          "output_type": "display_data",
          "data": {
            "text/plain": [
              "<Figure size 720x504 with 1 Axes>"
            ],
            "image/png": "[encoded data removed]"
          },
          "metadata": {
            "needs_background": "light"
          }
        }
      ]
    },
    {
      "cell_type": "markdown",
      "source": [
        "## 2. Build Model\n",
        "\n",
        "Our first PyTorch Model\n",
        "\n",
        "What our model does:\n",
        "* Start with random values (weight & bias)\n",
        "* Look at training data and adjust the random values to better represent  the ideal values ( the weight & bias values we used to create the data )\n",
        "\n",
        "How does it do so?\n",
        "\n",
        "Through two main algorithms:\n",
        "1. Gradient descent\n",
        "2. Backpropagation"
      ],
      "metadata": {
        "id": "hclaL0zom11t"
      }
    },
    {
      "cell_type": "code",
      "source": [
        "# Create a linear regression model class\n",
        "\n",
        "class LinearRegressionModel(nn.Module):\n",
        "  # <- almost everything in PyTorch inherits from nn.Module\n",
        "  def __init__(self):\n",
        "    super().__init__()\n",
        "    self.weights = nn.Parameter(torch.randn(1, # <- start with a random weight and try to adjust it to the ideal weight\n",
        "                                            requires_grad = True, # <-can this parameter be updated via gradient descent?\n",
        "                                            dtype = torch.float)) \n",
        "    self.bias = nn.Parameter(torch.randn(1, # <- start with a random bias and try to adjust it to the ideal bias\n",
        "                                        requires_grad = True, # <-can this parameter be updated via gradient descent?\n",
        "                                        dtype = torch.float))\n",
        "\n",
        "  # Forward method to define the computaiton in the model\n",
        "  def forward(self,x:torch.Tensor) -> torch.Tensor:\n",
        "    return self.weights * x + self.bias # this is the linear regression formula\n",
        "\n",
        "  "
      ],
      "metadata": {
        "id": "cWFdCP8mm1zJ"
      },
      "execution_count": 54,
      "outputs": []
    },
    {
      "cell_type": "markdown",
      "source": [
        "### PyTorch model building essentials\n",
        "\n",
        "* torch.nn - contains all of the building blocks for computaiotnal graphs (NN)\n",
        "* torch.nn.Parameter - what parameters should our model try and learn, often a PyTorch later from torch .nn will set these for us\n",
        "* torch.nn.Module - The base class for all NN modules, if you subclass it, you should override forward()\n",
        "\n",
        "* torch.optim - this is where the optimizers in PyTorch live, they will help in Gradient descent\n",
        "* def forward() - All nn.Module subclasses require you to overwrite forward(), this method defines what happens in a model\n",
        "\n",
        "PyTorch cheatsheet - https://pytorch.org/tutorials/beginner/ptcheat.html\n"
      ],
      "metadata": {
        "id": "navFcXzCm1tZ"
      }
    },
    {
      "cell_type": "markdown",
      "source": [
        "### Checking the contents of our PyTorch model\n",
        "\n",
        "Now we'hv create a model, let's see what's inside...\n",
        "\n",
        "So we can check our model parameters or what's inside our model using `.parameters()`"
      ],
      "metadata": {
        "id": "zWOLcokAm1mZ"
      }
    },
    {
      "cell_type": "code",
      "source": [
        "# Create a random seed\n",
        "\n",
        "torch.manual_seed(42)\n",
        "\n",
        "# create an instance of the model(this is a subclass of nn.module)\n",
        "\n",
        "model_0 = LinearRegressionModel()\n",
        "\n",
        "# Check out the parameters\n",
        "\n",
        "list(model_0.parameters())"
      ],
      "metadata": {
        "colab": {
          "base_uri": "https://localhost:8080/"
        },
        "id": "duuZ5Bqpm1Nl",
        "outputId": "5206c872-1363-41d2-f41d-732eec7fddf8"
      },
      "execution_count": 55,
      "outputs": [
        {
          "output_type": "execute_result",
          "data": {
            "text/plain": [
              "[Parameter containing:\n",
              " tensor([0.3367], requires_grad=True), Parameter containing:\n",
              " tensor([0.1288], requires_grad=True)]"
            ]
          },
          "metadata": {},
          "execution_count": 55
        }
      ]
    },
    {
      "cell_type": "code",
      "source": [
        "# List named parameters\n",
        "\n",
        "model_0.state_dict()"
      ],
      "metadata": {
        "colab": {
          "base_uri": "https://localhost:8080/"
        },
        "id": "6Sk7u97im1Ku",
        "outputId": "e3bf0afa-2a7e-4da4-98f7-1a696174cc71"
      },
      "execution_count": 56,
      "outputs": [
        {
          "output_type": "execute_result",
          "data": {
            "text/plain": [
              "OrderedDict([('weights', tensor([0.3367])), ('bias', tensor([0.1288]))])"
            ]
          },
          "metadata": {},
          "execution_count": 56
        }
      ]
    },
    {
      "cell_type": "code",
      "source": [
        "weight, bias"
      ],
      "metadata": {
        "colab": {
          "base_uri": "https://localhost:8080/"
        },
        "id": "f7KPr3Ewm1IR",
        "outputId": "bc86f3e0-72e3-4d22-a67a-23664f121929"
      },
      "execution_count": 57,
      "outputs": [
        {
          "output_type": "execute_result",
          "data": {
            "text/plain": [
              "(0.7, 0.3)"
            ]
          },
          "metadata": {},
          "execution_count": 57
        }
      ]
    },
    {
      "cell_type": "markdown",
      "source": [
        "### Making predictions using `torch.inference_mode()`\n",
        "\n",
        "to check our model's predictive power, let's see how well it predicts `y_test` based on `X_test`\n",
        "\n",
        "When we pass data through our model it's going to run it through forward method."
      ],
      "metadata": {
        "id": "mPzvU0_lm1DU"
      }
    },
    {
      "cell_type": "code",
      "source": [
        "# Make predictions with model\n",
        "\n",
        "with torch.inference_mode(): \n",
        "  y_preds = model_0(X_test)\n",
        "\n",
        "# # You can also do something similar with torch.no_grad(), however torch.inference_mode() is preferred\n",
        "\n",
        "# with torch.no_grad():\n",
        "#   y_preds = model_0(X_test)\n",
        "\n",
        "\n",
        "y_preds"
      ],
      "metadata": {
        "colab": {
          "base_uri": "https://localhost:8080/"
        },
        "id": "0ev6LuSJm1Az",
        "outputId": "959e8645-da8d-4486-da9d-22218a106d95"
      },
      "execution_count": 58,
      "outputs": [
        {
          "output_type": "execute_result",
          "data": {
            "text/plain": [
              "tensor([[0.3982],\n",
              "        [0.4049],\n",
              "        [0.4116],\n",
              "        [0.4184],\n",
              "        [0.4251],\n",
              "        [0.4318],\n",
              "        [0.4386],\n",
              "        [0.4453],\n",
              "        [0.4520],\n",
              "        [0.4588]])"
            ]
          },
          "metadata": {},
          "execution_count": 58
        }
      ]
    },
    {
      "cell_type": "markdown",
      "source": [
        "See more on inferencemode here: https://twitter.com/PyTorch/status/1437838231505096708"
      ],
      "metadata": {
        "id": "Yhgw1qTxstCO"
      }
    },
    {
      "cell_type": "code",
      "source": [
        "y_test"
      ],
      "metadata": {
        "colab": {
          "base_uri": "https://localhost:8080/"
        },
        "id": "G5B9zR3Lm05o",
        "outputId": "dcc3c366-01f6-447c-928d-f8ae07d1b9c5"
      },
      "execution_count": 59,
      "outputs": [
        {
          "output_type": "execute_result",
          "data": {
            "text/plain": [
              "tensor([[0.8600],\n",
              "        [0.8740],\n",
              "        [0.8880],\n",
              "        [0.9020],\n",
              "        [0.9160],\n",
              "        [0.9300],\n",
              "        [0.9440],\n",
              "        [0.9580],\n",
              "        [0.9720],\n",
              "        [0.9860]])"
            ]
          },
          "metadata": {},
          "execution_count": 59
        }
      ]
    },
    {
      "cell_type": "code",
      "source": [
        "plot_predictions(predictions=y_preds)"
      ],
      "metadata": {
        "colab": {
          "base_uri": "https://localhost:8080/",
          "height": 428
        },
        "id": "vd11Y4cEm03L",
        "outputId": "94f45009-5432-4d0b-9cf9-aa0f684e4154"
      },
      "execution_count": 60,
      "outputs": [
        {
          "output_type": "display_data",
          "data": {
            "text/plain": [
              "<Figure size 720x504 with 1 Axes>"
            ],
            "image/png": "[encoded data removed]"
          },
          "metadata": {
            "needs_background": "light"
          }
        }
      ]
    },
    {
      "cell_type": "markdown",
      "source": [
        "### 3. Train Model\n",
        "\n",
        "The whole idea of training is for a model to move from some *unknown* parameters (these may be random) to some *known* parameters.\n",
        "\n",
        "Or in other words from a poor representation of the data to a better representation of the data\n",
        "\n",
        "One way to measure how wrong your models predictions are is to use a loss function.\n",
        "\n",
        "* Note: Loss function may also be called cost function or criterion in difference areas. In this case we are going to refer to it as a loss function\n",
        "\n",
        "Things we need to train:\n",
        "\n",
        "* **Loss function:** A function to measure how wrong your model's predictions are to the ideal outputs, lower is better.\n",
        "\n",
        "* **Optimizer:** takes into account the loss of a model and adjusts the model's parameters (e.g. weight & bias in our case)  to improve the loss function.\n",
        "\n",
        "And specifically for PyTorch we need a:\n",
        "* training loop\n",
        "* testing loop"
      ],
      "metadata": {
        "id": "aE-24Jpum00t"
      }
    },
    {
      "cell_type": "code",
      "source": [
        "list(model_0.parameters())"
      ],
      "metadata": {
        "colab": {
          "base_uri": "https://localhost:8080/"
        },
        "id": "L_yan0Qem0yh",
        "outputId": "a4d5c024-4701-4ea7-8ba0-cf97b826a542"
      },
      "execution_count": 61,
      "outputs": [
        {
          "output_type": "execute_result",
          "data": {
            "text/plain": [
              "[Parameter containing:\n",
              " tensor([0.3367], requires_grad=True), Parameter containing:\n",
              " tensor([0.1288], requires_grad=True)]"
            ]
          },
          "metadata": {},
          "execution_count": 61
        }
      ]
    },
    {
      "cell_type": "code",
      "source": [
        "# Check out our model's paramters\n",
        "\n",
        "model_0.state_dict()"
      ],
      "metadata": {
        "colab": {
          "base_uri": "https://localhost:8080/"
        },
        "id": "PBtJXItJm0th",
        "outputId": "e26c6e63-383d-4c57-eaa4-1d6f85acd9e9"
      },
      "execution_count": 62,
      "outputs": [
        {
          "output_type": "execute_result",
          "data": {
            "text/plain": [
              "OrderedDict([('weights', tensor([0.3367])), ('bias', tensor([0.1288]))])"
            ]
          },
          "metadata": {},
          "execution_count": 62
        }
      ]
    },
    {
      "cell_type": "code",
      "source": [
        "# Setup a loss function\n",
        "loss_fn = nn.L1Loss()\n",
        "\n",
        "# Setup an optimizer (stochastic gradient descent)\n",
        "optimizer = torch.optim.SGD(params = model_0.parameters(),\n",
        "                            lr=0.01) # learning rate = possible themost important hyperparameter\n",
        "\n",
        "                  "
      ],
      "metadata": {
        "id": "K3O0-RMwm0rH"
      },
      "execution_count": 63,
      "outputs": []
    },
    {
      "cell_type": "code",
      "source": [
        "loss_fn"
      ],
      "metadata": {
        "colab": {
          "base_uri": "https://localhost:8080/"
        },
        "id": "BJeWIFKgviiO",
        "outputId": "04a7274d-2034-4aee-b9bc-bdb9db689897"
      },
      "execution_count": 64,
      "outputs": [
        {
          "output_type": "execute_result",
          "data": {
            "text/plain": [
              "L1Loss()"
            ]
          },
          "metadata": {},
          "execution_count": 64
        }
      ]
    },
    {
      "cell_type": "markdown",
      "source": [
        "Q: Which loss function and optimizer should I use?\n",
        "\n",
        "**A:** This will be problem specific. But with experience, you'll get an idea of what works and what doesn't with your particular problem set.\n",
        "\n",
        "For example, for a regression problem, a loss function of `nn.L1Loss()` and an optmizer like `torch.optim.SGD()` will suffice.\n",
        "\n",
        "But for a classification problem like classifying whether a photo is of a dog or a cat, you'll likely want to use a liss function of `nn.BCELoss()` (binary cross entropy loss)"
      ],
      "metadata": {
        "id": "47WiETVNvif6"
      }
    },
    {
      "cell_type": "markdown",
      "source": [
        "### Building a training loop ( and a testing loop ) in PyTorch\n",
        "\n",
        "A couple of things we need in a training loop:\n",
        "\n",
        "0. Loop through the data and do...\n",
        "1. Forward pass ( this involves data moving through our models `forward()` functions ) to make predictions on data - also called forward propagation\n",
        "2. Calculate the loss ( compare forward pass predictions to ground truth labels )\n",
        "3. Optimizer zero grad\n",
        "4. Loss backward - move backwards through the network to calculate the gradients of each of the parameters of our model w.r.t. to the loss (**backpropagation**)\n",
        "5. Optimizer step - use the optimizer to adjust our model's parameters to try and improve the loss (**gradient descent**)"
      ],
      "metadata": {
        "id": "ciSSk37pvidz"
      }
    },
    {
      "cell_type": "code",
      "source": [
        "# an epoch is one loop through the data... ( this is a hyperparameter because we set it ourselves )\n",
        "epochs = 200\n",
        "\n",
        "# Track different values\n",
        "epoch_count= []\n",
        "loss_values= []\n",
        "test_loss_values= []\n",
        "\n",
        "\n",
        "### Training\n",
        "# 0. Loop through the data\n",
        "for epoch in range(epochs):\n",
        "  # set the model to training mode\n",
        "  model_0.train() # train mode in PyTorch sets all parameters that require gradients to require gradients\n",
        "  \n",
        "  # 1. Forward pass\n",
        "  y_pred = model_0(X_train)\n",
        "\n",
        "  # 2. Calculate the loss\n",
        "  loss= loss_fn(y_pred, y_train)\n",
        "  print(loss)\n",
        "\n",
        "  # 3. Optmizer zero grad - Zero the optimizer gradients ( they accumulate every epoch, zero them to start fresh each forward pass)\n",
        "  optimizer.zero_grad() \n",
        "\n",
        "  # 4. Perform backpropagation on the loss w.r.t. the parameters of the model\n",
        "  # perform backprop on loss function  ( compute the gradient of every parameter with requires_grad = True)\n",
        "  loss.backward()\n",
        "\n",
        "  # 5. Step the optimizer ( perform gradient descent)\n",
        "  optimizer.step() # by default how the optimizer changes will accumulate through the loop so.. we have to zero them above in step 3 for the next iteration of the loop\n",
        "\n",
        "  ### Testing\n",
        "\n",
        "  model_0.eval() # turns of different settings in the model not needed for evaluation/tracking\n",
        "  \n",
        "  with torch.inference_mode(): #  turns off gradient tracking and couple more things behind the scenes\n",
        "    # 1. Do the forward pass\n",
        "    test_pred = model_0(X_test)\n",
        "    \n",
        "    # 2. Calculate the loss\n",
        "    test_loss = loss_fn(test_pred, y_test)\n",
        "\n",
        "  if epoch % 10 == 0:\n",
        "    epoch_count.append(epoch)\n",
        "    loss_values.append(loss)\n",
        "    test_loss_values.append(test_loss)\n",
        "    print(f\"Epoch: {epoch} | Loss: {loss} | test loss: {test_loss}\")\n",
        "\n",
        "  # # print out model state_dict()\n",
        "\n",
        "  # print(model_0.state_dict())\n"
      ],
      "metadata": {
        "colab": {
          "base_uri": "https://localhost:8080/"
        },
        "id": "Wu_jMkRbvibf",
        "outputId": "b3ee1f63-10a8-404d-8f13-e7fc6fbb22b7"
      },
      "execution_count": 65,
      "outputs": [
        {
          "output_type": "stream",
          "name": "stdout",
          "text": [
            "tensor(0.3129, grad_fn=<MeanBackward0>)\n",
            "Epoch: 0 | Loss: 0.31288138031959534 | test loss: 0.48106518387794495\n",
            "tensor(0.3014, grad_fn=<MeanBackward0>)\n",
            "tensor(0.2898, grad_fn=<MeanBackward0>)\n",
            "tensor(0.2783, grad_fn=<MeanBackward0>)\n",
            "tensor(0.2668, grad_fn=<MeanBackward0>)\n",
            "tensor(0.2553, grad_fn=<MeanBackward0>)\n",
            "tensor(0.2438, grad_fn=<MeanBackward0>)\n",
            "tensor(0.2322, grad_fn=<MeanBackward0>)\n",
            "tensor(0.2207, grad_fn=<MeanBackward0>)\n",
            "tensor(0.2092, grad_fn=<MeanBackward0>)\n",
            "tensor(0.1977, grad_fn=<MeanBackward0>)\n",
            "Epoch: 10 | Loss: 0.1976713240146637 | test loss: 0.3463551998138428\n",
            "tensor(0.1862, grad_fn=<MeanBackward0>)\n",
            "tensor(0.1746, grad_fn=<MeanBackward0>)\n",
            "tensor(0.1631, grad_fn=<MeanBackward0>)\n",
            "tensor(0.1516, grad_fn=<MeanBackward0>)\n",
            "tensor(0.1401, grad_fn=<MeanBackward0>)\n",
            "tensor(0.1285, grad_fn=<MeanBackward0>)\n",
            "tensor(0.1170, grad_fn=<MeanBackward0>)\n",
            "tensor(0.1061, grad_fn=<MeanBackward0>)\n",
            "tensor(0.0968, grad_fn=<MeanBackward0>)\n",
            "tensor(0.0891, grad_fn=<MeanBackward0>)\n",
            "Epoch: 20 | Loss: 0.08908725529909134 | test loss: 0.21729660034179688\n",
            "tensor(0.0823, grad_fn=<MeanBackward0>)\n",
            "tensor(0.0764, grad_fn=<MeanBackward0>)\n",
            "tensor(0.0716, grad_fn=<MeanBackward0>)\n",
            "tensor(0.0675, grad_fn=<MeanBackward0>)\n",
            "tensor(0.0640, grad_fn=<MeanBackward0>)\n",
            "tensor(0.0610, grad_fn=<MeanBackward0>)\n",
            "tensor(0.0585, grad_fn=<MeanBackward0>)\n",
            "tensor(0.0564, grad_fn=<MeanBackward0>)\n",
            "tensor(0.0546, grad_fn=<MeanBackward0>)\n",
            "tensor(0.0531, grad_fn=<MeanBackward0>)\n",
            "Epoch: 30 | Loss: 0.053148526698350906 | test loss: 0.14464017748832703\n",
            "tensor(0.0518, grad_fn=<MeanBackward0>)\n",
            "tensor(0.0507, grad_fn=<MeanBackward0>)\n",
            "tensor(0.0498, grad_fn=<MeanBackward0>)\n",
            "tensor(0.0490, grad_fn=<MeanBackward0>)\n",
            "tensor(0.0482, grad_fn=<MeanBackward0>)\n",
            "tensor(0.0475, grad_fn=<MeanBackward0>)\n",
            "tensor(0.0469, grad_fn=<MeanBackward0>)\n",
            "tensor(0.0464, grad_fn=<MeanBackward0>)\n",
            "tensor(0.0459, grad_fn=<MeanBackward0>)\n",
            "tensor(0.0454, grad_fn=<MeanBackward0>)\n",
            "Epoch: 40 | Loss: 0.04543796554207802 | test loss: 0.11360953003168106\n",
            "tensor(0.0450, grad_fn=<MeanBackward0>)\n",
            "tensor(0.0446, grad_fn=<MeanBackward0>)\n",
            "tensor(0.0442, grad_fn=<MeanBackward0>)\n",
            "tensor(0.0438, grad_fn=<MeanBackward0>)\n",
            "tensor(0.0434, grad_fn=<MeanBackward0>)\n",
            "tensor(0.0431, grad_fn=<MeanBackward0>)\n",
            "tensor(0.0427, grad_fn=<MeanBackward0>)\n",
            "tensor(0.0424, grad_fn=<MeanBackward0>)\n",
            "tensor(0.0420, grad_fn=<MeanBackward0>)\n",
            "tensor(0.0417, grad_fn=<MeanBackward0>)\n",
            "Epoch: 50 | Loss: 0.04167863354086876 | test loss: 0.09919948130846024\n",
            "tensor(0.0413, grad_fn=<MeanBackward0>)\n",
            "tensor(0.0410, grad_fn=<MeanBackward0>)\n",
            "tensor(0.0406, grad_fn=<MeanBackward0>)\n",
            "tensor(0.0403, grad_fn=<MeanBackward0>)\n",
            "tensor(0.0399, grad_fn=<MeanBackward0>)\n",
            "tensor(0.0396, grad_fn=<MeanBackward0>)\n",
            "tensor(0.0392, grad_fn=<MeanBackward0>)\n",
            "tensor(0.0389, grad_fn=<MeanBackward0>)\n",
            "tensor(0.0385, grad_fn=<MeanBackward0>)\n",
            "tensor(0.0382, grad_fn=<MeanBackward0>)\n",
            "Epoch: 60 | Loss: 0.03818932920694351 | test loss: 0.08886633068323135\n",
            "tensor(0.0379, grad_fn=<MeanBackward0>)\n",
            "tensor(0.0375, grad_fn=<MeanBackward0>)\n",
            "tensor(0.0372, grad_fn=<MeanBackward0>)\n",
            "tensor(0.0368, grad_fn=<MeanBackward0>)\n",
            "tensor(0.0365, grad_fn=<MeanBackward0>)\n",
            "tensor(0.0361, grad_fn=<MeanBackward0>)\n",
            "tensor(0.0358, grad_fn=<MeanBackward0>)\n",
            "tensor(0.0354, grad_fn=<MeanBackward0>)\n",
            "tensor(0.0351, grad_fn=<MeanBackward0>)\n",
            "tensor(0.0348, grad_fn=<MeanBackward0>)\n",
            "Epoch: 70 | Loss: 0.03476089984178543 | test loss: 0.0805937647819519\n",
            "tensor(0.0344, grad_fn=<MeanBackward0>)\n",
            "tensor(0.0341, grad_fn=<MeanBackward0>)\n",
            "tensor(0.0337, grad_fn=<MeanBackward0>)\n",
            "tensor(0.0334, grad_fn=<MeanBackward0>)\n",
            "tensor(0.0330, grad_fn=<MeanBackward0>)\n",
            "tensor(0.0327, grad_fn=<MeanBackward0>)\n",
            "tensor(0.0324, grad_fn=<MeanBackward0>)\n",
            "tensor(0.0320, grad_fn=<MeanBackward0>)\n",
            "tensor(0.0317, grad_fn=<MeanBackward0>)\n",
            "tensor(0.0313, grad_fn=<MeanBackward0>)\n",
            "Epoch: 80 | Loss: 0.03132382780313492 | test loss: 0.07232122868299484\n",
            "tensor(0.0310, grad_fn=<MeanBackward0>)\n",
            "tensor(0.0306, grad_fn=<MeanBackward0>)\n",
            "tensor(0.0303, grad_fn=<MeanBackward0>)\n",
            "tensor(0.0300, grad_fn=<MeanBackward0>)\n",
            "tensor(0.0296, grad_fn=<MeanBackward0>)\n",
            "tensor(0.0293, grad_fn=<MeanBackward0>)\n",
            "tensor(0.0289, grad_fn=<MeanBackward0>)\n",
            "tensor(0.0286, grad_fn=<MeanBackward0>)\n",
            "tensor(0.0282, grad_fn=<MeanBackward0>)\n",
            "tensor(0.0279, grad_fn=<MeanBackward0>)\n",
            "Epoch: 90 | Loss: 0.02788739837706089 | test loss: 0.06473556160926819\n",
            "tensor(0.0275, grad_fn=<MeanBackward0>)\n",
            "tensor(0.0272, grad_fn=<MeanBackward0>)\n",
            "tensor(0.0269, grad_fn=<MeanBackward0>)\n",
            "tensor(0.0265, grad_fn=<MeanBackward0>)\n",
            "tensor(0.0262, grad_fn=<MeanBackward0>)\n",
            "tensor(0.0258, grad_fn=<MeanBackward0>)\n",
            "tensor(0.0255, grad_fn=<MeanBackward0>)\n",
            "tensor(0.0251, grad_fn=<MeanBackward0>)\n",
            "tensor(0.0248, grad_fn=<MeanBackward0>)\n",
            "tensor(0.0245, grad_fn=<MeanBackward0>)\n",
            "Epoch: 100 | Loss: 0.024458957836031914 | test loss: 0.05646304413676262\n",
            "tensor(0.0241, grad_fn=<MeanBackward0>)\n",
            "tensor(0.0238, grad_fn=<MeanBackward0>)\n",
            "tensor(0.0234, grad_fn=<MeanBackward0>)\n",
            "tensor(0.0231, grad_fn=<MeanBackward0>)\n",
            "tensor(0.0227, grad_fn=<MeanBackward0>)\n",
            "tensor(0.0224, grad_fn=<MeanBackward0>)\n",
            "tensor(0.0221, grad_fn=<MeanBackward0>)\n",
            "tensor(0.0217, grad_fn=<MeanBackward0>)\n",
            "tensor(0.0214, grad_fn=<MeanBackward0>)\n",
            "tensor(0.0210, grad_fn=<MeanBackward0>)\n",
            "Epoch: 110 | Loss: 0.021020207554101944 | test loss: 0.04819049686193466\n",
            "tensor(0.0207, grad_fn=<MeanBackward0>)\n",
            "tensor(0.0203, grad_fn=<MeanBackward0>)\n",
            "tensor(0.0200, grad_fn=<MeanBackward0>)\n",
            "tensor(0.0196, grad_fn=<MeanBackward0>)\n",
            "tensor(0.0193, grad_fn=<MeanBackward0>)\n",
            "tensor(0.0190, grad_fn=<MeanBackward0>)\n",
            "tensor(0.0186, grad_fn=<MeanBackward0>)\n",
            "tensor(0.0183, grad_fn=<MeanBackward0>)\n",
            "tensor(0.0179, grad_fn=<MeanBackward0>)\n",
            "tensor(0.0176, grad_fn=<MeanBackward0>)\n",
            "Epoch: 120 | Loss: 0.01758546568453312 | test loss: 0.04060482233762741\n",
            "tensor(0.0172, grad_fn=<MeanBackward0>)\n",
            "tensor(0.0169, grad_fn=<MeanBackward0>)\n",
            "tensor(0.0166, grad_fn=<MeanBackward0>)\n",
            "tensor(0.0162, grad_fn=<MeanBackward0>)\n",
            "tensor(0.0159, grad_fn=<MeanBackward0>)\n",
            "tensor(0.0155, grad_fn=<MeanBackward0>)\n",
            "tensor(0.0152, grad_fn=<MeanBackward0>)\n",
            "tensor(0.0148, grad_fn=<MeanBackward0>)\n",
            "tensor(0.0145, grad_fn=<MeanBackward0>)\n",
            "tensor(0.0142, grad_fn=<MeanBackward0>)\n",
            "Epoch: 130 | Loss: 0.014155393466353416 | test loss: 0.03233227878808975\n",
            "tensor(0.0138, grad_fn=<MeanBackward0>)\n",
            "tensor(0.0135, grad_fn=<MeanBackward0>)\n",
            "tensor(0.0131, grad_fn=<MeanBackward0>)\n",
            "tensor(0.0128, grad_fn=<MeanBackward0>)\n",
            "tensor(0.0124, grad_fn=<MeanBackward0>)\n",
            "tensor(0.0121, grad_fn=<MeanBackward0>)\n",
            "tensor(0.0118, grad_fn=<MeanBackward0>)\n",
            "tensor(0.0114, grad_fn=<MeanBackward0>)\n",
            "tensor(0.0111, grad_fn=<MeanBackward0>)\n",
            "tensor(0.0107, grad_fn=<MeanBackward0>)\n",
            "Epoch: 140 | Loss: 0.010716589167714119 | test loss: 0.024059748277068138\n",
            "tensor(0.0104, grad_fn=<MeanBackward0>)\n",
            "tensor(0.0100, grad_fn=<MeanBackward0>)\n",
            "tensor(0.0097, grad_fn=<MeanBackward0>)\n",
            "tensor(0.0093, grad_fn=<MeanBackward0>)\n",
            "tensor(0.0090, grad_fn=<MeanBackward0>)\n",
            "tensor(0.0087, grad_fn=<MeanBackward0>)\n",
            "tensor(0.0083, grad_fn=<MeanBackward0>)\n",
            "tensor(0.0080, grad_fn=<MeanBackward0>)\n",
            "tensor(0.0076, grad_fn=<MeanBackward0>)\n",
            "tensor(0.0073, grad_fn=<MeanBackward0>)\n",
            "Epoch: 150 | Loss: 0.0072835334576666355 | test loss: 0.016474086791276932\n",
            "tensor(0.0069, grad_fn=<MeanBackward0>)\n",
            "tensor(0.0066, grad_fn=<MeanBackward0>)\n",
            "tensor(0.0063, grad_fn=<MeanBackward0>)\n",
            "tensor(0.0059, grad_fn=<MeanBackward0>)\n",
            "tensor(0.0056, grad_fn=<MeanBackward0>)\n",
            "tensor(0.0052, grad_fn=<MeanBackward0>)\n",
            "tensor(0.0049, grad_fn=<MeanBackward0>)\n",
            "tensor(0.0045, grad_fn=<MeanBackward0>)\n",
            "tensor(0.0042, grad_fn=<MeanBackward0>)\n",
            "tensor(0.0039, grad_fn=<MeanBackward0>)\n",
            "Epoch: 160 | Loss: 0.0038517764769494534 | test loss: 0.008201557211577892\n",
            "tensor(0.0035, grad_fn=<MeanBackward0>)\n",
            "tensor(0.0032, grad_fn=<MeanBackward0>)\n",
            "tensor(0.0028, grad_fn=<MeanBackward0>)\n",
            "tensor(0.0025, grad_fn=<MeanBackward0>)\n",
            "tensor(0.0021, grad_fn=<MeanBackward0>)\n",
            "tensor(0.0018, grad_fn=<MeanBackward0>)\n",
            "tensor(0.0015, grad_fn=<MeanBackward0>)\n",
            "tensor(0.0012, grad_fn=<MeanBackward0>)\n",
            "tensor(0.0026, grad_fn=<MeanBackward0>)\n",
            "tensor(0.0089, grad_fn=<MeanBackward0>)\n",
            "Epoch: 170 | Loss: 0.008932482451200485 | test loss: 0.005023092031478882\n",
            "tensor(0.0026, grad_fn=<MeanBackward0>)\n",
            "tensor(0.0089, grad_fn=<MeanBackward0>)\n",
            "tensor(0.0026, grad_fn=<MeanBackward0>)\n",
            "tensor(0.0089, grad_fn=<MeanBackward0>)\n",
            "tensor(0.0026, grad_fn=<MeanBackward0>)\n",
            "tensor(0.0089, grad_fn=<MeanBackward0>)\n",
            "tensor(0.0026, grad_fn=<MeanBackward0>)\n",
            "tensor(0.0089, grad_fn=<MeanBackward0>)\n",
            "tensor(0.0026, grad_fn=<MeanBackward0>)\n",
            "tensor(0.0089, grad_fn=<MeanBackward0>)\n",
            "Epoch: 180 | Loss: 0.008932482451200485 | test loss: 0.005023092031478882\n",
            "tensor(0.0026, grad_fn=<MeanBackward0>)\n",
            "tensor(0.0089, grad_fn=<MeanBackward0>)\n",
            "tensor(0.0026, grad_fn=<MeanBackward0>)\n",
            "tensor(0.0089, grad_fn=<MeanBackward0>)\n",
            "tensor(0.0026, grad_fn=<MeanBackward0>)\n",
            "tensor(0.0089, grad_fn=<MeanBackward0>)\n",
            "tensor(0.0026, grad_fn=<MeanBackward0>)\n",
            "tensor(0.0089, grad_fn=<MeanBackward0>)\n",
            "tensor(0.0026, grad_fn=<MeanBackward0>)\n",
            "tensor(0.0089, grad_fn=<MeanBackward0>)\n",
            "Epoch: 190 | Loss: 0.008932482451200485 | test loss: 0.005023092031478882\n",
            "tensor(0.0026, grad_fn=<MeanBackward0>)\n",
            "tensor(0.0089, grad_fn=<MeanBackward0>)\n",
            "tensor(0.0026, grad_fn=<MeanBackward0>)\n",
            "tensor(0.0089, grad_fn=<MeanBackward0>)\n",
            "tensor(0.0026, grad_fn=<MeanBackward0>)\n",
            "tensor(0.0089, grad_fn=<MeanBackward0>)\n",
            "tensor(0.0026, grad_fn=<MeanBackward0>)\n",
            "tensor(0.0089, grad_fn=<MeanBackward0>)\n",
            "tensor(0.0026, grad_fn=<MeanBackward0>)\n"
          ]
        }
      ]
    },
    {
      "cell_type": "code",
      "source": [
        "# Plot the loss curves\n",
        "import numpy as np\n",
        "plt.plot(epoch_count, np.array(torch.tensor(loss_values).numpy()),label=\"Train loss\")\n",
        "plt.plot(epoch_count, test_loss_values,label=\"Test loss\")\n",
        "\n",
        "plt.title(\"Training and Test loss curves\")\n",
        "plt.ylabel(\"Loss\")\n",
        "plt.xlabel(\"Epochs\")\n",
        "plt.legend();"
      ],
      "metadata": {
        "colab": {
          "base_uri": "https://localhost:8080/",
          "height": 295
        },
        "id": "1Cy5BTZHkNDs",
        "outputId": "593cd61e-6090-49da-a7f2-5eb67b457c8c"
      },
      "execution_count": 73,
      "outputs": [
        {
          "output_type": "display_data",
          "data": {
            "text/plain": [
              "<Figure size 432x288 with 1 Axes>"
            ],
            "image/png": "[encoded data removed]"
          },
          "metadata": {
            "needs_background": "light"
          }
        }
      ]
    },
    {
      "cell_type": "code",
      "source": [
        "with torch.inference_mode():\n",
        "  y_preds_new = model_0(X_test)"
      ],
      "metadata": {
        "id": "LCxE0FlTEXtS"
      },
      "execution_count": 67,
      "outputs": []
    },
    {
      "cell_type": "code",
      "source": [
        "plot_predictions(predictions=y_preds_new)"
      ],
      "metadata": {
        "colab": {
          "base_uri": "https://localhost:8080/",
          "height": 428
        },
        "id": "cQiE6PaQviXA",
        "outputId": "db1f804a-c623-43c6-cc67-4ac8ef8f2f0f"
      },
      "execution_count": 68,
      "outputs": [
        {
          "output_type": "display_data",
          "data": {
            "text/plain": [
              "<Figure size 720x504 with 1 Axes>"
            ],
            "image/png": "[encoded data removed]"
          },
          "metadata": {
            "needs_background": "light"
          }
        }
      ]
    },
    {
      "cell_type": "code",
      "source": [
        "\n",
        "plot_predictions(predictions=test_pred)"
      ],
      "metadata": {
        "colab": {
          "base_uri": "https://localhost:8080/",
          "height": 428
        },
        "id": "vafR94V1y49N",
        "outputId": "a823ce8a-50f9-42f6-88e5-c82ec2e7bcae"
      },
      "execution_count": 66,
      "outputs": [
        {
          "output_type": "display_data",
          "data": {
            "text/plain": [
              "<Figure size 720x504 with 1 Axes>"
            ],
            "image/png": "[encoded data removed]"
          },
          "metadata": {
            "needs_background": "light"
          }
        }
      ]
    },
    {
      "cell_type": "code",
      "source": [],
      "metadata": {
        "id": "KyiRrp82y47K"
      },
      "execution_count": 21,
      "outputs": []
    },
    {
      "cell_type": "code",
      "source": [],
      "metadata": {
        "id": "Xw58flVvy442"
      },
      "execution_count": 21,
      "outputs": []
    },
    {
      "cell_type": "code",
      "source": [],
      "metadata": {
        "id": "Uo2MinH4y40C"
      },
      "execution_count": 21,
      "outputs": []
    },
    {
      "cell_type": "code",
      "source": [],
      "metadata": {
        "id": "UYeQLVsUy4v4"
      },
      "execution_count": 21,
      "outputs": []
    },
    {
      "cell_type": "code",
      "source": [],
      "metadata": {
        "id": "LG6_a3aby4ti"
      },
      "execution_count": 21,
      "outputs": []
    },
    {
      "cell_type": "code",
      "source": [],
      "metadata": {
        "id": "CThxs2zny4rT"
      },
      "execution_count": 21,
      "outputs": []
    }
  ]
}