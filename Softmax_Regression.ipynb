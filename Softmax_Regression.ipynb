{
  "nbformat": 4,
  "nbformat_minor": 0,
  "metadata": {
    "colab": {
      "provenance": [],
      "authorship_tag": "ABX9TyO9NEuQamrWoo9+RwFlgSV4",
      "include_colab_link": true
    },
    "kernelspec": {
      "name": "python3",
      "display_name": "Python 3"
    },
    "language_info": {
      "name": "python"
    }
  },
  "cells": [
    {
      "cell_type": "markdown",
      "metadata": {
        "id": "view-in-github",
        "colab_type": "text"
      },
      "source": [
        "<a href=\"https://colab.research.google.com/github/nipunikajain/DeepLearning1/blob/main/Softmax_Regression.ipynb\" target=\"_parent\"><img src=\"https://colab.research.google.com/assets/colab-badge.svg\" alt=\"Open In Colab\"/></a>"
      ]
    },
    {
      "cell_type": "markdown",
      "source": [
        "### Softmax Regression\n",
        "\n",
        "Impementation of *classic* softmax regression (multinomial logistic regression)"
      ],
      "metadata": {
        "id": "I7mXcdf5KLbc"
      }
    },
    {
      "cell_type": "markdown",
      "source": [
        "### Imports"
      ],
      "metadata": {
        "id": "B25tZoYjKZIe"
      }
    },
    {
      "cell_type": "code",
      "source": [
        "%matplotlib inline\n",
        "import matplotlib.pyplot as plt\n",
        "import pandas as pd\n",
        "import torch\n",
        "import torch.nn.functional as F\n",
        "from sklearn import datasets\n",
        "import numpy as np"
      ],
      "metadata": {
        "id": "fyE4QsC6KI4-"
      },
      "execution_count": 20,
      "outputs": []
    },
    {
      "cell_type": "code",
      "source": [
        "df = pd.read_csv('./Iris.csv', index_col=None, header=None)\n",
        "\n",
        "df.drop([0],axis=1,inplace=True)\n",
        "\n",
        "df.columns= ['x1', 'x2', 'x3', 'x4', 'y']\n",
        "\n",
        "d = {'Iris-versicolor': 1,\n",
        "     'Iris-virginica': 2,\n",
        "     'Iris-setosa': 0,\n",
        "}\n",
        "\n",
        "df['y'] = df['y'].map(d)\n",
        "\n",
        "df = df[1:]\n",
        "\n"
      ],
      "metadata": {
        "colab": {
          "base_uri": "https://localhost:8080/",
          "height": 419
        },
        "id": "BeJiQRfPNv9C",
        "outputId": "abfd29f4-1d74-47d0-b090-af1dfedc9449"
      },
      "execution_count": 24,
      "outputs": [
        {
          "output_type": "execute_result",
          "data": {
            "text/plain": [
              "      x1   x2   x3   x4    y\n",
              "1    5.1  3.5  1.4  0.2  0.0\n",
              "2    4.9  3.0  1.4  0.2  0.0\n",
              "3    4.7  3.2  1.3  0.2  0.0\n",
              "4    4.6  3.1  1.5  0.2  0.0\n",
              "5    5.0  3.6  1.4  0.2  0.0\n",
              "..   ...  ...  ...  ...  ...\n",
              "146  6.7  3.0  5.2  2.3  2.0\n",
              "147  6.3  2.5  5.0  1.9  2.0\n",
              "148  6.5  3.0  5.2  2.0  2.0\n",
              "149  6.2  3.4  5.4  2.3  2.0\n",
              "150  5.9  3.0  5.1  1.8  2.0\n",
              "\n",
              "[150 rows x 5 columns]"
            ],
            "text/html": [
              "\n",
              "  <div id=\"df-4b61b466-dd71-4bce-b97a-834e0b18ee20\">\n",
              "    <div class=\"colab-df-container\">\n",
              "      <div>\n",
              "<style scoped>\n",
              "    .dataframe tbody tr th:only-of-type {\n",
              "        vertical-align: middle;\n",
              "    }\n",
              "\n",
              "    .dataframe tbody tr th {\n",
              "        vertical-align: top;\n",
              "    }\n",
              "\n",
              "    .dataframe thead th {\n",
              "        text-align: right;\n",
              "    }\n",
              "</style>\n",
              "<table border=\"1\" class=\"dataframe\">\n",
              "  <thead>\n",
              "    <tr style=\"text-align: right;\">\n",
              "      <th></th>\n",
              "      <th>x1</th>\n",
              "      <th>x2</th>\n",
              "      <th>x3</th>\n",
              "      <th>x4</th>\n",
              "      <th>y</th>\n",
              "    </tr>\n",
              "  </thead>\n",
              "  <tbody>\n",
              "    <tr>\n",
              "      <th>1</th>\n",
              "      <td>5.1</td>\n",
              "      <td>3.5</td>\n",
              "      <td>1.4</td>\n",
              "      <td>0.2</td>\n",
              "      <td>0.0</td>\n",
              "    </tr>\n",
              "    <tr>\n",
              "      <th>2</th>\n",
              "      <td>4.9</td>\n",
              "      <td>3.0</td>\n",
              "      <td>1.4</td>\n",
              "      <td>0.2</td>\n",
              "      <td>0.0</td>\n",
              "    </tr>\n",
              "    <tr>\n",
              "      <th>3</th>\n",
              "      <td>4.7</td>\n",
              "      <td>3.2</td>\n",
              "      <td>1.3</td>\n",
              "      <td>0.2</td>\n",
              "      <td>0.0</td>\n",
              "    </tr>\n",
              "    <tr>\n",
              "      <th>4</th>\n",
              "      <td>4.6</td>\n",
              "      <td>3.1</td>\n",
              "      <td>1.5</td>\n",
              "      <td>0.2</td>\n",
              "      <td>0.0</td>\n",
              "    </tr>\n",
              "    <tr>\n",
              "      <th>5</th>\n",
              "      <td>5.0</td>\n",
              "      <td>3.6</td>\n",
              "      <td>1.4</td>\n",
              "      <td>0.2</td>\n",
              "      <td>0.0</td>\n",
              "    </tr>\n",
              "    <tr>\n",
              "      <th>...</th>\n",
              "      <td>...</td>\n",
              "      <td>...</td>\n",
              "      <td>...</td>\n",
              "      <td>...</td>\n",
              "      <td>...</td>\n",
              "    </tr>\n",
              "    <tr>\n",
              "      <th>146</th>\n",
              "      <td>6.7</td>\n",
              "      <td>3.0</td>\n",
              "      <td>5.2</td>\n",
              "      <td>2.3</td>\n",
              "      <td>2.0</td>\n",
              "    </tr>\n",
              "    <tr>\n",
              "      <th>147</th>\n",
              "      <td>6.3</td>\n",
              "      <td>2.5</td>\n",
              "      <td>5.0</td>\n",
              "      <td>1.9</td>\n",
              "      <td>2.0</td>\n",
              "    </tr>\n",
              "    <tr>\n",
              "      <th>148</th>\n",
              "      <td>6.5</td>\n",
              "      <td>3.0</td>\n",
              "      <td>5.2</td>\n",
              "      <td>2.0</td>\n",
              "      <td>2.0</td>\n",
              "    </tr>\n",
              "    <tr>\n",
              "      <th>149</th>\n",
              "      <td>6.2</td>\n",
              "      <td>3.4</td>\n",
              "      <td>5.4</td>\n",
              "      <td>2.3</td>\n",
              "      <td>2.0</td>\n",
              "    </tr>\n",
              "    <tr>\n",
              "      <th>150</th>\n",
              "      <td>5.9</td>\n",
              "      <td>3.0</td>\n",
              "      <td>5.1</td>\n",
              "      <td>1.8</td>\n",
              "      <td>2.0</td>\n",
              "    </tr>\n",
              "  </tbody>\n",
              "</table>\n",
              "<p>150 rows × 5 columns</p>\n",
              "</div>\n",
              "      <button class=\"colab-df-convert\" onclick=\"convertToInteractive('df-4b61b466-dd71-4bce-b97a-834e0b18ee20')\"\n",
              "              title=\"Convert this dataframe to an interactive table.\"\n",
              "              style=\"display:none;\">\n",
              "        \n",
              "  <svg xmlns=\"http://www.w3.org/2000/svg\" height=\"24px\"viewBox=\"0 0 24 24\"\n",
              "       width=\"24px\">\n",
              "    <path d=\"M0 0h24v24H0V0z\" fill=\"none\"/>\n",
              "    <path d=\"M18.56 5.44l.94 2.06.94-2.06 2.06-.94-2.06-.94-.94-2.06-.94 2.06-2.06.94zm-11 1L8.5 8.5l.94-2.06 2.06-.94-2.06-.94L8.5 2.5l-.94 2.06-2.06.94zm10 10l.94 2.06.94-2.06 2.06-.94-2.06-.94-.94-2.06-.94 2.06-2.06.94z\"/><path d=\"M17.41 7.96l-1.37-1.37c-.4-.4-.92-.59-1.43-.59-.52 0-1.04.2-1.43.59L10.3 9.45l-7.72 7.72c-.78.78-.78 2.05 0 2.83L4 21.41c.39.39.9.59 1.41.59.51 0 1.02-.2 1.41-.59l7.78-7.78 2.81-2.81c.8-.78.8-2.07 0-2.86zM5.41 20L4 18.59l7.72-7.72 1.47 1.35L5.41 20z\"/>\n",
              "  </svg>\n",
              "      </button>\n",
              "      \n",
              "  <style>\n",
              "    .colab-df-container {\n",
              "      display:flex;\n",
              "      flex-wrap:wrap;\n",
              "      gap: 12px;\n",
              "    }\n",
              "\n",
              "    .colab-df-convert {\n",
              "      background-color: #E8F0FE;\n",
              "      border: none;\n",
              "      border-radius: 50%;\n",
              "      cursor: pointer;\n",
              "      display: none;\n",
              "      fill: #1967D2;\n",
              "      height: 32px;\n",
              "      padding: 0 0 0 0;\n",
              "      width: 32px;\n",
              "    }\n",
              "\n",
              "    .colab-df-convert:hover {\n",
              "      background-color: #E2EBFA;\n",
              "      box-shadow: 0px 1px 2px rgba(60, 64, 67, 0.3), 0px 1px 3px 1px rgba(60, 64, 67, 0.15);\n",
              "      fill: #174EA6;\n",
              "    }\n",
              "\n",
              "    [theme=dark] .colab-df-convert {\n",
              "      background-color: #3B4455;\n",
              "      fill: #D2E3FC;\n",
              "    }\n",
              "\n",
              "    [theme=dark] .colab-df-convert:hover {\n",
              "      background-color: #434B5C;\n",
              "      box-shadow: 0px 1px 3px 1px rgba(0, 0, 0, 0.15);\n",
              "      filter: drop-shadow(0px 1px 2px rgba(0, 0, 0, 0.3));\n",
              "      fill: #FFFFFF;\n",
              "    }\n",
              "  </style>\n",
              "\n",
              "      <script>\n",
              "        const buttonEl =\n",
              "          document.querySelector('#df-4b61b466-dd71-4bce-b97a-834e0b18ee20 button.colab-df-convert');\n",
              "        buttonEl.style.display =\n",
              "          google.colab.kernel.accessAllowed ? 'block' : 'none';\n",
              "\n",
              "        async function convertToInteractive(key) {\n",
              "          const element = document.querySelector('#df-4b61b466-dd71-4bce-b97a-834e0b18ee20');\n",
              "          const dataTable =\n",
              "            await google.colab.kernel.invokeFunction('convertToInteractive',\n",
              "                                                     [key], {});\n",
              "          if (!dataTable) return;\n",
              "\n",
              "          const docLinkHtml = 'Like what you see? Visit the ' +\n",
              "            '<a target=\"_blank\" href=https://colab.research.google.com/notebooks/data_table.ipynb>data table notebook</a>'\n",
              "            + ' to learn more about interactive tables.';\n",
              "          element.innerHTML = '';\n",
              "          dataTable['output_type'] = 'display_data';\n",
              "          await google.colab.output.renderOutput(dataTable, element);\n",
              "          const docLink = document.createElement('div');\n",
              "          docLink.innerHTML = docLinkHtml;\n",
              "          element.appendChild(docLink);\n",
              "        }\n",
              "      </script>\n",
              "    </div>\n",
              "  </div>\n",
              "  "
            ]
          },
          "metadata": {},
          "execution_count": 24
        }
      ]
    },
    {
      "cell_type": "markdown",
      "source": [
        "### Preparing Dataset"
      ],
      "metadata": {
        "id": "y8DRvAttKeUr"
      }
    },
    {
      "cell_type": "code",
      "source": [
        "df = pd.read_csv('./Iris.csv', index_col=None, header=None)\n",
        "\n",
        "df = df[1:]\n",
        "df.drop([0],axis=1,inplace=True)\n",
        "\n",
        "\n",
        "df.columns= ['x1', 'x2', 'x3', 'x4', 'y']\n",
        "\n",
        "d = {'Iris-versicolor': 1,\n",
        "     'Iris-virginica': 2,\n",
        "     'Iris-setosa': 0,\n",
        "}\n",
        "\n",
        "df['y'] = df['y'].map(d)\n",
        "\n",
        "# Assign features and target\n",
        "\n",
        "s_array = df[['x2', 'x4']].to_numpy('float16')\n",
        "\n",
        "\n",
        "X = torch.tensor(s_array, dtype=torch.float)\n",
        "y = torch.tensor(df['y'].values, dtype=torch.int)\n",
        "\n",
        "# Shuffling & train/test split\n",
        "\n",
        "torch.manual_seed(123)\n",
        "shuffle_idx = torch.randperm(y.size(0), dtype=torch.long)\n",
        "\n",
        "X, y = X[shuffle_idx], y[shuffle_idx]\n",
        "\n",
        "percent80 = int(shuffle_idx.size(0)*0.8)\n",
        "\n",
        "X_train, X_test = X[shuffle_idx[:percent80]], X[shuffle_idx[percent80:]]\n",
        "y_train, y_test = y[shuffle_idx[:percent80]], y[shuffle_idx[percent80:]]\n",
        "\n",
        "\n",
        "# Normalize (mean zero, unit variance)\n",
        "\n",
        "mu, sigma = X_train.mean(dim=0), X_train.std(dim=0)\n",
        "X_train = (X_train - mu) / sigma\n",
        "X_test = (X_test - mu) / sigma\n",
        "\n",
        "\n",
        "fig, ax = plt.subplots(1, 2, figsize=(7, 2.5))\n",
        "ax[0].scatter(X_train[y_train == 2, 0], X_train[y_train == 2, 1])\n",
        "ax[0].scatter(X_train[y_train == 1, 0], X_train[y_train == 1, 1], marker='v')\n",
        "ax[0].scatter(X_train[y_train == 0, 0], X_train[y_train == 0, 1], marker='s')\n",
        "ax[1].scatter(X_test[y_test == 2, 0], X_test[y_test == 2, 1])\n",
        "ax[1].scatter(X_test[y_test == 1, 0], X_test[y_test == 1, 1], marker='v')\n",
        "ax[1].scatter(X_test[y_test == 0, 0], X_test[y_test == 0, 1], marker='s')\n",
        "plt.show()\n"
      ],
      "metadata": {
        "colab": {
          "base_uri": "https://localhost:8080/",
          "height": 253
        },
        "id": "s3GJVc2vKI1n",
        "outputId": "6111bf21-02e8-4718-8bc9-dbbe5873776f"
      },
      "execution_count": 26,
      "outputs": [
        {
          "output_type": "display_data",
          "data": {
            "text/plain": [
              "<Figure size 700x250 with 2 Axes>"
            ],
            "image/png": "[encoded data removed]"
          },
          "metadata": {}
        }
      ]
    },
    {
      "cell_type": "markdown",
      "source": [
        "### Low-level implementation with manual gradients\n"
      ],
      "metadata": {
        "id": "ydRRtGtURf8k"
      }
    },
    {
      "cell_type": "code",
      "source": [
        "DEVICE = torch.device(\"cuda:0\" if torch.cuda.is_available() else \"cpu\")\n"
      ],
      "metadata": {
        "id": "xEB-myKVKIoV"
      },
      "execution_count": 27,
      "outputs": []
    },
    {
      "cell_type": "code",
      "source": [
        "def to_onehot(y, num_classes):\n",
        "    y_onehot = torch.FloatTensor(y.size(0), num_classes)\n",
        "    y_onehot.zero_()\n",
        "    y_cpu = y.to(torch.device('cpu'))\n",
        "    y_onehot.scatter_(1, y_cpu.view(-1, 1).long(), 1).float()\n",
        "    return y_onehot.to(DEVICE)\n",
        "\n",
        "def softmax(z):\n",
        "    return (torch.exp(z.t()) / torch.sum(torch.exp(z), dim=1)).t()\n",
        "                    \n",
        "def cross_entropy(softmax, y_target):\n",
        "    return -torch.sum(torch.log(softmax) * (y_target), dim=1)"
      ],
      "metadata": {
        "id": "L5HgALRHKIlj"
      },
      "execution_count": 28,
      "outputs": []
    },
    {
      "cell_type": "code",
      "source": [
        "class SoftmaxRegression1():\n",
        "  def __init__(self, num_features, num_classes):\n",
        "    self.num_feature =num_features\n",
        "    self.num_classes = num_classes\n",
        "    self.weights = torch.zeros(num_classes, num_features, # h x m\n",
        "                                   dtype=torch.float32, device=DEVICE)\n",
        "    self.bias= torch.zeros(num_classes,dtype=torch.float32, device=DEVICE)\n",
        "\n",
        "  def forward(self,x):\n",
        "    logits = torch.mm(x, self.weights.t()) + self.bias # net inputs\n",
        "    probas = softmax(logits) # activations\n",
        "    return logits, probas\n",
        "\n",
        "  def backward(self, x, y, probas):  \n",
        "        grad_loss_wrt_w = -torch.mm(x.t(), y - probas).t()\n",
        "        grad_loss_wrt_b = -torch.sum(y - probas)\n",
        "        return grad_loss_wrt_w, grad_loss_wrt_b\n",
        "\n",
        "  def predict_labels(self, x):\n",
        "      logits, probas = self.forward(x)\n",
        "      labels = torch.argmax(probas, dim=1)\n",
        "      return labels    \n",
        "\n",
        "  def evaluate(self, x, y):\n",
        "      labels = self.predict_labels(x).float()\n",
        "      accuracy = torch.sum(labels.view(-1) == y.float()).item() / y.size(0)\n",
        "      return accuracy\n",
        "  \n",
        "  def train(self, x, y, num_epochs, learning_rate=0.01):\n",
        "      epoch_cost = []\n",
        "      for e in range(num_epochs):\n",
        "          \n",
        "          y_onehot = to_onehot(y, num_classes=self.num_classes)\n",
        "          \n",
        "          #### Compute outputs ####\n",
        "          logits, probas = self.forward(x)\n",
        "          \n",
        "          #### Compute gradients ####\n",
        "          grad_w, grad_b = self.backward(x, y_onehot, probas)\n",
        "\n",
        "          #### Update weights ####\n",
        "          self.weights -= learning_rate * grad_w / y.size(0)\n",
        "          self.bias -= learning_rate * grad_b / y.size(0)\n",
        "          \n",
        "          #### Logging ####\n",
        "          logits, probas = self.forward(x)\n",
        "          cost = torch.mean(cross_entropy(probas, y_onehot))\n",
        "          print('Epoch: %03d' % (e+1), end=\"\")\n",
        "          print(' | Train ACC: %.3f' % self.evaluate(x, y), end=\"\")\n",
        "          print(' | Cost: %.3f' % cost)\n",
        "          epoch_cost.append(cost)\n",
        "      return epoch_cost"
      ],
      "metadata": {
        "id": "zFqqEleQKIjM"
      },
      "execution_count": 39,
      "outputs": []
    },
    {
      "cell_type": "code",
      "source": [
        "X_train = X_train.to(DEVICE)\n",
        "y_train = y_train.to(DEVICE)\n",
        "\n",
        "model1 = SoftmaxRegression1(num_features=2, num_classes=3)\n",
        "epoch_cost = model1.train(X_train, y_train, \n",
        "                          num_epochs=50,\n",
        "                          learning_rate=0.1)\n",
        "\n",
        "print('\\nModel parameters:')\n",
        "print('  Weights: %s' % model1.weights)\n",
        "print('  Bias: %s' % model1.bias)"
      ],
      "metadata": {
        "colab": {
          "base_uri": "https://localhost:8080/"
        },
        "id": "WhYT0hEBKIgm",
        "outputId": "895bd5e2-397f-45fd-b311-cef4ed1d6e72"
      },
      "execution_count": 40,
      "outputs": [
        {
          "output_type": "stream",
          "name": "stdout",
          "text": [
            "Epoch: 001 | Train ACC: 0.867 | Cost: 1.055\n",
            "Epoch: 002 | Train ACC: 0.867 | Cost: 1.016\n",
            "Epoch: 003 | Train ACC: 0.867 | Cost: 0.979\n",
            "Epoch: 004 | Train ACC: 0.858 | Cost: 0.945\n",
            "Epoch: 005 | Train ACC: 0.858 | Cost: 0.914\n",
            "Epoch: 006 | Train ACC: 0.858 | Cost: 0.886\n",
            "Epoch: 007 | Train ACC: 0.858 | Cost: 0.859\n",
            "Epoch: 008 | Train ACC: 0.858 | Cost: 0.835\n",
            "Epoch: 009 | Train ACC: 0.858 | Cost: 0.812\n",
            "Epoch: 010 | Train ACC: 0.858 | Cost: 0.791\n",
            "Epoch: 011 | Train ACC: 0.858 | Cost: 0.772\n",
            "Epoch: 012 | Train ACC: 0.858 | Cost: 0.754\n",
            "Epoch: 013 | Train ACC: 0.858 | Cost: 0.737\n",
            "Epoch: 014 | Train ACC: 0.858 | Cost: 0.722\n",
            "Epoch: 015 | Train ACC: 0.858 | Cost: 0.707\n",
            "Epoch: 016 | Train ACC: 0.858 | Cost: 0.693\n",
            "Epoch: 017 | Train ACC: 0.858 | Cost: 0.680\n",
            "Epoch: 018 | Train ACC: 0.858 | Cost: 0.668\n",
            "Epoch: 019 | Train ACC: 0.858 | Cost: 0.657\n",
            "Epoch: 020 | Train ACC: 0.858 | Cost: 0.646\n",
            "Epoch: 021 | Train ACC: 0.858 | Cost: 0.636\n",
            "Epoch: 022 | Train ACC: 0.858 | Cost: 0.627\n",
            "Epoch: 023 | Train ACC: 0.858 | Cost: 0.618\n",
            "Epoch: 024 | Train ACC: 0.858 | Cost: 0.609\n",
            "Epoch: 025 | Train ACC: 0.858 | Cost: 0.601\n",
            "Epoch: 026 | Train ACC: 0.858 | Cost: 0.593\n",
            "Epoch: 027 | Train ACC: 0.858 | Cost: 0.586\n",
            "Epoch: 028 | Train ACC: 0.858 | Cost: 0.579\n",
            "Epoch: 029 | Train ACC: 0.858 | Cost: 0.572\n",
            "Epoch: 030 | Train ACC: 0.858 | Cost: 0.566\n",
            "Epoch: 031 | Train ACC: 0.858 | Cost: 0.560\n",
            "Epoch: 032 | Train ACC: 0.858 | Cost: 0.554\n",
            "Epoch: 033 | Train ACC: 0.858 | Cost: 0.549\n",
            "Epoch: 034 | Train ACC: 0.858 | Cost: 0.543\n",
            "Epoch: 035 | Train ACC: 0.858 | Cost: 0.538\n",
            "Epoch: 036 | Train ACC: 0.858 | Cost: 0.533\n",
            "Epoch: 037 | Train ACC: 0.858 | Cost: 0.529\n",
            "Epoch: 038 | Train ACC: 0.858 | Cost: 0.524\n",
            "Epoch: 039 | Train ACC: 0.858 | Cost: 0.520\n",
            "Epoch: 040 | Train ACC: 0.858 | Cost: 0.516\n",
            "Epoch: 041 | Train ACC: 0.858 | Cost: 0.512\n",
            "Epoch: 042 | Train ACC: 0.858 | Cost: 0.508\n",
            "Epoch: 043 | Train ACC: 0.858 | Cost: 0.504\n",
            "Epoch: 044 | Train ACC: 0.858 | Cost: 0.500\n",
            "Epoch: 045 | Train ACC: 0.858 | Cost: 0.497\n",
            "Epoch: 046 | Train ACC: 0.858 | Cost: 0.494\n",
            "Epoch: 047 | Train ACC: 0.858 | Cost: 0.490\n",
            "Epoch: 048 | Train ACC: 0.858 | Cost: 0.487\n",
            "Epoch: 049 | Train ACC: 0.858 | Cost: 0.484\n",
            "Epoch: 050 | Train ACC: 0.858 | Cost: 0.481\n",
            "\n",
            "Model parameters:\n",
            "  Weights: tensor([[ 0.5581, -1.0240],\n",
            "        [-0.5462,  0.0258],\n",
            "        [-0.0119,  0.9982]])\n",
            "  Bias: tensor([-6.9539e-10, -6.9539e-10, -6.9539e-10])\n"
          ]
        }
      ]
    },
    {
      "cell_type": "markdown",
      "source": [
        "### Evaluating the Model\n"
      ],
      "metadata": {
        "id": "QMrKr4qRWzv8"
      }
    },
    {
      "cell_type": "code",
      "source": [
        "plt.plot(epoch_cost)\n",
        "plt.ylabel('Negative Log Likelihood Loss')\n",
        "plt.xlabel('Epoch')\n",
        "plt.show()"
      ],
      "metadata": {
        "colab": {
          "base_uri": "https://localhost:8080/",
          "height": 449
        },
        "id": "Gn_a7AiKKIWX",
        "outputId": "7e8a9062-a907-46b6-ea3f-55dba4093e87"
      },
      "execution_count": 41,
      "outputs": [
        {
          "output_type": "display_data",
          "data": {
            "text/plain": [
              "<Figure size 640x480 with 1 Axes>"
            ],
            "image/png": "[encoded data removed]"
          },
          "metadata": {}
        }
      ]
    },
    {
      "cell_type": "code",
      "source": [
        "X_test = X_test.to(DEVICE)\n",
        "y_test = y_test.to(DEVICE)\n",
        "\n",
        "test_acc = model1.evaluate(X_test, y_test)\n",
        "print('Test set accuracy: %.2f%%' % (test_acc*100))"
      ],
      "metadata": {
        "colab": {
          "base_uri": "https://localhost:8080/"
        },
        "id": "Yh16YnzeKIRe",
        "outputId": "ace8d3c0-ff4a-472f-87f0-5206244fea65"
      },
      "execution_count": 42,
      "outputs": [
        {
          "output_type": "stream",
          "name": "stdout",
          "text": [
            "Test set accuracy: 80.00%\n"
          ]
        }
      ]
    },
    {
      "cell_type": "code",
      "source": [
        "from matplotlib.colors import ListedColormap\n",
        "import numpy as np\n",
        "\n",
        "\n",
        "def plot_decision_regions(X, y, classifier, resolution=0.02):\n",
        "\n",
        "    # setup marker generator and color map\n",
        "    markers = ('s', 'x', 'o', '^', 'v')\n",
        "    colors = ('red', 'blue', 'lightgreen', 'gray', 'cyan')\n",
        "    cmap = ListedColormap(colors[:len(np.unique(y))])\n",
        "\n",
        "    # plot the decision surface\n",
        "    x1_min, x1_max = X[:, 0].min() - 1, X[:, 0].max() + 1\n",
        "    x2_min, x2_max = X[:, 1].min() - 1, X[:, 1].max() + 1\n",
        "    xx1, xx2 = np.meshgrid(np.arange(x1_min, x1_max, resolution),\n",
        "                           np.arange(x2_min, x2_max, resolution))\n",
        "    tensor = torch.tensor(np.array([xx1.ravel(), xx2.ravel()]).T).float()\n",
        "    logits, probas = classifier.forward(tensor)\n",
        "    Z = np.argmax(probas.detach().numpy(), axis=1)\n",
        "\n",
        "    Z = Z.reshape(xx1.shape)\n",
        "    plt.contourf(xx1, xx2, Z, alpha=0.4, cmap=cmap)\n",
        "    plt.xlim(xx1.min(), xx1.max())\n",
        "    plt.ylim(xx2.min(), xx2.max())\n",
        "\n",
        "    # plot class samples\n",
        "    for idx, cl in enumerate(np.unique(y)):\n",
        "        plt.scatter(x=X[y == cl, 0], y=X[y == cl, 1],\n",
        "                    alpha=0.8, color=cmap(idx),\n",
        "                    edgecolor='black',\n",
        "                    marker=markers[idx], \n",
        "                    label=cl)"
      ],
      "metadata": {
        "id": "bx7N5VzuKIME"
      },
      "execution_count": 43,
      "outputs": []
    },
    {
      "cell_type": "code",
      "source": [
        "plot_decision_regions(X_train, y_train, classifier=model1)\n",
        "plt.xlabel('sepal length [cm]')\n",
        "plt.ylabel('petal length [cm]')\n",
        "plt.legend(loc='upper left')\n",
        "\n",
        "plt.tight_layout()\n",
        "plt.show()"
      ],
      "metadata": {
        "colab": {
          "base_uri": "https://localhost:8080/",
          "height": 541
        },
        "id": "khD56Ny1KIGT",
        "outputId": "c385d4e6-1887-4e31-f637-7e439664b428"
      },
      "execution_count": 44,
      "outputs": [
        {
          "output_type": "stream",
          "name": "stderr",
          "text": [
            "<ipython-input-43-0f2f17e653cc>:28: UserWarning: You passed a edgecolor/edgecolors ('black') for an unfilled marker ('x').  Matplotlib is ignoring the edgecolor in favor of the facecolor.  This behavior may change in the future.\n",
            "  plt.scatter(x=X[y == cl, 0], y=X[y == cl, 1],\n"
          ]
        },
        {
          "output_type": "display_data",
          "data": {
            "text/plain": [
              "<Figure size 640x480 with 1 Axes>"
            ],
            "image/png": "[encoded data removed]"
          },
          "metadata": {}
        }
      ]
    },
    {
      "cell_type": "markdown",
      "source": [
        "### High-level implementation using the nn.Module API\n"
      ],
      "metadata": {
        "id": "x8eRu1GSX6VM"
      }
    },
    {
      "cell_type": "code",
      "source": [
        "class SoftmaxRegression2(torch.nn.Module):\n",
        "  def __init__(self, num_features, num_classes):\n",
        "    super(SoftmaxRegression2, self).__init__()\n",
        "    self.linear = torch.nn.Linear(num_features, num_classes)\n",
        "          # initialize weights to zeros here,\n",
        "          # since we used zero weights in the\n",
        "          # manual approach\n",
        "    self.linear.weight.detach().zero_()\n",
        "    self.linear.bias.detach().zero_()\n",
        "    # Note: the trailing underscore\n",
        "    # means \"in-place operation\" in the context\n",
        "    # of PyTorch\n",
        "\n",
        "  def forward(self, x):\n",
        "    logits = self.linear(x)\n",
        "    probas = F.softmax(logits, dim=1)\n",
        "    return logits, probas\n",
        "\n",
        "model2 = SoftmaxRegression2(num_features=2, num_classes=3).to(DEVICE)\n",
        "optimizer = torch.optim.SGD(model2.parameters(), lr=0.1)\n"
      ],
      "metadata": {
        "id": "biIszdFJKH5S"
      },
      "execution_count": 46,
      "outputs": []
    },
    {
      "cell_type": "code",
      "source": [
        "def comp_accuracy(true_labels, pred_labels):\n",
        "    accuracy = torch.sum(true_labels.view(-1).float() == \n",
        "                         pred_labels.float()).item() / true_labels.size(0)\n",
        "    return accuracy\n",
        "\n",
        "\n",
        "\n",
        "X_train = X_train.to(DEVICE)\n",
        "y_train = y_train.to(DEVICE)\n",
        "X_test = X_test.to(DEVICE)\n",
        "y_test = y_test.to(DEVICE)\n",
        "\n",
        "num_epochs = 50\n",
        "for epoch in range(num_epochs):\n",
        "    \n",
        "    #### Compute outputs ####\n",
        "    logits, probas = model2(X_train)\n",
        "    \n",
        "    #### Compute gradients ####\n",
        "    cost = F.cross_entropy(logits, y_train.long())\n",
        "    optimizer.zero_grad()\n",
        "    cost.backward()\n",
        "    \n",
        "    #### Update weights ####  \n",
        "    optimizer.step()\n",
        "    \n",
        "    #### Logging ####      \n",
        "    logits, probas = model2(X_train)\n",
        "    acc = comp_accuracy(y_train, torch.argmax(probas, dim=1))\n",
        "    print('Epoch: %03d' % (epoch + 1), end=\"\")\n",
        "    print(' | Train ACC: %.3f' % acc, end=\"\")\n",
        "    print(' | Cost: %.3f' % F.cross_entropy(logits, y_train.long()))\n",
        "\n",
        "\n",
        "    \n",
        "print('\\nModel parameters:')\n",
        "print('  Weights: %s' % model2.linear.weight)\n",
        "print('  Bias: %s' % model2.linear.bias)"
      ],
      "metadata": {
        "colab": {
          "base_uri": "https://localhost:8080/"
        },
        "id": "dulniebtKH2Z",
        "outputId": "88bfae2d-0051-4813-ad1d-2a7579427b7c"
      },
      "execution_count": 47,
      "outputs": [
        {
          "output_type": "stream",
          "name": "stdout",
          "text": [
            "Epoch: 001 | Train ACC: 0.833 | Cost: 1.055\n",
            "Epoch: 002 | Train ACC: 0.833 | Cost: 1.015\n",
            "Epoch: 003 | Train ACC: 0.833 | Cost: 0.979\n",
            "Epoch: 004 | Train ACC: 0.833 | Cost: 0.945\n",
            "Epoch: 005 | Train ACC: 0.833 | Cost: 0.914\n",
            "Epoch: 006 | Train ACC: 0.833 | Cost: 0.885\n",
            "Epoch: 007 | Train ACC: 0.833 | Cost: 0.859\n",
            "Epoch: 008 | Train ACC: 0.833 | Cost: 0.835\n",
            "Epoch: 009 | Train ACC: 0.833 | Cost: 0.812\n",
            "Epoch: 010 | Train ACC: 0.833 | Cost: 0.791\n",
            "Epoch: 011 | Train ACC: 0.833 | Cost: 0.772\n",
            "Epoch: 012 | Train ACC: 0.833 | Cost: 0.754\n",
            "Epoch: 013 | Train ACC: 0.833 | Cost: 0.737\n",
            "Epoch: 014 | Train ACC: 0.833 | Cost: 0.722\n",
            "Epoch: 015 | Train ACC: 0.833 | Cost: 0.707\n",
            "Epoch: 016 | Train ACC: 0.833 | Cost: 0.693\n",
            "Epoch: 017 | Train ACC: 0.833 | Cost: 0.680\n",
            "Epoch: 018 | Train ACC: 0.833 | Cost: 0.668\n",
            "Epoch: 019 | Train ACC: 0.833 | Cost: 0.657\n",
            "Epoch: 020 | Train ACC: 0.833 | Cost: 0.646\n",
            "Epoch: 021 | Train ACC: 0.842 | Cost: 0.636\n",
            "Epoch: 022 | Train ACC: 0.842 | Cost: 0.627\n",
            "Epoch: 023 | Train ACC: 0.867 | Cost: 0.618\n",
            "Epoch: 024 | Train ACC: 0.867 | Cost: 0.609\n",
            "Epoch: 025 | Train ACC: 0.867 | Cost: 0.601\n",
            "Epoch: 026 | Train ACC: 0.867 | Cost: 0.593\n",
            "Epoch: 027 | Train ACC: 0.858 | Cost: 0.586\n",
            "Epoch: 028 | Train ACC: 0.858 | Cost: 0.579\n",
            "Epoch: 029 | Train ACC: 0.858 | Cost: 0.572\n",
            "Epoch: 030 | Train ACC: 0.858 | Cost: 0.566\n",
            "Epoch: 031 | Train ACC: 0.858 | Cost: 0.560\n",
            "Epoch: 032 | Train ACC: 0.858 | Cost: 0.554\n",
            "Epoch: 033 | Train ACC: 0.858 | Cost: 0.548\n",
            "Epoch: 034 | Train ACC: 0.858 | Cost: 0.543\n",
            "Epoch: 035 | Train ACC: 0.858 | Cost: 0.538\n",
            "Epoch: 036 | Train ACC: 0.858 | Cost: 0.533\n",
            "Epoch: 037 | Train ACC: 0.858 | Cost: 0.528\n",
            "Epoch: 038 | Train ACC: 0.858 | Cost: 0.524\n",
            "Epoch: 039 | Train ACC: 0.858 | Cost: 0.519\n",
            "Epoch: 040 | Train ACC: 0.858 | Cost: 0.515\n",
            "Epoch: 041 | Train ACC: 0.858 | Cost: 0.511\n",
            "Epoch: 042 | Train ACC: 0.858 | Cost: 0.507\n",
            "Epoch: 043 | Train ACC: 0.858 | Cost: 0.503\n",
            "Epoch: 044 | Train ACC: 0.858 | Cost: 0.499\n",
            "Epoch: 045 | Train ACC: 0.858 | Cost: 0.496\n",
            "Epoch: 046 | Train ACC: 0.858 | Cost: 0.492\n",
            "Epoch: 047 | Train ACC: 0.858 | Cost: 0.489\n",
            "Epoch: 048 | Train ACC: 0.858 | Cost: 0.486\n",
            "Epoch: 049 | Train ACC: 0.858 | Cost: 0.483\n",
            "Epoch: 050 | Train ACC: 0.858 | Cost: 0.480\n",
            "\n",
            "Model parameters:\n",
            "  Weights: Parameter containing:\n",
            "tensor([[ 0.5584, -1.0258],\n",
            "        [-0.5482,  0.0316],\n",
            "        [-0.0101,  0.9941]], requires_grad=True)\n",
            "  Bias: Parameter containing:\n",
            "tensor([-0.0553,  0.0340,  0.0213], requires_grad=True)\n"
          ]
        }
      ]
    },
    {
      "cell_type": "code",
      "source": [
        "X_test = X_test.to(DEVICE)\n",
        "y_test = y_test.to(DEVICE)\n",
        "\n",
        "test_acc = model1.evaluate(X_test, y_test)\n",
        "print('Test set accuracy: %.2f%%' % (test_acc*100))"
      ],
      "metadata": {
        "colab": {
          "base_uri": "https://localhost:8080/"
        },
        "id": "tt2UhppOKHzZ",
        "outputId": "b5785f36-8b14-405f-ece9-8b7f66e970d2"
      },
      "execution_count": 48,
      "outputs": [
        {
          "output_type": "stream",
          "name": "stdout",
          "text": [
            "Test set accuracy: 80.00%\n"
          ]
        }
      ]
    },
    {
      "cell_type": "code",
      "source": [
        "plot_decision_regions(X_train, y_train, classifier=model2)\n",
        "plt.xlabel('sepal length [cm]')\n",
        "plt.ylabel('petal length [cm]')\n",
        "plt.legend(loc='upper left')\n",
        "\n",
        "plt.tight_layout()\n",
        "plt.show()\n"
      ],
      "metadata": {
        "colab": {
          "base_uri": "https://localhost:8080/",
          "height": 541
        },
        "id": "EnxNs9ReKHwe",
        "outputId": "c5f42be7-2988-4387-e1cc-3cb7153bbe9e"
      },
      "execution_count": 49,
      "outputs": [
        {
          "output_type": "stream",
          "name": "stderr",
          "text": [
            "<ipython-input-43-0f2f17e653cc>:28: UserWarning: You passed a edgecolor/edgecolors ('black') for an unfilled marker ('x').  Matplotlib is ignoring the edgecolor in favor of the facecolor.  This behavior may change in the future.\n",
            "  plt.scatter(x=X[y == cl, 0], y=X[y == cl, 1],\n"
          ]
        },
        {
          "output_type": "display_data",
          "data": {
            "text/plain": [
              "<Figure size 640x480 with 1 Axes>"
            ],
            "image/png": "[encoded data removed]"
          },
          "metadata": {}
        }
      ]
    },
    {
      "cell_type": "code",
      "source": [],
      "metadata": {
        "id": "K0kn-EQBKHtV"
      },
      "execution_count": null,
      "outputs": []
    },
    {
      "cell_type": "code",
      "source": [],
      "metadata": {
        "id": "Va7N0KR0KHqV"
      },
      "execution_count": null,
      "outputs": []
    },
    {
      "cell_type": "code",
      "source": [],
      "metadata": {
        "id": "0ziHXifUKHjx"
      },
      "execution_count": null,
      "outputs": []
    },
    {
      "cell_type": "code",
      "source": [],
      "metadata": {
        "id": "rn_lupUqKHhK"
      },
      "execution_count": null,
      "outputs": []
    },
    {
      "cell_type": "code",
      "source": [],
      "metadata": {
        "id": "g7PQZ2NxKHb8"
      },
      "execution_count": null,
      "outputs": []
    },
    {
      "cell_type": "code",
      "source": [],
      "metadata": {
        "id": "F2dK6uvGKHZc"
      },
      "execution_count": null,
      "outputs": []
    },
    {
      "cell_type": "code",
      "source": [],
      "metadata": {
        "id": "24RUmsuzKHWy"
      },
      "execution_count": null,
      "outputs": []
    },
    {
      "cell_type": "code",
      "source": [],
      "metadata": {
        "id": "XN0_0XbRKHUR"
      },
      "execution_count": null,
      "outputs": []
    },
    {
      "cell_type": "code",
      "source": [],
      "metadata": {
        "id": "rd2cxmZSKHR4"
      },
      "execution_count": null,
      "outputs": []
    },
    {
      "cell_type": "code",
      "source": [],
      "metadata": {
        "id": "KZfdHEw5KHPW"
      },
      "execution_count": null,
      "outputs": []
    },
    {
      "cell_type": "code",
      "source": [],
      "metadata": {
        "id": "14RbtM-aKHM1"
      },
      "execution_count": null,
      "outputs": []
    },
    {
      "cell_type": "code",
      "source": [],
      "metadata": {
        "id": "_9BNztbCKHKg"
      },
      "execution_count": null,
      "outputs": []
    },
    {
      "cell_type": "code",
      "source": [],
      "metadata": {
        "id": "GS3JZAXvKHH2"
      },
      "execution_count": null,
      "outputs": []
    },
    {
      "cell_type": "code",
      "source": [],
      "metadata": {
        "id": "e0bIDlLHKHFS"
      },
      "execution_count": null,
      "outputs": []
    },
    {
      "cell_type": "code",
      "source": [],
      "metadata": {
        "id": "3YVaUEBUKHCq"
      },
      "execution_count": null,
      "outputs": []
    },
    {
      "cell_type": "code",
      "source": [],
      "metadata": {
        "id": "UjDC9jI2KHAD"
      },
      "execution_count": null,
      "outputs": []
    },
    {
      "cell_type": "code",
      "source": [],
      "metadata": {
        "id": "LEEst4OMKG9w"
      },
      "execution_count": null,
      "outputs": []
    },
    {
      "cell_type": "code",
      "source": [],
      "metadata": {
        "id": "aAoMJ7IkKG3N"
      },
      "execution_count": null,
      "outputs": []
    },
    {
      "cell_type": "code",
      "source": [],
      "metadata": {
        "id": "d7FVucwCKGuc"
      },
      "execution_count": null,
      "outputs": []
    },
    {
      "cell_type": "code",
      "execution_count": null,
      "metadata": {
        "id": "FbVcnwfpFiRx"
      },
      "outputs": [],
      "source": []
    }
  ]
}