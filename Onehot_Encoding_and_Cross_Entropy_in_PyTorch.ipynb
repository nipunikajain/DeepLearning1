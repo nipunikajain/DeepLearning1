{
  "nbformat": 4,
  "nbformat_minor": 0,
  "metadata": {
    "colab": {
      "provenance": [],
      "authorship_tag": "ABX9TyPJKDmwlZeJty5kCPCFGMyS",
      "include_colab_link": true
    },
    "kernelspec": {
      "name": "python3",
      "display_name": "Python 3"
    },
    "language_info": {
      "name": "python"
    }
  },
  "cells": [
    {
      "cell_type": "markdown",
      "metadata": {
        "id": "view-in-github",
        "colab_type": "text"
      },
      "source": [
        "<a href=\"https://colab.research.google.com/github/nipunikajain/DeepLearning1/blob/main/Onehot_Encoding_and_Cross_Entropy_in_PyTorch.ipynb\" target=\"_parent\"><img src=\"https://colab.research.google.com/assets/colab-badge.svg\" alt=\"Open In Colab\"/></a>"
      ]
    },
    {
      "cell_type": "markdown",
      "source": [
        "### Understanding Onehot Encoding and Cross Entropy in PyTorch\n",
        "**bold text**"
      ],
      "metadata": {
        "id": "I0xu1YRlWIpy"
      }
    },
    {
      "cell_type": "code",
      "source": [
        "import torch"
      ],
      "metadata": {
        "id": "iwjoVL1JSjAT"
      },
      "execution_count": 3,
      "outputs": []
    },
    {
      "cell_type": "markdown",
      "source": [
        "#### One-hot encoding"
      ],
      "metadata": {
        "id": "oofyoCQUWNlj"
      }
    },
    {
      "cell_type": "code",
      "source": [
        "def to_onehot(y, num_classes):\n",
        "  y_onehot = torch.zeros(y.size(0), num_classes)\n",
        "  y_onehot.scatter_(1,y.view(-1,1).long(),1).float()\n",
        "  return y_onehot\n",
        "\n",
        "y=torch.tensor([0,1,2,2])\n",
        "y_enc = to_onehot(y,3)\n",
        "\n",
        "print('one-hot encoding:\\n', y_enc)"
      ],
      "metadata": {
        "colab": {
          "base_uri": "https://localhost:8080/"
        },
        "id": "9zdzXwxKSjBB",
        "outputId": "566c57cf-1307-4d64-a663-4d2534027855"
      },
      "execution_count": 4,
      "outputs": [
        {
          "output_type": "stream",
          "name": "stdout",
          "text": [
            "one-hot encoding:\n",
            " tensor([[1., 0., 0.],\n",
            "        [0., 1., 0.],\n",
            "        [0., 0., 1.],\n",
            "        [0., 0., 1.]])\n"
          ]
        }
      ]
    },
    {
      "cell_type": "markdown",
      "source": [
        "### Softmax\n",
        "\n",
        "Suppose we have some net inputs Z, where each row is one training example:"
      ],
      "metadata": {
        "id": "JQBW6zReW0uy"
      }
    },
    {
      "cell_type": "code",
      "source": [
        "z = torch.tensor([[-0.3,  -0.5, -0.5],\n",
        "                   [-0.4,  -0.1, -0.5],\n",
        "                   [-0.3,  -0.94, -0.5],\n",
        "                   [-0.99, -0.88, -0.5]])\n",
        "\n",
        "z"
      ],
      "metadata": {
        "colab": {
          "base_uri": "https://localhost:8080/"
        },
        "id": "UD_cOtq3SjF7",
        "outputId": "416940e1-f81b-4714-9667-b7770f6c20af"
      },
      "execution_count": 5,
      "outputs": [
        {
          "output_type": "execute_result",
          "data": {
            "text/plain": [
              "tensor([[-0.3000, -0.5000, -0.5000],\n",
              "        [-0.4000, -0.1000, -0.5000],\n",
              "        [-0.3000, -0.9400, -0.5000],\n",
              "        [-0.9900, -0.8800, -0.5000]])"
            ]
          },
          "metadata": {},
          "execution_count": 5
        }
      ]
    },
    {
      "cell_type": "markdown",
      "source": [
        "Next, we convert them to \"probabilities\" via. softmax:\n",
        "\n",
        "![image.png](data:image/png;base64,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)"
      ],
      "metadata": {
        "id": "_w2_nCmCYrjx"
      }
    },
    {
      "cell_type": "code",
      "source": [
        "def softmax(z):\n",
        "    return (torch.exp(z.t()) / torch.sum(torch.exp(z), dim=1)).t()\n",
        "\n",
        "smax = softmax(z)\n",
        "print('softmax:\\n', smax)"
      ],
      "metadata": {
        "colab": {
          "base_uri": "https://localhost:8080/"
        },
        "id": "es9FqChuSjIU",
        "outputId": "b8ee1606-8282-4de0-8298-d11de81e6161"
      },
      "execution_count": 10,
      "outputs": [
        {
          "output_type": "stream",
          "name": "stdout",
          "text": [
            "softmax:\n",
            " tensor([[0.3792, 0.3104, 0.3104],\n",
            "        [0.3072, 0.4147, 0.2780],\n",
            "        [0.4263, 0.2248, 0.3490],\n",
            "        [0.2668, 0.2978, 0.4354]])\n"
          ]
        }
      ]
    },
    {
      "cell_type": "markdown",
      "source": [
        "The probabilties can then be converted back to class labels based on the largest probability in each row:\n",
        "\n"
      ],
      "metadata": {
        "id": "4Vfuka5zZo9p"
      }
    },
    {
      "cell_type": "code",
      "source": [
        "def to_classlabel(z):\n",
        "    return torch.argmax(z, dim=1)\n",
        "\n",
        "print('predicted class labels: ', to_classlabel(smax))\n",
        "print('true class labels: ', to_classlabel(y_enc))"
      ],
      "metadata": {
        "colab": {
          "base_uri": "https://localhost:8080/"
        },
        "id": "ZTY1SevrSjPw",
        "outputId": "ac4d259f-5286-44e4-85f5-125dfcd19bd0"
      },
      "execution_count": 11,
      "outputs": [
        {
          "output_type": "stream",
          "name": "stdout",
          "text": [
            "predicted class labels:  tensor([0, 1, 0, 2])\n",
            "true class labels:  tensor([0, 1, 2, 2])\n"
          ]
        }
      ]
    },
    {
      "cell_type": "markdown",
      "source": [
        "### Cross Entropy\n",
        "\n",
        "![image.png](data:image/png;base64,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)"
      ],
      "metadata": {
        "id": "h6avZ_WwZ_8C"
      }
    },
    {
      "cell_type": "code",
      "source": [
        "def cross_entropy(softmax, y_target):\n",
        "    return - torch.sum(torch.log(softmax) * (y_target), dim=1)\n",
        "\n",
        "xent = cross_entropy(smax, y_enc)\n",
        "print('Cross Entropy:', xent)"
      ],
      "metadata": {
        "colab": {
          "base_uri": "https://localhost:8080/"
        },
        "id": "_0tusF8ySjSJ",
        "outputId": "1dd1a5f4-622c-47fe-87c8-8d63f24d05bf"
      },
      "execution_count": 12,
      "outputs": [
        {
          "output_type": "stream",
          "name": "stdout",
          "text": [
            "Cross Entropy: tensor([0.9698, 0.8801, 1.0527, 0.8314])\n"
          ]
        }
      ]
    },
    {
      "cell_type": "code",
      "source": [],
      "metadata": {
        "id": "ekc1pBfPSjUy"
      },
      "execution_count": null,
      "outputs": []
    },
    {
      "cell_type": "code",
      "source": [],
      "metadata": {
        "id": "c5ZugK5WSjZu"
      },
      "execution_count": null,
      "outputs": []
    },
    {
      "cell_type": "code",
      "source": [],
      "metadata": {
        "id": "8bUWCu6rSjcV"
      },
      "execution_count": null,
      "outputs": []
    },
    {
      "cell_type": "code",
      "source": [],
      "metadata": {
        "id": "KWnIEBlCSjmj"
      },
      "execution_count": null,
      "outputs": []
    },
    {
      "cell_type": "code",
      "source": [],
      "metadata": {
        "id": "WD6OZsJbSjqc"
      },
      "execution_count": null,
      "outputs": []
    },
    {
      "cell_type": "code",
      "source": [],
      "metadata": {
        "id": "aJInDHCvSjss"
      },
      "execution_count": null,
      "outputs": []
    },
    {
      "cell_type": "code",
      "source": [],
      "metadata": {
        "id": "y8XwYa62Sjvu"
      },
      "execution_count": null,
      "outputs": []
    }
  ]
}