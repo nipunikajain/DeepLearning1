{
  "nbformat": 4,
  "nbformat_minor": 0,
  "metadata": {
    "colab": {
      "provenance": [],
      "authorship_tag": "ABX9TyOiG8QssCWQEbXlqNREODzP",
      "include_colab_link": true
    },
    "kernelspec": {
      "name": "python3",
      "display_name": "Python 3"
    },
    "language_info": {
      "name": "python"
    }
  },
  "cells": [
    {
      "cell_type": "markdown",
      "metadata": {
        "id": "view-in-github",
        "colab_type": "text"
      },
      "source": [
        "<a href=\"https://colab.research.google.com/github/nipunikajain/DeepLearning1/blob/main/Logistic_Regression.ipynb\" target=\"_parent\"><img src=\"https://colab.research.google.com/assets/colab-badge.svg\" alt=\"Open In Colab\"/></a>"
      ]
    },
    {
      "cell_type": "code",
      "execution_count": 1,
      "metadata": {
        "id": "W3iw17mpn3v3"
      },
      "outputs": [],
      "source": [
        "%matplotlib inline\n",
        "\n",
        "import matplotlib.pyplot as plt\n",
        "import numpy as np\n",
        "\n",
        "import torch\n",
        "import torch.nn.functional as F"
      ]
    },
    {
      "cell_type": "code",
      "source": [
        "##########################\n",
        "### DATASET\n",
        "##########################\n",
        "\n",
        "data = np.genfromtxt('toydata.txt', delimiter='\\t')\n",
        "x = data[:, :2].astype(np.float32)\n",
        "y = data[:, 2].astype(np.int64)\n",
        "\n",
        "np.random.seed(123)\n",
        "idx = np.arange(y.shape[0])\n",
        "np.random.shuffle(idx)\n",
        "X_test, y_test = x[idx[:25]], y[idx[:25]]\n",
        "X_train, y_train = x[idx[25:]], y[idx[25:]]\n",
        "mu, std = np.mean(X_train, axis=0), np.std(X_train, axis=0)\n",
        "X_train, X_test = (X_train - mu) / std, (X_test - mu) / std\n",
        "\n",
        "fig, ax = plt.subplots(1, 2, figsize=(7, 2.5))\n",
        "ax[0].scatter(X_train[y_train == 1, 0], X_train[y_train == 1, 1])\n",
        "ax[0].scatter(X_train[y_train == 0, 0], X_train[y_train == 0, 1])\n",
        "ax[1].scatter(X_test[y_test == 1, 0], X_test[y_test == 1, 1])\n",
        "ax[1].scatter(X_test[y_test == 0, 0], X_test[y_test == 0, 1])\n",
        "plt.xlim([x[:, 0].min()-0.5, x[:, 0].max()+0.5])\n",
        "plt.ylim([x[:, 1].min()-0.5, x[:, 1].max()+0.5])\n",
        "plt.show()"
      ],
      "metadata": {
        "colab": {
          "base_uri": "https://localhost:8080/",
          "height": 253
        },
        "id": "vVxFmSbdoAtN",
        "outputId": "24865784-10f2-4cb3-eb94-68b5b8f783f7"
      },
      "execution_count": 4,
      "outputs": [
        {
          "output_type": "display_data",
          "data": {
            "text/plain": [
              "<Figure size 700x250 with 2 Axes>"
            ],
            "image/png": "[encoded data removed]"
          },
          "metadata": {}
        }
      ]
    },
    {
      "cell_type": "markdown",
      "source": [
        "### Low-level implementation with manual gradients"
      ],
      "metadata": {
        "id": "0L9r6W5grUy0"
      }
    },
    {
      "cell_type": "code",
      "source": [
        "device = torch.device(\"cuda:0\" if torch.cuda.is_available() else \"cpu\")\n",
        "\n",
        "\n",
        "class LogisticRegression1():\n",
        "    def __init__(self, num_features):\n",
        "        self.num_features = num_features\n",
        "        self.weights = torch.zeros(1, num_features, \n",
        "                                   dtype=torch.float32, device=device)\n",
        "        self.bias = torch.zeros(1, dtype=torch.float32, device=device)\n",
        "\n",
        "    def forward(self, x):\n",
        "        linear = torch.add(torch.mm(x, self.weights.t()), self.bias).view(-1) # net input\n",
        "        probas = self._sigmoid(linear)\n",
        "        return probas\n",
        "        \n",
        "    def backward(self, x, y, probas):  \n",
        "        grad_loss_wrt_z = probas.view(-1) - y\n",
        "        grad_loss_wrt_w = torch.mm(x.t(), grad_loss_wrt_z.view(-1, 1)).t()\n",
        "        grad_loss_wrt_b = torch.sum(grad_loss_wrt_z)\n",
        "        return grad_loss_wrt_w, grad_loss_wrt_b\n",
        "            \n",
        "    def predict_labels(self, x):\n",
        "        probas = self.forward(x)\n",
        "        labels = torch.where(probas >= .5, 1, 0) # threshold function\n",
        "        return labels    \n",
        "            \n",
        "    def evaluate(self, x, y):\n",
        "        labels = self.predict_labels(x).float()\n",
        "        accuracy = torch.sum(labels.view(-1) == y.float()).item() / y.size(0)\n",
        "        return accuracy\n",
        "    \n",
        "    def _sigmoid(self, z):\n",
        "        return 1. / (1. + torch.exp(-z))\n",
        "    \n",
        "    def _logit_cost(self, y, proba):\n",
        "        tmp1 = torch.mm(-y.view(1, -1), torch.log(proba.view(-1, 1)))\n",
        "        tmp2 = torch.mm((1 - y).view(1, -1), torch.log(1 - proba.view(-1, 1)))\n",
        "        return tmp1 - tmp2\n",
        "    \n",
        "    def train(self, x, y, num_epochs, learning_rate=0.01):\n",
        "        epoch_cost = []\n",
        "        for e in range(num_epochs):\n",
        "            \n",
        "            #### Compute outputs ####\n",
        "            probas = self.forward(x)\n",
        "            \n",
        "            #### Compute gradients ####\n",
        "            grad_w, grad_b = self.backward(x, y, probas)\n",
        "\n",
        "            #### Update weights ####\n",
        "            self.weights -= learning_rate * grad_w\n",
        "            self.bias -= learning_rate * grad_b\n",
        "            \n",
        "            #### Logging ####\n",
        "            cost = self._logit_cost(y, self.forward(x)) / x.size(0)\n",
        "            print('Epoch: %03d' % (e+1), end=\"\")\n",
        "            print(' | Train ACC: %.3f' % self.evaluate(x, y), end=\"\")\n",
        "            print(' | Cost: %.3f' % cost)\n",
        "            epoch_cost.append(cost)\n",
        "        return epoch_cost"
      ],
      "metadata": {
        "id": "3KAhyIOFoAqw"
      },
      "execution_count": 5,
      "outputs": []
    },
    {
      "cell_type": "code",
      "source": [
        "X_train_tensor = torch.tensor(X_train, dtype=torch.float32, device=device)\n",
        "y_train_tensor = torch.tensor(y_train, dtype=torch.float32, device=device)\n",
        "\n",
        "model1 = LogisticRegression1(num_features=2)\n",
        "epoch_cost = model1.train(X_train_tensor, y_train_tensor, num_epochs=30, learning_rate=0.1)\n",
        "\n",
        "print('\\nModel parameters:')\n",
        "print('  Weights: %s' % model1.weights)\n",
        "print('  Bias: %s' % model1.bias)"
      ],
      "metadata": {
        "colab": {
          "base_uri": "https://localhost:8080/"
        },
        "id": "hTC-dAw8oAlx",
        "outputId": "3e8f5f6f-9816-47fb-d72e-a3dfd4822e24"
      },
      "execution_count": 6,
      "outputs": [
        {
          "output_type": "stream",
          "name": "stdout",
          "text": [
            "Epoch: 001 | Train ACC: 0.973 | Cost: 0.055\n",
            "Epoch: 002 | Train ACC: 0.973 | Cost: 0.053\n",
            "Epoch: 003 | Train ACC: 0.973 | Cost: 0.051\n",
            "Epoch: 004 | Train ACC: 0.973 | Cost: 0.049\n",
            "Epoch: 005 | Train ACC: 0.973 | Cost: 0.048\n",
            "Epoch: 006 | Train ACC: 0.973 | Cost: 0.047\n",
            "Epoch: 007 | Train ACC: 0.973 | Cost: 0.046\n",
            "Epoch: 008 | Train ACC: 0.973 | Cost: 0.045\n",
            "Epoch: 009 | Train ACC: 0.973 | Cost: 0.044\n",
            "Epoch: 010 | Train ACC: 0.987 | Cost: 0.043\n",
            "Epoch: 011 | Train ACC: 0.987 | Cost: 0.042\n",
            "Epoch: 012 | Train ACC: 0.987 | Cost: 0.041\n",
            "Epoch: 013 | Train ACC: 0.987 | Cost: 0.041\n",
            "Epoch: 014 | Train ACC: 0.987 | Cost: 0.040\n",
            "Epoch: 015 | Train ACC: 0.987 | Cost: 0.039\n",
            "Epoch: 016 | Train ACC: 0.987 | Cost: 0.039\n",
            "Epoch: 017 | Train ACC: 1.000 | Cost: 0.038\n",
            "Epoch: 018 | Train ACC: 1.000 | Cost: 0.038\n",
            "Epoch: 019 | Train ACC: 1.000 | Cost: 0.037\n",
            "Epoch: 020 | Train ACC: 1.000 | Cost: 0.036\n",
            "Epoch: 021 | Train ACC: 1.000 | Cost: 0.036\n",
            "Epoch: 022 | Train ACC: 1.000 | Cost: 0.036\n",
            "Epoch: 023 | Train ACC: 1.000 | Cost: 0.035\n",
            "Epoch: 024 | Train ACC: 1.000 | Cost: 0.035\n",
            "Epoch: 025 | Train ACC: 1.000 | Cost: 0.034\n",
            "Epoch: 026 | Train ACC: 1.000 | Cost: 0.034\n",
            "Epoch: 027 | Train ACC: 1.000 | Cost: 0.033\n",
            "Epoch: 028 | Train ACC: 1.000 | Cost: 0.033\n",
            "Epoch: 029 | Train ACC: 1.000 | Cost: 0.033\n",
            "Epoch: 030 | Train ACC: 1.000 | Cost: 0.032\n",
            "\n",
            "Model parameters:\n",
            "  Weights: tensor([[5.0453, 3.4349]])\n",
            "  Bias: tensor([-0.7931])\n"
          ]
        }
      ]
    },
    {
      "cell_type": "markdown",
      "source": [
        "### Evaluating the Model"
      ],
      "metadata": {
        "id": "PkPwIsfZtgTG"
      }
    },
    {
      "cell_type": "code",
      "source": [
        "plt.plot(epoch_cost)\n",
        "plt.ylabel('Neg. Log Likelihood Loss')\n",
        "plt.xlabel('Epoch')\n",
        "plt.show()"
      ],
      "metadata": {
        "colab": {
          "base_uri": "https://localhost:8080/",
          "height": 542
        },
        "id": "9fKjSFlsoAjI",
        "outputId": "1c97482a-1caf-4e6f-af6a-0f59a004d67a"
      },
      "execution_count": 7,
      "outputs": [
        {
          "output_type": "stream",
          "name": "stderr",
          "text": [
            "/usr/local/lib/python3.10/dist-packages/numpy/core/shape_base.py:65: FutureWarning: The input object of type 'Tensor' is an array-like implementing one of the corresponding protocols (`__array__`, `__array_interface__` or `__array_struct__`); but not a sequence (or 0-D). In the future, this object will be coerced as if it was first converted using `np.array(obj)`. To retain the old behaviour, you have to either modify the type 'Tensor', or assign to an empty array created with `np.empty(correct_shape, dtype=object)`.\n",
            "  ary = asanyarray(ary)\n",
            "/usr/local/lib/python3.10/dist-packages/numpy/core/shape_base.py:65: VisibleDeprecationWarning: Creating an ndarray from ragged nested sequences (which is a list-or-tuple of lists-or-tuples-or ndarrays with different lengths or shapes) is deprecated. If you meant to do this, you must specify 'dtype=object' when creating the ndarray.\n",
            "  ary = asanyarray(ary)\n"
          ]
        },
        {
          "output_type": "display_data",
          "data": {
            "text/plain": [
              "<Figure size 640x480 with 1 Axes>"
            ],
            "image/png": "[encoded data removed]"
          },
          "metadata": {}
        }
      ]
    },
    {
      "cell_type": "code",
      "source": [
        "X_test_tensor = torch.tensor(X_test, dtype=torch.float32, device=device)\n",
        "y_test_tensor = torch.tensor(y_test, dtype=torch.float32, device=device)\n",
        "\n",
        "test_acc = model1.evaluate(X_test_tensor, y_test_tensor)\n",
        "print('Test set accuracy: %.2f%%' % (test_acc*100))"
      ],
      "metadata": {
        "colab": {
          "base_uri": "https://localhost:8080/"
        },
        "id": "tIwbvF1KoAge",
        "outputId": "80f3b991-3c49-4789-e29b-657cc4dd0b52"
      },
      "execution_count": 8,
      "outputs": [
        {
          "output_type": "stream",
          "name": "stdout",
          "text": [
            "Test set accuracy: 96.00%\n"
          ]
        }
      ]
    },
    {
      "cell_type": "code",
      "source": [
        "##########################\n",
        "### 2D Decision Boundary\n",
        "##########################\n",
        "\n",
        "w, b = model1.weights.view(-1), model1.bias\n",
        "\n",
        "x_min = -2\n",
        "y_min = ( (-(w[0] * x_min) - b[0]) \n",
        "          / w[1] )\n",
        "\n",
        "x_max = 2\n",
        "y_max = ( (-(w[0] * x_max) - b[0]) \n",
        "          / w[1] )\n",
        "\n",
        "\n",
        "fig, ax = plt.subplots(1, 2, sharex=True, figsize=(7, 3))\n",
        "\n",
        "ax[0].plot([x_min, x_max], [y_min, y_max])\n",
        "ax[1].plot([x_min, x_max], [y_min, y_max])\n",
        "\n",
        "ax[0].scatter(X_train[y_train==0, 0], X_train[y_train==0, 1], label='class 0', marker='o')\n",
        "ax[0].scatter(X_train[y_train==1, 0], X_train[y_train==1, 1], label='class 1', marker='s')\n",
        "\n",
        "ax[1].scatter(X_test[y_test==0, 0], X_test[y_test==0, 1], label='class 0', marker='o')\n",
        "ax[1].scatter(X_test[y_test==1, 0], X_test[y_test==1, 1], label='class 1', marker='s')\n",
        "\n",
        "ax[1].legend(loc='upper left')\n",
        "plt.show()"
      ],
      "metadata": {
        "colab": {
          "base_uri": "https://localhost:8080/",
          "height": 291
        },
        "id": "P_TDs-4zoAd6",
        "outputId": "6e95eac2-5d63-4e33-f01d-0eaa725f27e5"
      },
      "execution_count": 9,
      "outputs": [
        {
          "output_type": "display_data",
          "data": {
            "text/plain": [
              "<Figure size 700x300 with 2 Axes>"
            ],
            "image/png": "[encoded data removed]"
          },
          "metadata": {}
        }
      ]
    },
    {
      "cell_type": "markdown",
      "source": [
        "### High-level implementation using the nn.Module API\n",
        "\n"
      ],
      "metadata": {
        "id": "NL5WOKrr8gXk"
      }
    },
    {
      "cell_type": "code",
      "source": [
        "class LogisticRegression2(torch.nn.Module):\n",
        "\n",
        "    def __init__(self, num_features):\n",
        "        super(LogisticRegression2, self).__init__()\n",
        "        self.linear = torch.nn.Linear(num_features, 1)\n",
        "        # initialize weights to zeros here,\n",
        "        # since we used zero weights in the\n",
        "        # manual approach\n",
        "        \n",
        "        self.linear.weight.detach().zero_()\n",
        "        self.linear.bias.detach().zero_()\n",
        "        # Note: the trailing underscore\n",
        "        # means \"in-place operation\" in the context\n",
        "        # of PyTorch\n",
        "        \n",
        "    def forward(self, x):\n",
        "        logits = self.linear(x)\n",
        "        probas = torch.sigmoid(logits)\n",
        "        return probas\n",
        "\n",
        "model2 = LogisticRegression2(num_features=2).to(device)\n",
        "optimizer = torch.optim.SGD(model2.parameters(), lr=0.1)"
      ],
      "metadata": {
        "id": "D_wRYRDHoAbW"
      },
      "execution_count": 10,
      "outputs": []
    },
    {
      "cell_type": "code",
      "source": [
        "def comp_accuracy(label_var, pred_probas):\n",
        "    pred_labels = torch.where((pred_probas > 0.5), 1, 0).view(-1)\n",
        "    acc = torch.sum(pred_labels == label_var.view(-1)).float() / label_var.size(0)\n",
        "    return acc\n",
        "\n",
        "\n",
        "num_epochs = 30\n",
        "\n",
        "X_train_tensor = torch.tensor(X_train, dtype=torch.float32, device=device)\n",
        "y_train_tensor = torch.tensor(y_train, dtype=torch.float32, device=device).view(-1, 1)\n",
        "\n",
        "\n",
        "for epoch in range(num_epochs):\n",
        "    \n",
        "    #### Compute outputs ####\n",
        "    out = model2(X_train_tensor)\n",
        "    \n",
        "    #### Compute gradients ####\n",
        "    loss = F.binary_cross_entropy(out, y_train_tensor, reduction='sum')\n",
        "    optimizer.zero_grad()\n",
        "    loss.backward()\n",
        "    \n",
        "    #### Update weights ####  \n",
        "    optimizer.step()\n",
        "    \n",
        "    #### Logging ####      \n",
        "    pred_probas = model2(X_train_tensor)\n",
        "    acc = comp_accuracy(y_train_tensor, pred_probas)\n",
        "    print('Epoch: %03d' % (epoch + 1), end=\"\")\n",
        "    print(' | Train ACC: %.3f' % acc, end=\"\")\n",
        "    print(' | Cost: %.3f' % F.binary_cross_entropy(pred_probas, y_train_tensor))\n",
        "\n",
        "\n",
        "    \n",
        "print('\\nModel parameters:')\n",
        "print('  Weights: %s' % model2.linear.weight)\n",
        "print('  Bias: %s' % model2.linear.bias)"
      ],
      "metadata": {
        "colab": {
          "base_uri": "https://localhost:8080/"
        },
        "id": "JuLx5MD2oAYt",
        "outputId": "5fba6da8-6288-4a05-9d09-67acb5d498e5"
      },
      "execution_count": 11,
      "outputs": [
        {
          "output_type": "stream",
          "name": "stdout",
          "text": [
            "Epoch: 001 | Train ACC: 0.973 | Cost: 0.055\n",
            "Epoch: 002 | Train ACC: 0.973 | Cost: 0.053\n",
            "Epoch: 003 | Train ACC: 0.973 | Cost: 0.051\n",
            "Epoch: 004 | Train ACC: 0.973 | Cost: 0.049\n",
            "Epoch: 005 | Train ACC: 0.973 | Cost: 0.048\n",
            "Epoch: 006 | Train ACC: 0.973 | Cost: 0.047\n",
            "Epoch: 007 | Train ACC: 0.973 | Cost: 0.046\n",
            "Epoch: 008 | Train ACC: 0.973 | Cost: 0.045\n",
            "Epoch: 009 | Train ACC: 0.973 | Cost: 0.044\n",
            "Epoch: 010 | Train ACC: 0.987 | Cost: 0.043\n",
            "Epoch: 011 | Train ACC: 0.987 | Cost: 0.042\n",
            "Epoch: 012 | Train ACC: 0.987 | Cost: 0.041\n",
            "Epoch: 013 | Train ACC: 0.987 | Cost: 0.041\n",
            "Epoch: 014 | Train ACC: 0.987 | Cost: 0.040\n",
            "Epoch: 015 | Train ACC: 0.987 | Cost: 0.039\n",
            "Epoch: 016 | Train ACC: 0.987 | Cost: 0.039\n",
            "Epoch: 017 | Train ACC: 1.000 | Cost: 0.038\n",
            "Epoch: 018 | Train ACC: 1.000 | Cost: 0.038\n",
            "Epoch: 019 | Train ACC: 1.000 | Cost: 0.037\n",
            "Epoch: 020 | Train ACC: 1.000 | Cost: 0.036\n",
            "Epoch: 021 | Train ACC: 1.000 | Cost: 0.036\n",
            "Epoch: 022 | Train ACC: 1.000 | Cost: 0.036\n",
            "Epoch: 023 | Train ACC: 1.000 | Cost: 0.035\n",
            "Epoch: 024 | Train ACC: 1.000 | Cost: 0.035\n",
            "Epoch: 025 | Train ACC: 1.000 | Cost: 0.034\n",
            "Epoch: 026 | Train ACC: 1.000 | Cost: 0.034\n",
            "Epoch: 027 | Train ACC: 1.000 | Cost: 0.033\n",
            "Epoch: 028 | Train ACC: 1.000 | Cost: 0.033\n",
            "Epoch: 029 | Train ACC: 1.000 | Cost: 0.033\n",
            "Epoch: 030 | Train ACC: 1.000 | Cost: 0.032\n",
            "\n",
            "Model parameters:\n",
            "  Weights: Parameter containing:\n",
            "tensor([[5.0453, 3.4349]], requires_grad=True)\n",
            "  Bias: Parameter containing:\n",
            "tensor([-0.7931], requires_grad=True)\n"
          ]
        }
      ]
    },
    {
      "cell_type": "code",
      "source": [
        "X_test_tensor = torch.tensor(X_test, dtype=torch.float32, device=device)\n",
        "y_test_tensor = torch.tensor(y_test, dtype=torch.float32, device=device)\n",
        "\n",
        "pred_probas = model2(X_test_tensor)\n",
        "test_acc = comp_accuracy(y_test_tensor, pred_probas)\n",
        "\n",
        "print('Test set accuracy: %.2f%%' % (test_acc*100))"
      ],
      "metadata": {
        "colab": {
          "base_uri": "https://localhost:8080/"
        },
        "id": "vPtY91U0oAWA",
        "outputId": "d9c08de8-23c3-429a-c312-551d119336d5"
      },
      "execution_count": 12,
      "outputs": [
        {
          "output_type": "stream",
          "name": "stdout",
          "text": [
            "Test set accuracy: 96.00%\n"
          ]
        }
      ]
    },
    {
      "cell_type": "code",
      "source": [
        "##########################\n",
        "### 2D Decision Boundary\n",
        "##########################\n",
        "\n",
        "w, b = model2.linear.weight.detach().view(-1), model2.linear.bias.detach()\n",
        "\n",
        "x_min = -2\n",
        "y_min = ( (-(w[0] * x_min) - b[0]) \n",
        "          / w[1] )\n",
        "\n",
        "x_max = 2\n",
        "y_max = ( (-(w[0] * x_max) - b[0]) \n",
        "          / w[1] )\n",
        "\n",
        "\n",
        "fig, ax = plt.subplots(1, 2, sharex=True, figsize=(7, 3))\n",
        "ax[0].plot([x_min, x_max], [y_min, y_max])\n",
        "ax[1].plot([x_min, x_max], [y_min, y_max])\n",
        "\n",
        "ax[0].scatter(X_train[y_train==0, 0], X_train[y_train==0, 1], label='class 0', marker='o')\n",
        "ax[0].scatter(X_train[y_train==1, 0], X_train[y_train==1, 1], label='class 1', marker='s')\n",
        "\n",
        "ax[1].scatter(X_test[y_test==0, 0], X_test[y_test==0, 1], label='class 0', marker='o')\n",
        "ax[1].scatter(X_test[y_test==1, 0], X_test[y_test==1, 1], label='class 1', marker='s')\n",
        "\n",
        "ax[1].legend(loc='upper left')\n",
        "plt.show()"
      ],
      "metadata": {
        "colab": {
          "base_uri": "https://localhost:8080/",
          "height": 291
        },
        "id": "jHkbhJ12oAQ8",
        "outputId": "7bac22ac-9c64-4681-8fc9-3abdd5aa93fe"
      },
      "execution_count": 13,
      "outputs": [
        {
          "output_type": "display_data",
          "data": {
            "text/plain": [
              "<Figure size 700x300 with 2 Axes>"
            ],
            "image/png": "[encoded data removed]"
          },
          "metadata": {}
        }
      ]
    },
    {
      "cell_type": "code",
      "source": [],
      "metadata": {
        "id": "osT1RUn5oAPe"
      },
      "execution_count": null,
      "outputs": []
    },
    {
      "cell_type": "code",
      "source": [],
      "metadata": {
        "id": "S9MO_jKvoALh"
      },
      "execution_count": null,
      "outputs": []
    },
    {
      "cell_type": "code",
      "source": [],
      "metadata": {
        "id": "sDJOXST3oAI8"
      },
      "execution_count": null,
      "outputs": []
    },
    {
      "cell_type": "code",
      "source": [],
      "metadata": {
        "id": "W3spMK8poAGF"
      },
      "execution_count": null,
      "outputs": []
    },
    {
      "cell_type": "code",
      "source": [],
      "metadata": {
        "id": "yOVCMuWMoADI"
      },
      "execution_count": null,
      "outputs": []
    },
    {
      "cell_type": "code",
      "source": [],
      "metadata": {
        "id": "s7dSyIreoAA3"
      },
      "execution_count": null,
      "outputs": []
    },
    {
      "cell_type": "code",
      "source": [],
      "metadata": {
        "id": "XDa_yyq_n_90"
      },
      "execution_count": null,
      "outputs": []
    },
    {
      "cell_type": "code",
      "source": [],
      "metadata": {
        "id": "_cuB5Ik4n_7A"
      },
      "execution_count": null,
      "outputs": []
    },
    {
      "cell_type": "code",
      "source": [],
      "metadata": {
        "id": "bES6xM8wn_4R"
      },
      "execution_count": null,
      "outputs": []
    },
    {
      "cell_type": "code",
      "source": [],
      "metadata": {
        "id": "2W0lQoUNn_1r"
      },
      "execution_count": null,
      "outputs": []
    },
    {
      "cell_type": "code",
      "source": [],
      "metadata": {
        "id": "QmTKn90sn_zG"
      },
      "execution_count": null,
      "outputs": []
    },
    {
      "cell_type": "code",
      "source": [],
      "metadata": {
        "id": "AxM-K_Fsn_we"
      },
      "execution_count": null,
      "outputs": []
    },
    {
      "cell_type": "code",
      "source": [],
      "metadata": {
        "id": "JXI3SRcbn_tr"
      },
      "execution_count": null,
      "outputs": []
    },
    {
      "cell_type": "code",
      "source": [],
      "metadata": {
        "id": "7-G_Sns4n_ow"
      },
      "execution_count": null,
      "outputs": []
    },
    {
      "cell_type": "code",
      "source": [],
      "metadata": {
        "id": "_7DbnvDhn_js"
      },
      "execution_count": null,
      "outputs": []
    },
    {
      "cell_type": "code",
      "source": [],
      "metadata": {
        "id": "GDNQSxe2n_g9"
      },
      "execution_count": null,
      "outputs": []
    },
    {
      "cell_type": "code",
      "source": [],
      "metadata": {
        "id": "FsqUDCiZn_eY"
      },
      "execution_count": null,
      "outputs": []
    },
    {
      "cell_type": "code",
      "source": [],
      "metadata": {
        "id": "4FmZSFZFn_bt"
      },
      "execution_count": null,
      "outputs": []
    }
  ]
}